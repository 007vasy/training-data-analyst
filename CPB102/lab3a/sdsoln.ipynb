{
 "cells": [
  {
   "cell_type": "markdown",
   "metadata": {},
   "source": [
    "<h1> Structured Data Solution </h1>\n",
    "\n",
    "Use the structured data package in Datalab to build a model."
   ]
  },
  {
   "cell_type": "code",
   "execution_count": null,
   "metadata": {
    "collapsed": true
   },
   "outputs": [],
   "source": [
    "import os\n",
    "PROJECT = 'cloud-training-demos'    # CHANGE THIS\n",
    "BUCKET = 'cloud-training-demos-ml'  # CHANGE THIS\n",
    "REGION = 'us-central1' # CHANGE THIS\n",
    "\n",
    "os.environ['PROJECT'] = PROJECT # for bash\n",
    "os.environ['BUCKET'] = BUCKET # for bash\n",
    "os.environ['REGION'] = REGION # for bash"
   ]
  },
  {
   "cell_type": "code",
   "execution_count": null,
   "metadata": {
    "collapsed": false
   },
   "outputs": [],
   "source": [
    "%bash\n",
    "echo \"project=$PROJECT\"\n",
    "echo \"bucket=$BUCKET\"\n",
    "echo \"region=$REGION\"\n",
    "gcloud config set project $PROJECT\n",
    "gcloud config set compute/region $REGION\n",
    "gcloud beta ml init-project -q"
   ]
  },
  {
   "cell_type": "code",
   "execution_count": null,
   "metadata": {
    "collapsed": false
   },
   "outputs": [],
   "source": [
    "import tensorflow as tf\n",
    "import google.cloud.ml as cml\n",
    "import datalab_solutions.structured_data as sd\n",
    "print('tf ' + str(tf.__version__))\n",
    "print('sd ' + str(sd.__version__))\n",
    "print('cml ' + str(cml.__version__))"
   ]
  },
  {
   "cell_type": "markdown",
   "metadata": {},
   "source": [
    "<h2> Set up schema file </h2>\n",
    "\n",
    "Schema of training/test. Same format as BigQuery.  STRING/INTEGER/FLOAT only."
   ]
  },
  {
   "cell_type": "code",
   "execution_count": null,
   "metadata": {
    "collapsed": false
   },
   "outputs": [],
   "source": [
    "%writefile taxifare.json\n",
    "[\n",
    "    {\n",
    "        \"mode\": \"NULLABLE\",\n",
    "        \"name\": \"fare_amount\",\n",
    "        \"type\": \"FLOAT\"\n",
    "    },  \n",
    "    {\n",
    "        \"mode\": \"NULLABLE\",\n",
    "        \"name\": \"pickuplon\",\n",
    "        \"type\": \"FLOAT\"\n",
    "    },\n",
    "    {\n",
    "        \"mode\": \"NULLABLE\",\n",
    "        \"name\": \"pickuplat\",\n",
    "        \"type\": \"FLOAT\"\n",
    "    },\n",
    "    {\n",
    "        \"mode\": \"NULLABLE\",\n",
    "        \"name\": \"dropofflon\",\n",
    "        \"type\": \"FLOAT\"\n",
    "    },\n",
    "    {\n",
    "        \"mode\": \"NULLABLE\",\n",
    "        \"name\": \"dropofflat\",\n",
    "        \"type\": \"FLOAT\"\n",
    "    },\n",
    "    {\n",
    "        \"mode\": \"NULLABLE\",\n",
    "        \"name\": \"passengers\",\n",
    "        \"type\": \"FLOAT\"\n",
    "    },\n",
    "    {\n",
    "        \"mode\": \"REQUIRED\",\n",
    "        \"name\": \"key\",\n",
    "        \"type\": \"STRING\"\n",
    "    } \n",
    "]"
   ]
  },
  {
   "cell_type": "markdown",
   "metadata": {},
   "source": [
    "<h2> Local preprocessing, training and prediction </h2>"
   ]
  },
  {
   "cell_type": "code",
   "execution_count": null,
   "metadata": {
    "collapsed": true
   },
   "outputs": [],
   "source": [
    "!rm -rf taxi_preproc taxi_model"
   ]
  },
  {
   "cell_type": "code",
   "execution_count": null,
   "metadata": {
    "collapsed": false
   },
   "outputs": [],
   "source": [
    "sd.local_preprocess(\n",
    "  input_file_pattern=os.path.join('../lab1a/', 'taxi-train*'),\n",
    "  output_dir=os.path.join('.', 'taxi_preproc'),\n",
    "  schema_file=os.path.join('.', 'taxifare.json'),\n",
    ")"
   ]
  },
  {
   "cell_type": "code",
   "execution_count": null,
   "metadata": {
    "collapsed": false
   },
   "outputs": [],
   "source": [
    "sd.local_train(\n",
    "  train_file_pattern=os.path.join('../lab1a/', 'taxi-train*'),\n",
    "  eval_file_pattern=os.path.join('../lab1a/', 'taxi-valid*'),\n",
    "  preprocess_output_dir=os.path.join('.', 'taxi_preproc'),\n",
    "  output_dir=os.path.join('.', 'taxi_model'),\n",
    "  key_column='key',\n",
    "  model_type='dnn_regression',\n",
    "#  top_n=3,\n",
    "  max_steps=250,\n",
    "  layer_sizes=[64, 4]\n",
    ")"
   ]
  },
  {
   "cell_type": "code",
   "execution_count": null,
   "metadata": {
    "collapsed": false
   },
   "outputs": [],
   "source": [
    "# the true fare_amount (in the input) is optional, but useful for comparison\n",
    "sd.local_predict(\n",
    "  model_dir=os.path.join('.', 'taxi_model/model'),\n",
    "  data=['6.5,-73.981648,40.755953,-73.985661,40.746788,1,0',\n",
    "'5.5,-73.967817,40.787522,-73.959902,40.780477,1,1',\n",
    "'6.9,-73.991977,40.729534,-73.996962,40.744703,1,2',\n",
    "'12.5,-73.978102,40.75265,-73.999422,40.714375,2,3',\n",
    "'6.9,-73.989687,40.771346,-73.972793,40.780418,2,4',\n",
    "'4.0,-73.865865,40.770915,-73.86766,40.768462,2,5',\n",
    "'12.6,-73.978121,40.763045,-73.925264,40.768753,1,6',\n",
    "'4.9,-73.996283,40.743747,-73.995543,40.731898,1,7',\n",
    "'6.5,-73.990883,40.750464,-73.97307,40.750428,2,8',\n",
    "'11.3,-73.971663,40.763008,-73.992665,40.752327,3,9']\n",
    ")"
   ]
  },
  {
   "cell_type": "code",
   "execution_count": null,
   "metadata": {
    "collapsed": true
   },
   "outputs": [],
   "source": [
    "!rm -rf batch_predict"
   ]
  },
  {
   "cell_type": "code",
   "execution_count": null,
   "metadata": {
    "collapsed": false
   },
   "outputs": [],
   "source": [
    "sd.local_batch_predict(\n",
    "  model_dir=os.path.join('.', 'taxi_model/model'),\n",
    "  prediction_input_file=os.path.join('../lab1a/', 'taxi-valid*'),\n",
    "  output_dir=os.path.join('./', 'batch_predict'),\n",
    "  output_format='csv'\n",
    ")"
   ]
  },
  {
   "cell_type": "code",
   "execution_count": null,
   "metadata": {
    "collapsed": false
   },
   "outputs": [],
   "source": [
    "!ls batch_predict"
   ]
  },
  {
   "cell_type": "code",
   "execution_count": null,
   "metadata": {
    "collapsed": false
   },
   "outputs": [],
   "source": [
    "!head -5 batch_predict/predictions*.csv"
   ]
  },
  {
   "cell_type": "markdown",
   "metadata": {},
   "source": [
    "<h2> Cloud preprocessing and training </h2>"
   ]
  },
  {
   "cell_type": "code",
   "execution_count": null,
   "metadata": {
    "collapsed": false
   },
   "outputs": [],
   "source": [
    "%bash\n",
    "echo $BUCKET\n",
    "gsutil cp \\\n",
    "   /content/training-data-analyst/CPB102/lab1a/*.csv \\\n",
    "  ./taxifare.json \\\n",
    "   gs://${BUCKET}/taxifare/smallinput/"
   ]
  },
  {
   "cell_type": "code",
   "execution_count": null,
   "metadata": {
    "collapsed": false
   },
   "outputs": [],
   "source": [
    "%bash\n",
    "echo $BUCKET\n",
    "gsutil rm -r gs://${BUCKET}/taxifare/smallinput/taxi_preproc gs://${BUCKET}/taxifare/smallinput/taxi_model"
   ]
  },
  {
   "cell_type": "code",
   "execution_count": null,
   "metadata": {
    "collapsed": false
   },
   "outputs": [],
   "source": [
    "CLOUD_ROOT='gs://{}/taxifare/smallinput/'.format(BUCKET)\n",
    "sd.cloud_preprocess(\n",
    "  input_file_pattern=os.path.join(CLOUD_ROOT, 'taxi-train*'),\n",
    "  output_dir=os.path.join(CLOUD_ROOT, 'taxi_preproc'),\n",
    "  schema_file=os.path.join(CLOUD_ROOT, 'taxifare.json'),\n",
    ")"
   ]
  },
  {
   "cell_type": "code",
   "execution_count": null,
   "metadata": {
    "collapsed": false
   },
   "outputs": [],
   "source": [
    "CLOUD_ROOT='gs://{}/taxifare/smallinput/'.format(BUCKET)\n",
    "sd.cloud_train(\n",
    "  train_file_pattern=os.path.join(CLOUD_ROOT, 'taxi-train*'),\n",
    "  eval_file_pattern=os.path.join(CLOUD_ROOT, 'taxi-valid*'),\n",
    "  preprocess_output_dir=os.path.join(CLOUD_ROOT, 'taxi_preproc'),\n",
    "  output_dir=os.path.join(CLOUD_ROOT, 'taxi_model'),\n",
    "  key_column='key',\n",
    "  model_type='dnn_regression',\n",
    "#  top_n=3,\n",
    "  max_steps=250,\n",
    "  layer_sizes=[64, 4],\n",
    "  region=REGION,\n",
    "  scale_tier='BASIC'\n",
    ")"
   ]
  },
  {
   "cell_type": "markdown",
   "metadata": {},
   "source": [
    "<h2> Cloud deploy model and predict </h2>"
   ]
  },
  {
   "cell_type": "code",
   "execution_count": null,
   "metadata": {
    "collapsed": false
   },
   "outputs": [],
   "source": [
    "%bash\n",
    "MODEL_NAME=\"taxifare\"\n",
    "MODEL_VERSION=\"v1\"\n",
    "CLOUD_ROOT=\"gs://${BUCKET}/taxifare/smallinput/\"\n",
    "echo \"Deleting and deploying $MODEL_NAME $MODEL_VERSION from $CLOUD_ROOT ... this will take a few minutes\"\n",
    "gcloud beta ml versions delete ${MODEL_VERSION} --model ${MODEL_NAME}\n",
    "gcloud beta ml models delete ${MODEL_NAME}\n",
    "gcloud beta ml models create ${MODEL_NAME} --regions $REGION\n",
    "gcloud beta ml versions create ${MODEL_VERSION} --model ${MODEL_NAME} --origin ${CLOUD_ROOT}taxi_model/model"
   ]
  },
  {
   "cell_type": "code",
   "execution_count": null,
   "metadata": {
    "collapsed": false
   },
   "outputs": [],
   "source": [
    "# the true fare_amount (in the input) is optional, but useful for comparison\n",
    "sd.cloud_predict(\n",
    "  model_name='taxifare',\n",
    "  model_version='v1',\n",
    "  data=['6.5,-73.981648,40.755953,-73.985661,40.746788,1,0',\n",
    "'5.5,-73.967817,40.787522,-73.959902,40.780477,1,1',\n",
    "'6.9,-73.991977,40.729534,-73.996962,40.744703,1,2',\n",
    "'12.5,-73.978102,40.75265,-73.999422,40.714375,2,3',\n",
    "'6.9,-73.989687,40.771346,-73.972793,40.780418,2,4',\n",
    "'4.0,-73.865865,40.770915,-73.86766,40.768462,2,5',\n",
    "'12.6,-73.978121,40.763045,-73.925264,40.768753,1,6',\n",
    "'4.9,-73.996283,40.743747,-73.995543,40.731898,1,7',\n",
    "'6.5,-73.990883,40.750464,-73.97307,40.750428,2,8',\n",
    "'11.3,-73.971663,40.763008,-73.992665,40.752327,3,9']\n",
    ")"
   ]
  }
 ],
 "metadata": {
  "kernelspec": {
   "display_name": "Python 2",
   "language": "python",
   "name": "python2"
  },
  "language_info": {
   "codemirror_mode": {
    "name": "ipython",
    "version": 2
   },
   "file_extension": ".py",
   "mimetype": "text/x-python",
   "name": "python",
   "nbconvert_exporter": "python",
   "pygments_lexer": "ipython2",
   "version": "2.7.9"
  }
 },
 "nbformat": 4,
 "nbformat_minor": 2
}
