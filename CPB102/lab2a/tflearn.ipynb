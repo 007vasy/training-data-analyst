{
 "cells": [
  {
   "cell_type": "markdown",
   "metadata": {},
   "source": [
    "<h1> 2a. Getting started with TensorFlow </h1>\n",
    "\n",
    "This notebook is Lab2a of CPB 102, Google's course on Machine Learning using Cloud ML.\n",
    "\n",
    "In this notebook, we will create a machine learning model using tf.learn and evaluate its performance.  The dataset is rather small (7700 samples), so we can do it all in-memory.  We will also simply pass the raw data in as-is. "
   ]
  },
  {
   "cell_type": "code",
   "execution_count": 1,
   "metadata": {
    "collapsed": true
   },
   "outputs": [],
   "source": [
    "import datalab.bigquery as bq\n",
    "import tensorflow as tf\n",
    "import pandas as pd\n",
    "import numpy as np\n",
    "import shutil"
   ]
  },
  {
   "cell_type": "markdown",
   "metadata": {},
   "source": [
    "Read data created in Lab1a."
   ]
  },
  {
   "cell_type": "code",
   "execution_count": 2,
   "metadata": {
    "collapsed": false
   },
   "outputs": [
    {
     "data": {
      "text/html": [
       "<div>\n",
       "<table border=\"1\" class=\"dataframe\">\n",
       "  <thead>\n",
       "    <tr style=\"text-align: right;\">\n",
       "      <th></th>\n",
       "      <th>pickuplon</th>\n",
       "      <th>pickuplat</th>\n",
       "      <th>dropofflon</th>\n",
       "      <th>dropofflat</th>\n",
       "      <th>passengers</th>\n",
       "      <th>fare_amount</th>\n",
       "    </tr>\n",
       "  </thead>\n",
       "  <tbody>\n",
       "    <tr>\n",
       "      <th>0</th>\n",
       "      <td>-73.992050</td>\n",
       "      <td>40.751380</td>\n",
       "      <td>-73.954217</td>\n",
       "      <td>40.766692</td>\n",
       "      <td>2</td>\n",
       "      <td>16.5</td>\n",
       "    </tr>\n",
       "    <tr>\n",
       "      <th>1</th>\n",
       "      <td>-73.993046</td>\n",
       "      <td>40.728159</td>\n",
       "      <td>-73.988222</td>\n",
       "      <td>40.731995</td>\n",
       "      <td>1</td>\n",
       "      <td>3.3</td>\n",
       "    </tr>\n",
       "    <tr>\n",
       "      <th>2</th>\n",
       "      <td>-73.955591</td>\n",
       "      <td>40.782526</td>\n",
       "      <td>-73.972944</td>\n",
       "      <td>40.751067</td>\n",
       "      <td>1</td>\n",
       "      <td>10.5</td>\n",
       "    </tr>\n",
       "    <tr>\n",
       "      <th>3</th>\n",
       "      <td>-73.964290</td>\n",
       "      <td>40.773350</td>\n",
       "      <td>-73.965440</td>\n",
       "      <td>40.755430</td>\n",
       "      <td>1</td>\n",
       "      <td>10.0</td>\n",
       "    </tr>\n",
       "    <tr>\n",
       "      <th>4</th>\n",
       "      <td>-73.969442</td>\n",
       "      <td>40.797912</td>\n",
       "      <td>-73.982227</td>\n",
       "      <td>40.765247</td>\n",
       "      <td>1</td>\n",
       "      <td>9.7</td>\n",
       "    </tr>\n",
       "  </tbody>\n",
       "</table>\n",
       "</div>"
      ],
      "text/plain": [
       "   pickuplon  pickuplat  dropofflon  dropofflat  passengers  fare_amount\n",
       "0 -73.992050  40.751380  -73.954217   40.766692           2         16.5\n",
       "1 -73.993046  40.728159  -73.988222   40.731995           1          3.3\n",
       "2 -73.955591  40.782526  -73.972944   40.751067           1         10.5\n",
       "3 -73.964290  40.773350  -73.965440   40.755430           1         10.0\n",
       "4 -73.969442  40.797912  -73.982227   40.765247           1          9.7"
      ]
     },
     "execution_count": 2,
     "metadata": {},
     "output_type": "execute_result"
    }
   ],
   "source": [
    "def read_dataset(filename):\n",
    "  return pd.read_csv(filename, header=None, names=['pickuplon','pickuplat','dropofflon','dropofflat','passengers','fare_amount'])\n",
    "\n",
    "df_train = read_dataset('../lab1a/taxi-train.csv')\n",
    "df_valid = read_dataset('../lab1a/taxi-valid.csv')\n",
    "df_test = read_dataset('../lab1a/taxi-test.csv')\n",
    "df_train[:5]"
   ]
  },
  {
   "cell_type": "markdown",
   "metadata": {},
   "source": [
    "Setup a couple of variables based on the above dataset"
   ]
  },
  {
   "cell_type": "code",
   "execution_count": 3,
   "metadata": {
    "collapsed": false
   },
   "outputs": [],
   "source": [
    "FEATURE_COLS = np.arange(0,5)\n",
    "TARGET_COL   = 'fare_amount'"
   ]
  },
  {
   "cell_type": "markdown",
   "metadata": {},
   "source": [
    "<h3> Linear Regression with tf.learn Estimators framework </h3>"
   ]
  },
  {
   "cell_type": "code",
   "execution_count": 4,
   "metadata": {
    "collapsed": false
   },
   "outputs": [
    {
     "name": "stderr",
     "output_type": "stream",
     "text": [
      "WARNING:tensorflow:Setting feature info to TensorSignature(dtype=tf.float32, shape=TensorShape([Dimension(None), Dimension(5)]), is_sparse=False)\n",
      "WARNING:tensorflow:Setting targets info to TensorSignature(dtype=tf.float64, shape=TensorShape([Dimension(None)]), is_sparse=False)\n",
      "INFO:tensorflow:Transforming feature_column _RealValuedColumn(column_name='', dimension=5, default_value=None, dtype=tf.float32)\n",
      "INFO:tensorflow:Create CheckpointSaver\n",
      "INFO:tensorflow:Step 1: loss = 218.036\n",
      "INFO:tensorflow:Step 101: loss = 89.9517\n",
      "INFO:tensorflow:Step 201: loss = 89.9487\n",
      "INFO:tensorflow:Saving checkpoints for 300 into taxi_model/model.ckpt.\n",
      "INFO:tensorflow:Step 301: loss = 89.9468\n",
      "INFO:tensorflow:Step 401: loss = 89.9453\n",
      "INFO:tensorflow:Step 501: loss = 89.944\n",
      "INFO:tensorflow:Saving checkpoints for 600 into taxi_model/model.ckpt.\n",
      "INFO:tensorflow:Step 601: loss = 89.9429\n",
      "INFO:tensorflow:Step 701: loss = 89.9419\n",
      "INFO:tensorflow:Step 801: loss = 89.941\n",
      "INFO:tensorflow:Saving checkpoints for 900 into taxi_model/model.ckpt.\n",
      "INFO:tensorflow:Step 901: loss = 89.9402\n",
      "INFO:tensorflow:Saving checkpoints for 1000 into taxi_model/model.ckpt.\n",
      "INFO:tensorflow:Loss for final step: 89.9394.\n"
     ]
    }
   ],
   "source": [
    "tf.logging.set_verbosity(tf.logging.INFO)\n",
    "predictors = df_train.iloc[:,FEATURE_COLS].values # np.ndarray\n",
    "targets = df_train[TARGET_COL].values\n",
    "features = tf.contrib.learn.infer_real_valued_columns_from_input(predictors)\n",
    "shutil.rmtree('taxi_model', ignore_errors=True) # start fresh each time\n",
    "model = tf.contrib.learn.LinearRegressor(feature_columns=features, model_dir='taxi_model')\n",
    "model = model.fit(predictors, targets, steps=1000)"
   ]
  },
  {
   "cell_type": "markdown",
   "metadata": {},
   "source": [
    "Evaluate on the validation data (we should defer using the test data to after we have selected a final model)."
   ]
  },
  {
   "cell_type": "code",
   "execution_count": 5,
   "metadata": {
    "collapsed": false
   },
   "outputs": [
    {
     "name": "stderr",
     "output_type": "stream",
     "text": [
      "INFO:tensorflow:Transforming feature_column _RealValuedColumn(column_name='', dimension=5, default_value=None, dtype=tf.float32)\n",
      "INFO:tensorflow:Loading model from checkpoint: taxi_model/model.ckpt-1000-?????-of-00001.\n",
      "INFO:tensorflow:Transforming feature_column _RealValuedColumn(column_name='', dimension=5, default_value=None, dtype=tf.float32)\n",
      "INFO:tensorflow:Loading model from checkpoint: taxi_model/model.ckpt-1000-?????-of-00001.\n"
     ]
    },
    {
     "name": "stdout",
     "output_type": "stream",
     "text": [
      "Train RMSE = 9.48363845152\n",
      "Valid RMSE = 9.00198329991\n"
     ]
    }
   ],
   "source": [
    "def compute_rmse(actual, predicted):\n",
    "  return np.sqrt(np.mean((actual-predicted)**2))\n",
    "\n",
    "def print_rmse(model):\n",
    "  print \"Train RMSE = {0}\".format(compute_rmse(df_train[TARGET_COL], model.predict(df_train.iloc[:,FEATURE_COLS].values)))\n",
    "  print \"Valid RMSE = {0}\".format(compute_rmse(df_valid[TARGET_COL], model.predict(df_valid.iloc[:,FEATURE_COLS].values)))\n",
    "\n",
    "print_rmse(model)"
   ]
  },
  {
   "cell_type": "markdown",
   "metadata": {},
   "source": [
    "This is nowhere near our benchmark (RMSE of $5.70 or so), but it serves to demonstrate what TensorFlow code looks like.  Let's use this model for prediction."
   ]
  },
  {
   "cell_type": "code",
   "execution_count": 6,
   "metadata": {
    "collapsed": false
   },
   "outputs": [
    {
     "name": "stderr",
     "output_type": "stream",
     "text": [
      "INFO:tensorflow:Transforming feature_column _RealValuedColumn(column_name='', dimension=5, default_value=None, dtype=tf.float32)\n",
      "INFO:tensorflow:Loading model from checkpoint: taxi_model/model.ckpt-1000-?????-of-00001.\n"
     ]
    },
    {
     "name": "stdout",
     "output_type": "stream",
     "text": [
      "[ 11.31593513  11.32413197  11.31696892  11.3170681   11.31684685]\n",
      "    pickuplon  pickuplat  dropofflon  dropofflat  passengers  fare_amount\n",
      "10 -73.978947  40.747617  -74.012342   40.701557           1         15.5\n",
      "11 -73.960992  40.760830  -73.955862   40.772037           3          4.5\n",
      "12 -73.953117  40.776119  -74.003342   40.743809           1         18.0\n",
      "13 -73.997927  40.756622  -73.985392   40.745540           1         10.5\n",
      "14 -73.985128  40.748082  -73.976318   40.765825           1          7.7\n"
     ]
    }
   ],
   "source": [
    "ROWS = np.arange(10,15)\n",
    "inputs = df_test.iloc[ROWS,FEATURE_COLS]\n",
    "trainedmodel = tf.contrib.learn.LinearRegressor(\n",
    "  feature_columns=tf.contrib.learn.infer_real_valued_columns_from_input(inputs.values),\n",
    "  model_dir='taxi_model')\n",
    "print trainedmodel.predict(inputs.values)\n",
    "print df_test.iloc[ROWS,:]"
   ]
  },
  {
   "cell_type": "markdown",
   "metadata": {},
   "source": [
    "This explains why the RMSE was so high -- the model essentially predicts $11.32 for every trip.  Would a more complex model help? Let's try using a deep neural network.  The code to do this is quite straightforward as well."
   ]
  },
  {
   "cell_type": "markdown",
   "metadata": {},
   "source": [
    "<h3> Deep Neural Network regression </h3>"
   ]
  },
  {
   "cell_type": "code",
   "execution_count": 7,
   "metadata": {
    "collapsed": false
   },
   "outputs": [
    {
     "name": "stderr",
     "output_type": "stream",
     "text": [
      "WARNING:tensorflow:Setting feature info to TensorSignature(dtype=tf.float32, shape=TensorShape([Dimension(None), Dimension(5)]), is_sparse=False)\n",
      "WARNING:tensorflow:Setting targets info to TensorSignature(dtype=tf.float64, shape=TensorShape([Dimension(None)]), is_sparse=False)\n",
      "INFO:tensorflow:Transforming feature_column _RealValuedColumn(column_name='', dimension=5, default_value=None, dtype=tf.float32)\n",
      "INFO:tensorflow:Create CheckpointSaver\n",
      "INFO:tensorflow:Step 1: loss = 110.621\n",
      "INFO:tensorflow:Step 101: loss = 177.964\n",
      "INFO:tensorflow:Step 201: loss = 162.341\n",
      "INFO:tensorflow:Saving checkpoints for 300 into taxi_model/model.ckpt.\n",
      "INFO:tensorflow:Step 301: loss = 151.408\n",
      "INFO:tensorflow:Step 401: loss = 142.96\n",
      "INFO:tensorflow:Step 501: loss = 136.117\n",
      "INFO:tensorflow:Saving checkpoints for 600 into taxi_model/model.ckpt.\n",
      "INFO:tensorflow:Step 601: loss = 130.419\n",
      "INFO:tensorflow:Step 701: loss = 125.586\n",
      "INFO:tensorflow:Step 801: loss = 121.432\n",
      "INFO:tensorflow:Saving checkpoints for 900 into taxi_model/model.ckpt.\n",
      "INFO:tensorflow:Step 901: loss = 117.827\n",
      "INFO:tensorflow:Saving checkpoints for 1000 into taxi_model/model.ckpt.\n",
      "INFO:tensorflow:Loss for final step: 114.706.\n",
      "INFO:tensorflow:Transforming feature_column _RealValuedColumn(column_name='', dimension=5, default_value=None, dtype=tf.float32)\n",
      "INFO:tensorflow:Loading model from checkpoint: taxi_model/model.ckpt-1000-?????-of-00001.\n",
      "INFO:tensorflow:Transforming feature_column _RealValuedColumn(column_name='', dimension=5, default_value=None, dtype=tf.float32)\n",
      "INFO:tensorflow:Loading model from checkpoint: taxi_model/model.ckpt-1000-?????-of-00001.\n"
     ]
    },
    {
     "name": "stdout",
     "output_type": "stream",
     "text": [
      "Train RMSE = 10.7098367157\n",
      "Valid RMSE = 10.1138401491\n"
     ]
    }
   ],
   "source": [
    "shutil.rmtree('taxi_model', ignore_errors=True) # start fresh each time\n",
    "model = tf.contrib.learn.DNNRegressor(feature_columns=features, hidden_units=[128, 100, 8], model_dir='taxi_model')\n",
    "model = model.fit(predictors, targets, steps=1000)\n",
    "print_rmse(model)"
   ]
  },
  {
   "cell_type": "markdown",
   "metadata": {},
   "source": [
    "We are not beating our benchmark with either model ... what's up?  Well, we may be using TensorFlow for Machine Learning, but we are not yet using it well.  That's what the rest of this course is about!"
   ]
  },
  {
   "cell_type": "markdown",
   "metadata": {},
   "source": [
    "Copyright 2016 Google Inc. Licensed under the Apache License, Version 2.0 (the \"License\"); you may not use this file except in compliance with the License. You may obtain a copy of the License at http://www.apache.org/licenses/LICENSE-2.0 Unless required by applicable law or agreed to in writing, software distributed under the License is distributed on an \"AS IS\" BASIS, WITHOUT WARRANTIES OR CONDITIONS OF ANY KIND, either express or implied. See the License for the specific language governing permissions and limitations under the License"
   ]
  }
 ],
 "metadata": {
  "kernelspec": {
   "display_name": "Python 2",
   "language": "python",
   "name": "python2"
  },
  "language_info": {
   "codemirror_mode": {
    "name": "ipython",
    "version": 2
   },
   "file_extension": ".py",
   "mimetype": "text/x-python",
   "name": "python",
   "nbconvert_exporter": "python",
   "pygments_lexer": "ipython2",
   "version": "2.7.9"
  }
 },
 "nbformat": 4,
 "nbformat_minor": 0
}
