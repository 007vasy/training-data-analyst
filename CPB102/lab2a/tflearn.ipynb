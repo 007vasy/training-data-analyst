{
 "cells": [
  {
   "cell_type": "markdown",
   "metadata": {},
   "source": [
    "<h1> Getting started with tf.learn </h1>"
   ]
  },
  {
   "cell_type": "code",
   "execution_count": 19,
   "metadata": {
    "collapsed": true
   },
   "outputs": [],
   "source": [
    "import datalab.bigquery as bq\n",
    "import tensorflow as tf\n",
    "import pandas as pd\n",
    "import numpy as np\n",
    "import shutil"
   ]
  },
  {
   "cell_type": "markdown",
   "metadata": {},
   "source": [
    "Read data created in Lab1a."
   ]
  },
  {
   "cell_type": "code",
   "execution_count": 59,
   "metadata": {
    "collapsed": false
   },
   "outputs": [
    {
     "data": {
      "text/html": [
       "<div>\n",
       "<table border=\"1\" class=\"dataframe\">\n",
       "  <thead>\n",
       "    <tr style=\"text-align: right;\">\n",
       "      <th></th>\n",
       "      <th>hour</th>\n",
       "      <th>dayofweek</th>\n",
       "      <th>pickuplon</th>\n",
       "      <th>pickuplat</th>\n",
       "      <th>dropofflon</th>\n",
       "      <th>dropofflat</th>\n",
       "      <th>passengers</th>\n",
       "      <th>fare_amount</th>\n",
       "    </tr>\n",
       "  </thead>\n",
       "  <tbody>\n",
       "    <tr>\n",
       "      <th>0</th>\n",
       "      <td>6</td>\n",
       "      <td>2</td>\n",
       "      <td>-73.989192</td>\n",
       "      <td>40.748615</td>\n",
       "      <td>-73.970180</td>\n",
       "      <td>40.756380</td>\n",
       "      <td>1</td>\n",
       "      <td>12.00</td>\n",
       "    </tr>\n",
       "    <tr>\n",
       "      <th>1</th>\n",
       "      <td>6</td>\n",
       "      <td>2</td>\n",
       "      <td>-73.974967</td>\n",
       "      <td>40.735102</td>\n",
       "      <td>-73.776493</td>\n",
       "      <td>40.644974</td>\n",
       "      <td>3</td>\n",
       "      <td>49.57</td>\n",
       "    </tr>\n",
       "    <tr>\n",
       "      <th>2</th>\n",
       "      <td>17</td>\n",
       "      <td>5</td>\n",
       "      <td>-73.995045</td>\n",
       "      <td>40.725998</td>\n",
       "      <td>-74.004505</td>\n",
       "      <td>40.734823</td>\n",
       "      <td>1</td>\n",
       "      <td>6.10</td>\n",
       "    </tr>\n",
       "    <tr>\n",
       "      <th>3</th>\n",
       "      <td>11</td>\n",
       "      <td>0</td>\n",
       "      <td>-73.967158</td>\n",
       "      <td>40.772232</td>\n",
       "      <td>-73.991385</td>\n",
       "      <td>40.748908</td>\n",
       "      <td>1</td>\n",
       "      <td>12.00</td>\n",
       "    </tr>\n",
       "    <tr>\n",
       "      <th>4</th>\n",
       "      <td>16</td>\n",
       "      <td>0</td>\n",
       "      <td>-73.977785</td>\n",
       "      <td>40.752055</td>\n",
       "      <td>-73.979140</td>\n",
       "      <td>40.762352</td>\n",
       "      <td>5</td>\n",
       "      <td>6.50</td>\n",
       "    </tr>\n",
       "  </tbody>\n",
       "</table>\n",
       "</div>"
      ],
      "text/plain": [
       "   hour  dayofweek  pickuplon  pickuplat  dropofflon  dropofflat  passengers  \\\n",
       "0     6          2 -73.989192  40.748615  -73.970180   40.756380           1   \n",
       "1     6          2 -73.974967  40.735102  -73.776493   40.644974           3   \n",
       "2    17          5 -73.995045  40.725998  -74.004505   40.734823           1   \n",
       "3    11          0 -73.967158  40.772232  -73.991385   40.748908           1   \n",
       "4    16          0 -73.977785  40.752055  -73.979140   40.762352           5   \n",
       "\n",
       "   fare_amount  \n",
       "0        12.00  \n",
       "1        49.57  \n",
       "2         6.10  \n",
       "3        12.00  \n",
       "4         6.50  "
      ]
     },
     "execution_count": 59,
     "metadata": {},
     "output_type": "execute_result"
    }
   ],
   "source": [
    "def read_dataset(filename):\n",
    "  return pd.read_csv(filename, header=None, names=['hour','dayofweek','pickuplon','pickuplat','dropofflon','dropofflat','passengers','fare_amount'])\n",
    "\n",
    "df_train = read_dataset('../lab1a/taxi-train.csv')\n",
    "df_valid = read_dataset('../lab1a/taxi-valid.csv')\n",
    "df_test = read_dataset('../lab1a/taxi-test.csv')\n",
    "df_train[:5]"
   ]
  },
  {
   "cell_type": "markdown",
   "metadata": {},
   "source": [
    "Setup a couple of variables based on the above dataset"
   ]
  },
  {
   "cell_type": "code",
   "execution_count": 56,
   "metadata": {
    "collapsed": false
   },
   "outputs": [],
   "source": [
    "FEATURE_COLS = np.arange(0,7)\n",
    "TARGET_COL   = 'fare_amount'"
   ]
  },
  {
   "cell_type": "markdown",
   "metadata": {},
   "source": [
    "<h3> Linear Regression with tf.learn Estimators framework </h3>"
   ]
  },
  {
   "cell_type": "code",
   "execution_count": 58,
   "metadata": {
    "collapsed": false
   },
   "outputs": [
    {
     "name": "stderr",
     "output_type": "stream",
     "text": [
      "WARNING:tensorflow:Setting feature info to TensorSignature(dtype=tf.float32, shape=TensorShape([Dimension(None), Dimension(7)]), is_sparse=False)\n",
      "WARNING:tensorflow:Setting targets info to TensorSignature(dtype=tf.float64, shape=TensorShape([Dimension(None)]), is_sparse=False)\n",
      "INFO:tensorflow:Transforming feature_column _RealValuedColumn(column_name='', dimension=7, default_value=None, dtype=tf.float32)\n",
      "INFO:tensorflow:Create CheckpointSaver\n",
      "INFO:tensorflow:Step 1: loss = 215.62\n",
      "INFO:tensorflow:Step 101: loss = 88.8777\n",
      "INFO:tensorflow:Step 201: loss = 88.8666\n",
      "INFO:tensorflow:Saving checkpoints for 300 into taxi_model/model.ckpt.\n",
      "INFO:tensorflow:Step 301: loss = 88.8632\n",
      "INFO:tensorflow:Step 401: loss = 88.8614\n",
      "INFO:tensorflow:Step 501: loss = 88.8599\n",
      "INFO:tensorflow:Saving checkpoints for 600 into taxi_model/model.ckpt.\n",
      "INFO:tensorflow:Step 601: loss = 88.8587\n",
      "INFO:tensorflow:Step 701: loss = 88.8576\n",
      "INFO:tensorflow:Step 801: loss = 88.8567\n",
      "INFO:tensorflow:Saving checkpoints for 900 into taxi_model/model.ckpt.\n",
      "INFO:tensorflow:Step 901: loss = 88.8559\n",
      "INFO:tensorflow:Saving checkpoints for 1000 into taxi_model/model.ckpt.\n",
      "INFO:tensorflow:Loss for final step: 88.8551.\n"
     ]
    }
   ],
   "source": [
    "tf.logging.set_verbosity(tf.logging.INFO)\n",
    "predictors = df_train.iloc[:,FEATURE_COLS].values # np.ndarray\n",
    "targets = df_train[TARGET_COL].values\n",
    "features = tf.contrib.learn.infer_real_valued_columns_from_input(predictors)\n",
    "shutil.rmtree('taxi_model', ignore_errors=True) # start fresh each time\n",
    "model = tf.contrib.learn.LinearRegressor(feature_columns=features, model_dir='taxi_model')\n",
    "model = model.fit(predictors, targets, steps=1000)"
   ]
  },
  {
   "cell_type": "markdown",
   "metadata": {},
   "source": [
    "Evaluate on the validation data (we should defer using the test data to after we have selected a final model)."
   ]
  },
  {
   "cell_type": "code",
   "execution_count": 61,
   "metadata": {
    "collapsed": false
   },
   "outputs": [
    {
     "name": "stderr",
     "output_type": "stream",
     "text": [
      "INFO:tensorflow:Transforming feature_column _RealValuedColumn(column_name='', dimension=7, default_value=None, dtype=tf.float32)\n",
      "INFO:tensorflow:Loading model from checkpoint: taxi_model/model.ckpt-1000-?????-of-00001.\n",
      "INFO:tensorflow:Transforming feature_column _RealValuedColumn(column_name='', dimension=7, default_value=None, dtype=tf.float32)\n",
      "INFO:tensorflow:Loading model from checkpoint: taxi_model/model.ckpt-1000-?????-of-00001.\n"
     ]
    },
    {
     "name": "stdout",
     "output_type": "stream",
     "text": [
      "Train RMSE = 9.42629858515\n",
      "Valid RMSE = 9.48171981254\n"
     ]
    }
   ],
   "source": [
    "def compute_rmse(actual, predicted):\n",
    "  return np.sqrt(np.mean((actual-predicted)**2))\n",
    "\n",
    "def print_rmse(model):\n",
    "  print \"Train RMSE = {0}\".format(compute_rmse(df_train[TARGET_COL], model.predict(df_train.iloc[:,FEATURE_COLS].values)))\n",
    "  print \"Valid RMSE = {0}\".format(compute_rmse(df_valid[TARGET_COL], model.predict(df_valid.iloc[:,FEATURE_COLS].values)))\n",
    "\n",
    "print_rmse(model)"
   ]
  },
  {
   "cell_type": "markdown",
   "metadata": {},
   "source": [
    "<h3> Deep Neural Network regression </h3>"
   ]
  },
  {
   "cell_type": "code",
   "execution_count": 62,
   "metadata": {
    "collapsed": false
   },
   "outputs": [
    {
     "name": "stderr",
     "output_type": "stream",
     "text": [
      "WARNING:tensorflow:Setting feature info to TensorSignature(dtype=tf.float32, shape=TensorShape([Dimension(None), Dimension(7)]), is_sparse=False)\n",
      "WARNING:tensorflow:Setting targets info to TensorSignature(dtype=tf.float64, shape=TensorShape([Dimension(None)]), is_sparse=False)\n",
      "INFO:tensorflow:Transforming feature_column _RealValuedColumn(column_name='', dimension=7, default_value=None, dtype=tf.float32)\n",
      "INFO:tensorflow:Create CheckpointSaver\n",
      "INFO:tensorflow:Step 1: loss = 1127.37\n",
      "INFO:tensorflow:Step 101: loss = 88.9023\n",
      "INFO:tensorflow:Step 201: loss = 88.8968\n",
      "INFO:tensorflow:Saving checkpoints for 300 into taxi_model/model.ckpt.\n",
      "INFO:tensorflow:Step 301: loss = 88.8929\n",
      "INFO:tensorflow:Step 401: loss = 88.8898\n",
      "INFO:tensorflow:Step 501: loss = 88.8874\n",
      "INFO:tensorflow:Saving checkpoints for 600 into taxi_model/model.ckpt.\n",
      "INFO:tensorflow:Step 601: loss = 88.8853\n",
      "INFO:tensorflow:Step 701: loss = 88.8835\n",
      "INFO:tensorflow:Step 801: loss = 88.882\n",
      "INFO:tensorflow:Saving checkpoints for 900 into taxi_model/model.ckpt.\n",
      "INFO:tensorflow:Step 901: loss = 88.8806\n",
      "INFO:tensorflow:Saving checkpoints for 1000 into taxi_model/model.ckpt.\n",
      "INFO:tensorflow:Loss for final step: 88.8794.\n",
      "INFO:tensorflow:Transforming feature_column _RealValuedColumn(column_name='', dimension=7, default_value=None, dtype=tf.float32)\n",
      "INFO:tensorflow:Loading model from checkpoint: taxi_model/model.ckpt-1000-?????-of-00001.\n",
      "INFO:tensorflow:Transforming feature_column _RealValuedColumn(column_name='', dimension=7, default_value=None, dtype=tf.float32)\n",
      "INFO:tensorflow:Loading model from checkpoint: taxi_model/model.ckpt-1000-?????-of-00001.\n"
     ]
    },
    {
     "name": "stdout",
     "output_type": "stream",
     "text": [
      "Train RMSE = 9.42758506393\n",
      "Valid RMSE = 9.47688854651\n"
     ]
    }
   ],
   "source": [
    "shutil.rmtree('taxi_model', ignore_errors=True) # start fresh each time\n",
    "model = tf.contrib.learn.DNNRegressor(feature_columns=features, hidden_units=[128, 8], model_dir='taxi_model')\n",
    "model = model.fit(predictors, targets, steps=1000)\n",
    "print_rmse(model)"
   ]
  },
  {
   "cell_type": "markdown",
   "metadata": {},
   "source": [
    "We are not quite beating our benchmark yet, and the non-linear model doesn't do any better ... what's up?  Well, we may be using TensorFlow for Machine Learning, but we are not yet using it well.  That's what the rest of this course is about!"
   ]
  },
  {
   "cell_type": "code",
   "execution_count": null,
   "metadata": {
    "collapsed": true
   },
   "outputs": [],
   "source": []
  }
 ],
 "metadata": {
  "kernelspec": {
   "display_name": "Python 2",
   "language": "python",
   "name": "python2"
  },
  "language_info": {
   "codemirror_mode": {
    "name": "ipython",
    "version": 2
   },
   "file_extension": ".py",
   "mimetype": "text/x-python",
   "name": "python",
   "nbconvert_exporter": "python",
   "pygments_lexer": "ipython2",
   "version": "2.7.9"
  }
 },
 "nbformat": 4,
 "nbformat_minor": 0
}
