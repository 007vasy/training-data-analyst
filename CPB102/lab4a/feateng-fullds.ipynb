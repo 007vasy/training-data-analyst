{
 "cells": [
  {
   "cell_type": "markdown",
   "metadata": {},
   "source": [
    "<h1> Feature Engineering </h1>\n",
    "\n",
    "This notebook runs preprocessing on the full dataset.  It is the same as feateng.ipynb except for the change to do the whole thing."
   ]
  },
  {
   "cell_type": "code",
   "execution_count": 7,
   "metadata": {
    "collapsed": false
   },
   "outputs": [
    {
     "name": "stdout",
     "output_type": "stream",
     "text": [
      "0.11.0rc0\n",
      "gs://cloud-ml/sdk/cloudml-0.1.6-alpha.dataflow.tar.gz\n"
     ]
    }
   ],
   "source": [
    "import google.cloud.ml as ml\n",
    "import tensorflow as tf\n",
    "print tf.__version__\n",
    "print ml.sdk_location"
   ]
  },
  {
   "cell_type": "markdown",
   "metadata": {},
   "source": [
    "<h1> Specifying query to pull the data </h1>\n",
    "\n",
    "Same as feateng.ipynb"
   ]
  },
  {
   "cell_type": "code",
   "execution_count": 8,
   "metadata": {
    "collapsed": false
   },
   "outputs": [
    {
     "name": "stdout",
     "output_type": "stream",
     "text": [
      "\n",
      "SELECT\n",
      "  DAYOFWEEK(pickup_datetime)*1.0 AS dayofweek,\n",
      "  HOUR(pickup_datetime)*1.0 AS hourofday,\n",
      "  pickup_longitude, pickup_latitude, \n",
      "  dropoff_longitude, dropoff_latitude,\n",
      "  passenger_count*1.0 AS passenger_count,\n",
      "  (tolls_amount + fare_amount) as fare_amount\n",
      "FROM\n",
      "  [nyc-tlc:yellow.trips]\n",
      "WHERE\n",
      "    trip_distance > 0\n",
      "    AND fare_amount >= 2.5\n",
      "    AND pickup_longitude > -78\n",
      "    AND pickup_longitude < -70\n",
      "    AND dropoff_longitude > -78\n",
      "    AND dropoff_longitude < -70\n",
      "    AND pickup_latitude > 37\n",
      "    AND pickup_latitude < 45\n",
      "    AND dropoff_latitude > 37\n",
      "    AND dropoff_latitude < 45\n",
      "    AND passenger_count > 0 \n",
      "   AND ABS(HASH(pickup_datetime)) % 100000 == 2\n"
     ]
    }
   ],
   "source": [
    "def create_query(phase, EVERY_N):\n",
    "  \"\"\"\n",
    "  phase: 1=train 2=valid\n",
    "  \"\"\"\n",
    "  base_query = \"\"\"\n",
    "SELECT\n",
    "  DAYOFWEEK(pickup_datetime)*1.0 AS dayofweek,\n",
    "  HOUR(pickup_datetime)*1.0 AS hourofday,\n",
    "  pickup_longitude, pickup_latitude, \n",
    "  dropoff_longitude, dropoff_latitude,\n",
    "  passenger_count*1.0 AS passenger_count,\n",
    "  (tolls_amount + fare_amount) as fare_amount\n",
    "FROM\n",
    "  [nyc-tlc:yellow.trips]\n",
    "WHERE\n",
    "    trip_distance > 0\n",
    "    AND fare_amount >= 2.5\n",
    "    AND pickup_longitude > -78\n",
    "    AND pickup_longitude < -70\n",
    "    AND dropoff_longitude > -78\n",
    "    AND dropoff_longitude < -70\n",
    "    AND pickup_latitude > 37\n",
    "    AND pickup_latitude < 45\n",
    "    AND dropoff_latitude > 37\n",
    "    AND dropoff_latitude < 45\n",
    "    AND passenger_count > 0 \n",
    "  \"\"\"\n",
    "\n",
    "  if EVERY_N == None:\n",
    "    if phase < 2:\n",
    "      # training\n",
    "      query = \"{0} AND ABS(HASH(pickup_datetime)) % 4 < 2\".format(base_query)\n",
    "    else:\n",
    "      query = \"{0} AND ABS(HASH(pickup_datetime)) % 4 == {1}\".format(base_query, phase)\n",
    "  else:\n",
    "      query = \"{0} AND ABS(HASH(pickup_datetime)) % {1} == {2}\".format(base_query, EVERY_N, phase)\n",
    "\n",
    "  \n",
    "    \n",
    "  return query\n",
    "    \n",
    "print create_query(2, 100000)"
   ]
  },
  {
   "cell_type": "markdown",
   "metadata": {},
   "source": [
    "<h2> Preprocessing features using Cloud ML SDK </h2>\n",
    "\n",
    "We could discretize the lat-lon columns using the SDK, but we'll defer that to TensorFlow to enable it to be a hyper-parameter if necessary."
   ]
  },
  {
   "cell_type": "code",
   "execution_count": 10,
   "metadata": {
    "collapsed": false
   },
   "outputs": [
    {
     "name": "stdout",
     "output_type": "stream",
     "text": [
      "gs://cloud-ml/sdk/cloudml-0.1.6-alpha.dataflow.tar.gz\n"
     ]
    }
   ],
   "source": [
    "import google.cloud.ml.features as features\n",
    "\n",
    "import google.cloud.ml as ml\n",
    "print ml.sdk_location\n",
    "\n",
    "class TaxifareFeatures(object):\n",
    "  csv_columns = ('dayofweek', 'hourofday', 'pickup_longitude','pickup_latitude','dropoff_longitude','dropoff_latitude','passenger_count','fare_amount')\n",
    "  fare_amount = features.target('fare_amount').continuous()\n",
    "  pcount = features.numeric('passenger_count').scale()\n",
    "  plat = features.numeric('pickup_latitude').scale()\n",
    "  dlat = features.numeric('dropoff_latitude').scale()\n",
    "  plon = features.numeric('pickup_longitude').scale()\n",
    "  dlon = features.numeric('dropoff_longitude').scale()\n",
    "  dayofweek = features.numeric('dayofweek').identity()\n",
    "  hourofday = features.numeric('hourofday').identity()"
   ]
  },
  {
   "cell_type": "markdown",
   "metadata": {},
   "source": [
    "<h2> Preprocessing Dataflow job from BigQuery </h2>\n",
    "\n",
    "This code reads from BigQuery and runs the above preprocessing, saving the data on Google Cloud.  Make sure to change the BUCKET and PROJECt variable to be yours.\n",
    "\n",
    "If you are running on the Cloud, you should go to the GCP Console to look at the status of the job. If you are running locally, you'll get a Running bar and it will take up to 5 minutes."
   ]
  },
  {
   "cell_type": "code",
   "execution_count": 15,
   "metadata": {
    "collapsed": false
   },
   "outputs": [
    {
     "name": "stderr",
     "output_type": "stream",
     "text": [
      "CommandException: 1 files/objects could not be removed.\n"
     ]
    }
   ],
   "source": [
    "%bash\n",
    "BUCKET=cloud-training-demos\n",
    "gsutil -m rm -r -f gs://$BUCKET/taxifare/taxi_preproc4a_full"
   ]
  },
  {
   "cell_type": "code",
   "execution_count": 16,
   "metadata": {
    "collapsed": false
   },
   "outputs": [
    {
     "data": {
      "text/plain": [
       "<DataflowPipelineResult <Job\n",
       " id: u'2016-09-28_05_27_01-7932406974919974864'\n",
       " projectId: u'cloud-training-demos'\n",
       " steps: []\n",
       " tempFiles: []\n",
       " type: TypeValueValuesEnum(JOB_TYPE_BATCH, 1)> at 0x7ff749b692d0>"
      ]
     },
     "execution_count": 16,
     "metadata": {},
     "output_type": "execute_result"
    }
   ],
   "source": [
    "# imports\n",
    "import apache_beam as beam\n",
    "import google.cloud.ml as ml\n",
    "import google.cloud.ml.dataflow.io.tfrecordio as tfrecordio\n",
    "import google.cloud.ml.io as io\n",
    "import os\n",
    "import datetime\n",
    "\n",
    "# Change as needed\n",
    "BUCKET = 'cloud-training-demos'\n",
    "PROJECT = 'cloud-training-demos'\n",
    "EVERY_N = 100 # Change this to None to preprocess full dataset\n",
    "\n",
    "# Direct runs locally; Dataflow runs on the Cloud.\n",
    "#RUNNER = 'DirectPipelineRunner'\n",
    "RUNNER = 'DataflowPipelineRunner'\n",
    "\n",
    "OUTPUT_DIR = 'gs://{0}/taxifare/taxi_preproc4a_full/'.format(BUCKET)\n",
    "options = {\n",
    "    'staging_location': os.path.join(OUTPUT_DIR, 'tmp', 'staging'),\n",
    "    'temp_location': os.path.join(OUTPUT_DIR, 'tmp'),\n",
    "    'job_name': 'preprocess-fulldataset' + '-' + datetime.datetime.now().strftime('%y%m%d-%H%M%S'),\n",
    "    'project': PROJECT,\n",
    "    'extra_packages': [ml.sdk_location],\n",
    "    'teardown_policy': 'TEARDOWN_ALWAYS',\n",
    "    'no_save_main_session': True\n",
    "}\n",
    "opts = beam.pipeline.PipelineOptions(flags=[], **options)\n",
    "pipeline = beam.Pipeline(RUNNER, options=opts)\n",
    "\n",
    "# defines\n",
    "feature_set = TaxifareFeatures()\n",
    "train_query = create_query(1, EVERY_N)\n",
    "valid_query = create_query(2, EVERY_N)\n",
    "train = pipeline | 'read_train' >> beam.Read(beam.io.BigQuerySource(query=train_query))\n",
    "eval = pipeline | 'read_valid' >> beam.Read(beam.io.BigQuerySource(query=valid_query))\n",
    "\n",
    "(metadata, train_features, eval_features) = ((train, eval) |\n",
    "   'Preprocess' >> ml.Preprocess(feature_set))\n",
    "\n",
    "(metadata\n",
    "   | 'SaveMetadata'\n",
    "   >> io.SaveMetadata(os.path.join(OUTPUT_DIR, 'metadata.yaml')))\n",
    "(train_features\n",
    "   | 'WriteTraining'\n",
    "   >> io.SaveFeatures(os.path.join(OUTPUT_DIR, 'features_train')))\n",
    "(eval_features\n",
    "   | 'WriteEval'\n",
    "   >> io.SaveFeatures(os.path.join(OUTPUT_DIR, 'features_eval')))\n",
    "\n",
    "# run pipeline\n",
    "pipeline.run()"
   ]
  },
  {
   "cell_type": "code",
   "execution_count": 17,
   "metadata": {
    "collapsed": false
   },
   "outputs": [
    {
     "name": "stdout",
     "output_type": "stream",
     "text": [
      "gs://cloud-training-demos/taxifare/taxi_preproc4a_full/features_eval-00000-of-00012.tfrecord.gz\r\n",
      "gs://cloud-training-demos/taxifare/taxi_preproc4a_full/features_eval-00001-of-00012.tfrecord.gz\r\n",
      "gs://cloud-training-demos/taxifare/taxi_preproc4a_full/features_eval-00002-of-00012.tfrecord.gz\r\n",
      "gs://cloud-training-demos/taxifare/taxi_preproc4a_full/features_eval-00003-of-00012.tfrecord.gz\r\n",
      "gs://cloud-training-demos/taxifare/taxi_preproc4a_full/features_eval-00004-of-00012.tfrecord.gz\r\n",
      "gs://cloud-training-demos/taxifare/taxi_preproc4a_full/features_eval-00005-of-00012.tfrecord.gz\r\n",
      "gs://cloud-training-demos/taxifare/taxi_preproc4a_full/features_eval-00006-of-00012.tfrecord.gz\r\n",
      "gs://cloud-training-demos/taxifare/taxi_preproc4a_full/features_eval-00007-of-00012.tfrecord.gz\r\n",
      "gs://cloud-training-demos/taxifare/taxi_preproc4a_full/features_eval-00008-of-00012.tfrecord.gz\r\n",
      "gs://cloud-training-demos/taxifare/taxi_preproc4a_full/features_eval-00009-of-00012.tfrecord.gz\r\n",
      "gs://cloud-training-demos/taxifare/taxi_preproc4a_full/features_eval-00010-of-00012.tfrecord.gz\r\n",
      "gs://cloud-training-demos/taxifare/taxi_preproc4a_full/features_eval-00011-of-00012.tfrecord.gz\r\n",
      "gs://cloud-training-demos/taxifare/taxi_preproc4a_full/features_train-00000-of-00027.tfrecord.gz\r\n",
      "gs://cloud-training-demos/taxifare/taxi_preproc4a_full/features_train-00001-of-00027.tfrecord.gz\r\n",
      "gs://cloud-training-demos/taxifare/taxi_preproc4a_full/features_train-00002-of-00027.tfrecord.gz\r\n",
      "gs://cloud-training-demos/taxifare/taxi_preproc4a_full/features_train-00003-of-00027.tfrecord.gz\r\n",
      "gs://cloud-training-demos/taxifare/taxi_preproc4a_full/features_train-00004-of-00027.tfrecord.gz\r\n",
      "gs://cloud-training-demos/taxifare/taxi_preproc4a_full/features_train-00005-of-00027.tfrecord.gz\r\n",
      "gs://cloud-training-demos/taxifare/taxi_preproc4a_full/features_train-00006-of-00027.tfrecord.gz\r\n",
      "gs://cloud-training-demos/taxifare/taxi_preproc4a_full/features_train-00007-of-00027.tfrecord.gz\r\n",
      "gs://cloud-training-demos/taxifare/taxi_preproc4a_full/features_train-00008-of-00027.tfrecord.gz\r\n",
      "gs://cloud-training-demos/taxifare/taxi_preproc4a_full/features_train-00009-of-00027.tfrecord.gz\r\n",
      "gs://cloud-training-demos/taxifare/taxi_preproc4a_full/features_train-00010-of-00027.tfrecord.gz\r\n",
      "gs://cloud-training-demos/taxifare/taxi_preproc4a_full/features_train-00011-of-00027.tfrecord.gz\r\n",
      "gs://cloud-training-demos/taxifare/taxi_preproc4a_full/features_train-00012-of-00027.tfrecord.gz\r\n",
      "gs://cloud-training-demos/taxifare/taxi_preproc4a_full/features_train-00013-of-00027.tfrecord.gz\r\n",
      "gs://cloud-training-demos/taxifare/taxi_preproc4a_full/features_train-00014-of-00027.tfrecord.gz\r\n",
      "gs://cloud-training-demos/taxifare/taxi_preproc4a_full/features_train-00015-of-00027.tfrecord.gz\r\n",
      "gs://cloud-training-demos/taxifare/taxi_preproc4a_full/features_train-00016-of-00027.tfrecord.gz\r\n",
      "gs://cloud-training-demos/taxifare/taxi_preproc4a_full/features_train-00017-of-00027.tfrecord.gz\r\n",
      "gs://cloud-training-demos/taxifare/taxi_preproc4a_full/features_train-00018-of-00027.tfrecord.gz\r\n",
      "gs://cloud-training-demos/taxifare/taxi_preproc4a_full/features_train-00019-of-00027.tfrecord.gz\r\n",
      "gs://cloud-training-demos/taxifare/taxi_preproc4a_full/features_train-00020-of-00027.tfrecord.gz\r\n",
      "gs://cloud-training-demos/taxifare/taxi_preproc4a_full/features_train-00021-of-00027.tfrecord.gz\r\n",
      "gs://cloud-training-demos/taxifare/taxi_preproc4a_full/features_train-00022-of-00027.tfrecord.gz\r\n",
      "gs://cloud-training-demos/taxifare/taxi_preproc4a_full/features_train-00023-of-00027.tfrecord.gz\r\n",
      "gs://cloud-training-demos/taxifare/taxi_preproc4a_full/features_train-00024-of-00027.tfrecord.gz\r\n",
      "gs://cloud-training-demos/taxifare/taxi_preproc4a_full/features_train-00025-of-00027.tfrecord.gz\r\n",
      "gs://cloud-training-demos/taxifare/taxi_preproc4a_full/features_train-00026-of-00027.tfrecord.gz\r\n",
      "gs://cloud-training-demos/taxifare/taxi_preproc4a_full/metadata.yaml\r\n",
      "gs://cloud-training-demos/taxifare/taxi_preproc4a_full/tmp/\r\n"
     ]
    }
   ],
   "source": [
    "!gsutil ls gs://cloud-training-demos/taxifare/taxi_preproc4a_full/"
   ]
  },
  {
   "cell_type": "markdown",
   "metadata": {},
   "source": [
    "Copyright 2016 Google Inc. Licensed under the Apache License, Version 2.0 (the \"License\"); you may not use this file except in compliance with the License. You may obtain a copy of the License at http://www.apache.org/licenses/LICENSE-2.0 Unless required by applicable law or agreed to in writing, software distributed under the License is distributed on an \"AS IS\" BASIS, WITHOUT WARRANTIES OR CONDITIONS OF ANY KIND, either express or implied. See the License for the specific language governing permissions and limitations under the License"
   ]
  }
 ],
 "metadata": {
  "kernelspec": {
   "display_name": "Python 2",
   "language": "python",
   "name": "python2"
  },
  "language_info": {
   "codemirror_mode": {
    "name": "ipython",
    "version": 2
   },
   "file_extension": ".py",
   "mimetype": "text/x-python",
   "name": "python",
   "nbconvert_exporter": "python",
   "pygments_lexer": "ipython2",
   "version": "2.7.9"
  }
 },
 "nbformat": 4,
 "nbformat_minor": 0
}
