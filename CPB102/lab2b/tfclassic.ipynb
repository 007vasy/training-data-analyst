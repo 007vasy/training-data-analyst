{
 "cells": [
  {
   "cell_type": "markdown",
   "metadata": {},
   "source": [
    "<h1> Working with 'raw' TensorFlow </h1>"
   ]
  },
  {
   "cell_type": "code",
   "execution_count": 1,
   "metadata": {
    "collapsed": true
   },
   "outputs": [],
   "source": [
    "import datalab.bigquery as bq\n",
    "import tensorflow as tf\n",
    "import pandas as pd\n",
    "import numpy as np\n",
    "import shutil"
   ]
  },
  {
   "cell_type": "markdown",
   "metadata": {},
   "source": [
    "Code to read data and compute error is the same as Lab2a."
   ]
  },
  {
   "cell_type": "code",
   "execution_count": 2,
   "metadata": {
    "collapsed": false
   },
   "outputs": [
    {
     "data": {
      "text/html": [
       "<div>\n",
       "<table border=\"1\" class=\"dataframe\">\n",
       "  <thead>\n",
       "    <tr style=\"text-align: right;\">\n",
       "      <th></th>\n",
       "      <th>hour</th>\n",
       "      <th>dayofweek</th>\n",
       "      <th>pickuplon</th>\n",
       "      <th>pickuplat</th>\n",
       "      <th>dropofflon</th>\n",
       "      <th>dropofflat</th>\n",
       "      <th>passengers</th>\n",
       "      <th>fare_amount</th>\n",
       "    </tr>\n",
       "  </thead>\n",
       "  <tbody>\n",
       "    <tr>\n",
       "      <th>0</th>\n",
       "      <td>6</td>\n",
       "      <td>2</td>\n",
       "      <td>-73.989192</td>\n",
       "      <td>40.748615</td>\n",
       "      <td>-73.970180</td>\n",
       "      <td>40.756380</td>\n",
       "      <td>1</td>\n",
       "      <td>12.00</td>\n",
       "    </tr>\n",
       "    <tr>\n",
       "      <th>1</th>\n",
       "      <td>6</td>\n",
       "      <td>2</td>\n",
       "      <td>-73.974967</td>\n",
       "      <td>40.735102</td>\n",
       "      <td>-73.776493</td>\n",
       "      <td>40.644974</td>\n",
       "      <td>3</td>\n",
       "      <td>49.57</td>\n",
       "    </tr>\n",
       "    <tr>\n",
       "      <th>2</th>\n",
       "      <td>17</td>\n",
       "      <td>5</td>\n",
       "      <td>-73.995045</td>\n",
       "      <td>40.725998</td>\n",
       "      <td>-74.004505</td>\n",
       "      <td>40.734823</td>\n",
       "      <td>1</td>\n",
       "      <td>6.10</td>\n",
       "    </tr>\n",
       "    <tr>\n",
       "      <th>3</th>\n",
       "      <td>11</td>\n",
       "      <td>0</td>\n",
       "      <td>-73.967158</td>\n",
       "      <td>40.772232</td>\n",
       "      <td>-73.991385</td>\n",
       "      <td>40.748908</td>\n",
       "      <td>1</td>\n",
       "      <td>12.00</td>\n",
       "    </tr>\n",
       "    <tr>\n",
       "      <th>4</th>\n",
       "      <td>16</td>\n",
       "      <td>0</td>\n",
       "      <td>-73.977785</td>\n",
       "      <td>40.752055</td>\n",
       "      <td>-73.979140</td>\n",
       "      <td>40.762352</td>\n",
       "      <td>5</td>\n",
       "      <td>6.50</td>\n",
       "    </tr>\n",
       "  </tbody>\n",
       "</table>\n",
       "</div>"
      ],
      "text/plain": [
       "   hour  dayofweek  pickuplon  pickuplat  dropofflon  dropofflat  passengers  \\\n",
       "0     6          2 -73.989192  40.748615  -73.970180   40.756380           1   \n",
       "1     6          2 -73.974967  40.735102  -73.776493   40.644974           3   \n",
       "2    17          5 -73.995045  40.725998  -74.004505   40.734823           1   \n",
       "3    11          0 -73.967158  40.772232  -73.991385   40.748908           1   \n",
       "4    16          0 -73.977785  40.752055  -73.979140   40.762352           5   \n",
       "\n",
       "   fare_amount  \n",
       "0        12.00  \n",
       "1        49.57  \n",
       "2         6.10  \n",
       "3        12.00  \n",
       "4         6.50  "
      ]
     },
     "execution_count": 2,
     "metadata": {},
     "output_type": "execute_result"
    }
   ],
   "source": [
    "def read_dataset(filename):\n",
    "  return pd.read_csv(filename, header=None, names=['hour','dayofweek','pickuplon','pickuplat','dropofflon','dropofflat','passengers','fare_amount'])\n",
    "\n",
    "df_train = read_dataset('../lab1a/taxi-train.csv')\n",
    "df_valid = read_dataset('../lab1a/taxi-valid.csv')\n",
    "df_test = read_dataset('../lab1a/taxi-test.csv')\n",
    "df_train[:5]"
   ]
  },
  {
   "cell_type": "code",
   "execution_count": 3,
   "metadata": {
    "collapsed": false
   },
   "outputs": [],
   "source": [
    "FEATURE_COLS = np.arange(0,7)\n",
    "TARGET_COL   = 'fare_amount'"
   ]
  },
  {
   "cell_type": "code",
   "execution_count": 4,
   "metadata": {
    "collapsed": true
   },
   "outputs": [],
   "source": [
    "def compute_rmse(actual, predicted):\n",
    "  return np.sqrt(np.mean((actual-predicted)**2))\n",
    "\n",
    "def print_rmse(model):\n",
    "  print \"Train RMSE = {0}\".format(compute_rmse(df_train[TARGET_COL], model.predict(df_train.iloc[:,FEATURE_COLS].values)))\n",
    "  print \"Valid RMSE = {0}\".format(compute_rmse(df_valid[TARGET_COL], model.predict(df_valid.iloc[:,FEATURE_COLS].values)))"
   ]
  },
  {
   "cell_type": "markdown",
   "metadata": {},
   "source": [
    "<h3> Linear Regression </h3>"
   ]
  },
  {
   "cell_type": "code",
   "execution_count": 6,
   "metadata": {
    "collapsed": false
   },
   "outputs": [
    {
     "name": "stdout",
     "output_type": "stream",
     "text": [
      "iter=1 train_error=10.7505159105 valid_err=15.3667935745\n",
      "Model written to /tmp/trained_model-1\n",
      "iter=101 train_error=9.48247596285 valid_err=13.4785478256\n",
      "Model written to /tmp/trained_model-101\n",
      "iter=201 train_error=8.48463910298 valid_err=12.0009206089\n",
      "Model written to /tmp/trained_model-201\n",
      "iter=301 train_error=7.75634470641 valid_err=10.9344600153\n",
      "Model written to /tmp/trained_model-301\n",
      "iter=401 train_error=7.26874988588 valid_err=10.2350971161\n",
      "Model written to /tmp/trained_model-401\n",
      "iter=501 train_error=6.97228667881 valid_err=9.82477963397\n",
      "Model written to /tmp/trained_model-501\n",
      "iter=601 train_error=6.80938532048 valid_err=9.61251634544\n",
      "Model written to /tmp/trained_model-601\n",
      "iter=701 train_error=6.72856808981 valid_err=9.5178234541\n",
      "Model written to /tmp/trained_model-701\n",
      "iter=801 train_error=6.69235088203 valid_err=9.48333397142\n",
      "Model written to /tmp/trained_model-801\n",
      "iter=901 train_error=6.67767691998 valid_err=9.47496511212\n",
      "Model written to /tmp/trained_model-901\n",
      "iter=1001 train_error=6.67228819054 valid_err=9.47561919352\n",
      "Early stop!\n"
     ]
    }
   ],
   "source": [
    "predictors = df_train.iloc[:,FEATURE_COLS].values\n",
    "targets = df_train[TARGET_COL].values\n",
    "prev_valid_error = 10000 # huge number\n",
    "modelprefix = '/tmp/trained_model'\n",
    "with tf.Session() as sess:\n",
    "  npredictors = len(FEATURE_COLS)\n",
    "  noutputs = 1\n",
    "  feature_data = tf.placeholder(\"float\", [None, npredictors])\n",
    "  target_data = tf.placeholder(\"float\", [None, noutputs])\n",
    "  weights = tf.Variable(tf.truncated_normal([npredictors, noutputs], stddev=0.01))\n",
    "  biases = tf.Variable(tf.ones([noutputs]))\n",
    "  model = (tf.matmul(feature_data, weights) + biases) # LINEAR REGRESSION\n",
    "  cost = tf.nn.l2_loss(model - target_data) # Square Error, not RMSE\n",
    "  saver = tf.train.Saver({'weights' : weights, 'biases' : biases})\n",
    "    \n",
    "  training_step = tf.train.AdamOptimizer(learning_rate=0.0001).minimize(cost)\n",
    "  tf.initialize_all_variables().run()\n",
    "  for iter in xrange(0, 10000):\n",
    "    _, trainerr = sess.run([training_step, cost], feed_dict = {\n",
    "        feature_data : predictors,\n",
    "        target_data : targets.reshape(len(predictors), noutputs)\n",
    "      })\n",
    "    if (iter%100 == 1):\n",
    "      # early stop if validation error doesn't keep dropping\n",
    "      preds = sess.run(model, feed_dict = {feature_data : df_valid.iloc[:,FEATURE_COLS].values})\n",
    "      trmse = np.sqrt(trainerr/len(predictors))\n",
    "      vrmse = compute_rmse(df_valid[TARGET_COL], preds[0])      \n",
    "      print 'iter={0} train_error={1} valid_err={2}'.format(iter, trmse, vrmse)\n",
    "      if vrmse > prev_valid_error:\n",
    "         print \"Early stop!\"\n",
    "         break  # out of iteration loop\n",
    "      else:\n",
    "         prev_valid_error = vrmse\n",
    "         # save the model so that we can read it\n",
    "         modelfile = saver.save(sess, modelprefix, global_step=iter)\n",
    "         print 'Model written to {0}'.format(modelfile)\n"
   ]
  },
  {
   "cell_type": "markdown",
   "metadata": {},
   "source": [
    "Notice that the training error can be driven down very low, but it doesn't actually reduce the validation error.  To help prevent over-fitting, the loop above makes use of \"early-stopping\", to stop the training when the validation error starts to increase.  In tf.learn, we didn't pass in a validation dataset, but we got similar performance on the validation set -- that's because tf.learn uses a different technique called regularization to help prevent over-fitting.\n",
    "\n",
    "Early stopping and regularization are not that critical in linear regression (because the model is quite simple), but are crucial once you start creating deep neural networks where there are thousands of weights."
   ]
  },
  {
   "cell_type": "code",
   "execution_count": null,
   "metadata": {
    "collapsed": true
   },
   "outputs": [],
   "source": []
  }
 ],
 "metadata": {
  "kernelspec": {
   "display_name": "Python 2",
   "language": "python",
   "name": "python2"
  },
  "language_info": {
   "codemirror_mode": {
    "name": "ipython",
    "version": 2
   },
   "file_extension": ".py",
   "mimetype": "text/x-python",
   "name": "python",
   "nbconvert_exporter": "python",
   "pygments_lexer": "ipython2",
   "version": "2.7.9"
  }
 },
 "nbformat": 4,
 "nbformat_minor": 0
}
