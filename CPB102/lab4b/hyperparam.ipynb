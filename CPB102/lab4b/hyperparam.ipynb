{
 "cells": [
  {
   "cell_type": "markdown",
   "metadata": {},
   "source": [
    "<h1> Hyperparameter tuning </h1>\n",
    "\n",
    "This notebook is Lab4b of CPB 102, Google's course on Machine Learning using Cloud ML.\n",
    "\n",
    "This notebook builds on Lab 4a, adding hyperparameter tuning to the feature engineering done in that lab.  To save time, we will start from the preprocessed output of Lab 4a."
   ]
  },
  {
   "cell_type": "code",
   "execution_count": 10,
   "metadata": {
    "collapsed": false
   },
   "outputs": [
    {
     "name": "stdout",
     "output_type": "stream",
     "text": [
      "0.11.0rc0\n",
      "gs://cloud-ml/sdk/cloudml-0.1.6-alpha.dataflow.tar.gz\n"
     ]
    }
   ],
   "source": [
    "import google.cloud.ml as ml\n",
    "import tensorflow as tf\n",
    "print tf.__version__\n",
    "print ml.sdk_location"
   ]
  },
  {
   "cell_type": "markdown",
   "metadata": {},
   "source": [
    "<h1> Retreiving preprocessed data </h1>\n",
    "\n",
    "To save time, we'll go off the preprocessed data from Lab4a. To save time, let's start off from my Lab4a results (which I carried out on the full 1 billion-row dataset).  Change the BUCKET below to be yours.\n",
    "\n",
    "Tuning is carried out over a segment of the training data (you should not use the validation data for this)."
   ]
  },
  {
   "cell_type": "code",
   "execution_count": 11,
   "metadata": {
    "collapsed": false
   },
   "outputs": [
    {
     "name": "stderr",
     "output_type": "stream",
     "text": [
      "Removing gs://cloud-training-demos-ml/taxifare/taxi_preproc4b/features_train-00000-of-00003.tfrecord.gz#1475059776276255...\n",
      "Removing gs://cloud-training-demos-ml/taxifare/taxi_preproc4b/features_train-00002-of-00003.tfrecord.gz#1475059782127696...\n",
      "Removing gs://cloud-training-demos-ml/taxifare/taxi_preproc4b/features_train-00001-of-00003.tfrecord.gz#1475059780244347...\n",
      "Removing gs://cloud-training-demos-ml/taxifare/taxi_preproc4b/metadata.yaml#1475059773609036...\n",
      "/ [1/4 objects]  25% Done                                                       \r",
      "/ [2/4 objects]  50% Done                                                       \r",
      "/ [3/4 objects]  75% Done                                                       \r",
      "/ [4/4 objects] 100% Done                                                       \r\n",
      "Operation completed over 4 objects.                                              \n",
      "Copying gs://cloud-training-demos/taxifare/taxi_preproc4a_full/metadata.yaml [Content-Type=text/plain]...\n",
      "/ [0 files][    0.0 B/  2.2 KiB]                                                \r",
      "/ [0 files][  2.2 KiB/  2.2 KiB]                                                \r",
      "-\r",
      "- [1 files][  2.2 KiB/  2.2 KiB]                                                \r\n",
      "Operation completed over 1 objects/2.2 KiB.                                      \n",
      "Copying gs://cloud-training-demos/taxifare/taxi_preproc4a_full/features_train-00000-of-00027.tfrecord.gz...\n",
      "/ [0 files][    0.0 B/645.6 KiB]                                                \r",
      "/ [0 files][645.6 KiB/645.6 KiB]                                                \r",
      "-\r",
      "- [1 files][645.6 KiB/645.6 KiB]                                                \r",
      "Copying gs://cloud-training-demos/taxifare/taxi_preproc4a_full/features_train-00001-of-00027.tfrecord.gz...\n",
      "- [1 files][645.6 KiB/  8.2 MiB]                                                \r",
      "- [1 files][  8.2 MiB/  8.2 MiB]                                                \r",
      "\\\r",
      "\\ [2 files][  8.2 MiB/  8.2 MiB]      0.0 B/s                                   \r",
      "Copying gs://cloud-training-demos/taxifare/taxi_preproc4a_full/features_train-00002-of-00027.tfrecord.gz...\n",
      "\\ [2 files][  8.2 MiB/ 16.9 MiB]      0.0 B/s                                   \r",
      "\\ [2 files][ 16.9 MiB/ 16.9 MiB]    1.9 MiB/s                                   \r",
      "|\r",
      "| [3 files][ 16.9 MiB/ 16.9 MiB]    1.9 MiB/s                                   \r",
      "Copying gs://cloud-training-demos/taxifare/taxi_preproc4a_full/features_train-00003-of-00027.tfrecord.gz...\n",
      "| [3 files][ 16.9 MiB/ 24.3 MiB]    1.9 MiB/s                                   \r",
      "| [3 files][ 24.3 MiB/ 24.3 MiB]    2.4 MiB/s                                   \r",
      "/\r",
      "/ [4 files][ 24.3 MiB/ 24.3 MiB]    2.4 MiB/s                                   \r\n",
      "==> NOTE: You are performing a sequence of gsutil operations that may\n",
      "run significantly faster if you instead use gsutil -m cp ... Please\n",
      "see the -m section under \"gsutil help options\" for further information\n",
      "about when gsutil -m can be advantageous.\n",
      "\n",
      "Copying gs://cloud-training-demos/taxifare/taxi_preproc4a_full/features_train-00004-of-00027.tfrecord.gz...\n",
      "/ [4 files][ 24.3 MiB/ 39.6 MiB]    2.4 MiB/s                                   \r",
      "/ [4 files][ 39.6 MiB/ 39.6 MiB]      0.0 B/s                                   \r",
      "-\r",
      "- [5 files][ 39.6 MiB/ 39.6 MiB]      0.0 B/s                                   \r",
      "Copying gs://cloud-training-demos/taxifare/taxi_preproc4a_full/features_train-00005-of-00027.tfrecord.gz...\n",
      "- [5 files][ 39.6 MiB/ 43.0 MiB]      0.0 B/s                                   \r",
      "- [5 files][ 43.0 MiB/ 43.0 MiB]    1.3 MiB/s                                   \r",
      "\\\r",
      "\\ [6 files][ 43.0 MiB/ 43.0 MiB]    1.3 MiB/s                                   \r",
      "Copying gs://cloud-training-demos/taxifare/taxi_preproc4a_full/features_train-00006-of-00027.tfrecord.gz...\n",
      "\\ [6 files][ 43.0 MiB/ 52.1 MiB]    1.3 MiB/s                                   \r",
      "\\ [6 files][ 52.1 MiB/ 52.1 MiB]      0.0 B/s                                   \r",
      "|\r",
      "| [7 files][ 52.1 MiB/ 52.1 MiB]      0.0 B/s                                   \r",
      "Copying gs://cloud-training-demos/taxifare/taxi_preproc4a_full/features_train-00007-of-00027.tfrecord.gz...\n",
      "| [7 files][ 52.1 MiB/ 54.2 MiB]      0.0 B/s                                   \r",
      "| [7 files][ 54.2 MiB/ 54.2 MiB]      0.0 B/s                                   \r",
      "/\r",
      "/ [8 files][ 54.2 MiB/ 54.2 MiB]      0.0 B/s                                   \r",
      "Copying gs://cloud-training-demos/taxifare/taxi_preproc4a_full/features_train-00008-of-00027.tfrecord.gz...\n",
      "/ [8 files][ 54.2 MiB/ 55.2 MiB]      0.0 B/s                                   \r",
      "/ [8 files][ 55.2 MiB/ 55.2 MiB]      0.0 B/s                                   \r",
      "-\r",
      "- [9 files][ 55.2 MiB/ 55.2 MiB]      0.0 B/s                                   \r",
      "Copying gs://cloud-training-demos/taxifare/taxi_preproc4a_full/features_train-00009-of-00027.tfrecord.gz...\n",
      "- [9 files][ 55.2 MiB/ 55.6 MiB]      0.0 B/s                                   \r",
      "- [9 files][ 55.6 MiB/ 55.6 MiB]      0.0 B/s                                   \r",
      "\\\r",
      "\\ [10 files][ 55.6 MiB/ 55.6 MiB]      0.0 B/s                                  \r\n",
      "Operation completed over 10 objects/55.6 MiB.                                    \n",
      "Copying gs://cloud-training-demos/taxifare/taxi_preproc4a_full/features_train-00020-of-00027.tfrecord.gz...\n",
      "/ [0 files][    0.0 B/731.5 KiB]                                                \r",
      "/ [0 files][731.5 KiB/731.5 KiB]                                                \r",
      "-\r",
      "- [1 files][731.5 KiB/731.5 KiB]                                                \r",
      "Copying gs://cloud-training-demos/taxifare/taxi_preproc4a_full/features_train-00021-of-00027.tfrecord.gz...\n",
      "- [1 files][731.5 KiB/  1.4 MiB]                                                \r",
      "- [1 files][  1.4 MiB/  1.4 MiB]                                                \r",
      "\\\r",
      "\\ [2 files][  1.4 MiB/  1.4 MiB]                                                \r",
      "Copying gs://cloud-training-demos/taxifare/taxi_preproc4a_full/features_train-00022-of-00027.tfrecord.gz...\n",
      "\\ [2 files][  1.4 MiB/ 62.7 MiB]                                                \r",
      "\\ [2 files][ 62.7 MiB/ 62.7 MiB]                                                \r",
      "|\r",
      "| [3 files][ 62.7 MiB/ 62.7 MiB]      0.0 B/s                                   \r",
      "Copying gs://cloud-training-demos/taxifare/taxi_preproc4a_full/features_train-00023-of-00027.tfrecord.gz...\n",
      "| [3 files][ 62.7 MiB/ 63.8 MiB]      0.0 B/s                                   \r",
      "| [3 files][ 63.8 MiB/ 63.8 MiB]  396.0 KiB/s                                   \r",
      "/\r",
      "/ [4 files][ 63.8 MiB/ 63.8 MiB]  396.0 KiB/s                                   \r\n",
      "==> NOTE: You are performing a sequence of gsutil operations that may\n",
      "run significantly faster if you instead use gsutil -m cp ... Please\n",
      "see the -m section under \"gsutil help options\" for further information\n",
      "about when gsutil -m can be advantageous.\n",
      "\n",
      "Copying gs://cloud-training-demos/taxifare/taxi_preproc4a_full/features_train-00024-of-00027.tfrecord.gz...\n",
      "/ [4 files][ 63.8 MiB/ 70.6 MiB]  396.0 KiB/s                                   \r",
      "/ [4 files][ 70.6 MiB/ 70.6 MiB]      0.0 B/s                                   \r",
      "-\r",
      "- [5 files][ 70.6 MiB/ 70.6 MiB]      0.0 B/s                                   \r",
      "Copying gs://cloud-training-demos/taxifare/taxi_preproc4a_full/features_train-00025-of-00027.tfrecord.gz...\n",
      "- [5 files][ 70.6 MiB/ 93.3 MiB]      0.0 B/s                                   \r",
      "- [5 files][ 93.3 MiB/ 93.3 MiB]      0.0 B/s                                   \r",
      "\\\r",
      "\\ [6 files][ 93.3 MiB/ 93.3 MiB]      0.0 B/s                                   \r",
      "Copying gs://cloud-training-demos/taxifare/taxi_preproc4a_full/features_train-00026-of-00027.tfrecord.gz...\n",
      "\\ [6 files][ 93.3 MiB/ 94.7 MiB]      0.0 B/s                                   \r",
      "\\ [6 files][ 94.7 MiB/ 94.7 MiB]      0.0 B/s                                   \r",
      "|\r",
      "| [7 files][ 94.7 MiB/ 94.7 MiB]      0.0 B/s                                   \r\n",
      "Operation completed over 7 objects/94.7 MiB.                                     \n"
     ]
    }
   ],
   "source": [
    "%bash\n",
    "BUCKET=cloud-training-demos-ml\n",
    "\n",
    "SOURCE=gs://cloud-training-demos/taxifare/taxi_preproc4a_full\n",
    "SUFFIX=\"-of-00003.tfrecord.gz\"  \n",
    "gsutil -m rm -rf gs://$BUCKET/taxifare/taxi_preproc4b/\n",
    "gsutil cp $SOURCE/metadata.yaml gs://$BUCKET/taxifare/taxi_preproc4b/metadata.yaml\n",
    "for file in features_train-0000* features_train-0002*; do\n",
    "    gsutil -m cp $SOURCE/$file gs://$BUCKET/taxifare/taxi_preproc4b/\n",
    "done"
   ]
  },
  {
   "cell_type": "markdown",
   "metadata": {},
   "source": [
    "<h2> Modify TensorFlow code </h2>\n",
    "\n",
    "We want to make the number of buckets and the number of hidden nodes an optimizable parameter.\n",
    "In order to do this, we have to get them from the command-line.\n",
    "\n",
    "This shows all the code that now references the number_buckets hyperparameter."
   ]
  },
  {
   "cell_type": "code",
   "execution_count": 25,
   "metadata": {
    "collapsed": false
   },
   "outputs": [
    {
     "name": "stdout",
     "output_type": "stream",
     "text": [
      "taxifare/trainer/task.py-  parser.add_argument('--metadata_path', type=str)\n",
      "taxifare/trainer/task.py-  parser.add_argument('--output_path', type=str)\n",
      "taxifare/trainer/task.py-  parser.add_argument('--max_steps', type=int, default=2000)\n",
      "taxifare/trainer/task.py:  parser.add_argument('--number_buckets', type=int, default=5)\n",
      "taxifare/trainer/task.py-  parser.add_argument('--hidden_layer1_size', type=int, default=256)\n",
      "taxifare/trainer/task.py-\n",
      "taxifare/trainer/task.py-  args = parser.parse_args()\n",
      "taxifare/trainer/task.py-  HYPERPARAMS['hidden_layer1_size'] = args.hidden_layer1_size\n",
      "taxifare/trainer/task.py-  HYPERPARAMS['hidden_layer2_size'] = args.hidden_layer1_size / 2\n",
      "taxifare/trainer/task.py-  HYPERPARAMS['hidden_layer3_size'] = args.hidden_layer1_size / 4\n",
      "taxifare/trainer/task.py:  HYPERPARAMS['number_buckets'] = args.number_buckets\n",
      "taxifare/trainer/task.py-\n",
      "taxifare/trainer/task.py-  dispatch(args, cluster, task, job)\n",
      "taxifare/trainer/task.py-\n",
      "--\n",
      "taxifare/trainer/task.py-  'hidden_layer1_size': 300,\n",
      "taxifare/trainer/task.py-  'hidden_layer2_size': 200,\n",
      "taxifare/trainer/task.py-  'hidden_layer3_size': 100,\n",
      "taxifare/trainer/task.py:  'number_buckets': 5\n",
      "taxifare/trainer/task.py-}\n",
      "taxifare/trainer/task.py-EVAL_SET_SIZE = 2767\n",
      "taxifare/trainer/task.py-EVAL_INTERVAL_SECS = 30\n",
      "--\n",
      "taxifare/trainer/taxifare.py-      input_data = tf.placeholder(tf.string, name='input', shape=(None,))\n",
      "taxifare/trainer/taxifare.py-    parsed = features.FeatureMetadata.parse_features(metadata, input_data)\n",
      "taxifare/trainer/taxifare.py-\n",
      "taxifare/trainer/taxifare.py:    NUMBUCKETS = hyperparams['number_buckets']\n",
      "taxifare/trainer/taxifare.py-\n",
      "taxifare/trainer/taxifare.py-    # [batchsize, 1] \n",
      "taxifare/trainer/taxifare.py-    plat = parsed['plat']\n",
      "--\n",
      "taxifare/trainer/taxifare.py-\n",
      "taxifare/trainer/taxifare.py-def inference(inputs, metadata, hyperparams):\n",
      "taxifare/trainer/taxifare.py-  # input_size = metadata.features['inputs']['size']\n",
      "taxifare/trainer/taxifare.py:  NUMBUCKETS = hyperparams['number_buckets']\n",
      "taxifare/trainer/taxifare.py-  input_size = 6 + (NUMBUCKETS**2) * 2 + (NUMBUCKETS**4) + 4\n",
      "taxifare/trainer/taxifare.py-  output_size = metadata.features['fare_amount']['size']\n",
      "taxifare/trainer/taxifare.py-\n"
     ]
    }
   ],
   "source": [
    "%bash\n",
    "grep -3 number_buckets taxifare/trainer/*.py"
   ]
  },
  {
   "cell_type": "markdown",
   "metadata": {},
   "source": [
    "We also have to add a summary metric named <b>training/hptuning/metric</b> to the TensorFlow graph."
   ]
  },
  {
   "cell_type": "code",
   "execution_count": 4,
   "metadata": {
    "collapsed": false
   },
   "outputs": [
    {
     "name": "stdout",
     "output_type": "stream",
     "text": [
      "    summary = tf.scalar_summary('accuracy', accuracy_op)\n",
      "\n",
      "    rmse_op, eval_op2 = metric_ops.streaming_root_mean_squared_error(output, targets)\n",
      "    summary2 = tf.scalar_summary('training/hptuning/metric', rmse_op)\n",
      "\n",
      "    saver = tf.train.Saver()\n",
      "\n"
     ]
    }
   ],
   "source": [
    "%bash\n",
    "grep -3 hptuning taxifare/trainer/task.py"
   ]
  },
  {
   "cell_type": "markdown",
   "metadata": {},
   "source": [
    "<h2> Train once </h2>\n",
    "\n",
    "Here, we package up the code and train as normal."
   ]
  },
  {
   "cell_type": "code",
   "execution_count": 14,
   "metadata": {
    "collapsed": false
   },
   "outputs": [
    {
     "name": "stdout",
     "output_type": "stream",
     "text": [
      "taxifare/\n",
      "taxifare/PKG-INFO\n",
      "taxifare/setup.cfg\n",
      "taxifare/setup.py\n",
      "taxifare/trainer/\n",
      "taxifare/trainer/__init__.py\n",
      "taxifare/trainer/task.py\n",
      "taxifare/trainer/task.py.orig\n",
      "taxifare/trainer/taxifare.py\n",
      "taxifare/trainer/taxifare.py.orig\n",
      "taxifare/trainer.egg-info/\n",
      "taxifare/trainer.egg-info/dependency_links.txt\n",
      "taxifare/trainer.egg-info/PKG-INFO\n",
      "taxifare/trainer.egg-info/SOURCES.txt\n",
      "taxifare/trainer.egg-info/top_level.txt\n"
     ]
    },
    {
     "name": "stderr",
     "output_type": "stream",
     "text": [
      "Copying file://taxifare.tar.gz [Content-Type=application/x-tar]...\n",
      "/ [0 files][    0.0 B/  8.4 KiB]                                                \r",
      "/ [1 files][  8.4 KiB/  8.4 KiB]                                                \r\n",
      "Operation completed over 1 objects/8.4 KiB.                                      \n"
     ]
    }
   ],
   "source": [
    "%bash\n",
    "rm -rf taxifare.tar.gz taxi_trained\n",
    "tar cvfz taxifare.tar.gz taxifare\n",
    "gsutil cp taxifare.tar.gz gs://cloud-training-demos-ml/taxifare/source4b/taxifare.tar.gz"
   ]
  },
  {
   "cell_type": "code",
   "execution_count": 12,
   "metadata": {
    "collapsed": false
   },
   "outputs": [
    {
     "name": "stderr",
     "output_type": "stream",
     "text": [
      "Copying gs://cloud-training-demos-ml/taxifare/taxi_preproc4b/features_train-00000-of-00027.tfrecord.gz...\n",
      "/ [0 files][    0.0 B/645.6 KiB]                                                \r",
      "/ [0 files][264.0 KiB/645.6 KiB]                                                \r",
      "-\r",
      "- [1 files][645.6 KiB/645.6 KiB]                                                \r",
      "Copying gs://cloud-training-demos-ml/taxifare/taxi_preproc4b/features_train-00001-of-00027.tfrecord.gz...\n",
      "- [1 files][645.6 KiB/  8.2 MiB]                                                \r",
      "\\\r",
      "\\ [1 files][  4.8 MiB/  8.2 MiB]                                                \r",
      "|\r",
      "| [2 files][  8.2 MiB/  8.2 MiB]                                                \r",
      "Copying gs://cloud-training-demos-ml/taxifare/taxi_preproc4b/features_train-00002-of-00027.tfrecord.gz...\n",
      "| [2 files][  8.2 MiB/ 16.9 MiB]                                                \r",
      "/\r",
      "/ [2 files][ 12.4 MiB/ 16.9 MiB]                                                \r",
      "-\r",
      "- [3 files][ 16.9 MiB/ 16.9 MiB]                                                \r",
      "Copying gs://cloud-training-demos-ml/taxifare/taxi_preproc4b/features_train-00003-of-00027.tfrecord.gz...\n",
      "- [3 files][ 16.9 MiB/ 24.3 MiB]                                                \r",
      "\\\r",
      "\\ [3 files][ 21.3 MiB/ 24.3 MiB]                                                \r",
      "|\r",
      "| [4 files][ 24.3 MiB/ 24.3 MiB]                                                \r\n",
      "==> NOTE: You are performing a sequence of gsutil operations that may\n",
      "run significantly faster if you instead use gsutil -m cp ... Please\n",
      "see the -m section under \"gsutil help options\" for further information\n",
      "about when gsutil -m can be advantageous.\n",
      "\n",
      "Copying gs://cloud-training-demos-ml/taxifare/taxi_preproc4b/features_train-00004-of-00027.tfrecord.gz...\n",
      "| [4 files][ 24.3 MiB/ 39.6 MiB]                                                \r",
      "/\r",
      "/ [4 files][ 27.9 MiB/ 39.6 MiB]                                                \r",
      "-\r",
      "\\\r",
      "\\ [4 files][ 37.7 MiB/ 39.6 MiB]                                                \r",
      "\\ [5 files][ 39.6 MiB/ 39.6 MiB]                                                \r",
      "Copying gs://cloud-training-demos-ml/taxifare/taxi_preproc4b/features_train-00005-of-00027.tfrecord.gz...\n",
      "\\ [5 files][ 39.6 MiB/ 43.0 MiB]                                                \r",
      "|\r",
      "| [5 files][ 42.7 MiB/ 43.0 MiB]                                                \r",
      "| [6 files][ 43.0 MiB/ 43.0 MiB]                                                \r",
      "Copying gs://cloud-training-demos-ml/taxifare/taxi_preproc4b/features_train-00006-of-00027.tfrecord.gz...\n",
      "| [6 files][ 43.0 MiB/ 52.1 MiB]                                                \r",
      "/\r",
      "/ [6 files][ 47.9 MiB/ 52.1 MiB]                                                \r",
      "-\r",
      "- [7 files][ 52.1 MiB/ 52.1 MiB]                                                \r",
      "Copying gs://cloud-training-demos-ml/taxifare/taxi_preproc4b/features_train-00007-of-00027.tfrecord.gz...\n",
      "- [7 files][ 52.1 MiB/ 54.2 MiB]    6.1 MiB/s                                   \r",
      "\\\r",
      "\\ [8 files][ 54.2 MiB/ 54.2 MiB]    6.1 MiB/s                                   \r",
      "Copying gs://cloud-training-demos-ml/taxifare/taxi_preproc4b/features_train-00008-of-00027.tfrecord.gz...\n",
      "\\ [8 files][ 54.2 MiB/ 55.2 MiB]    6.1 MiB/s                                   \r",
      "|\r",
      "| [9 files][ 55.2 MiB/ 55.2 MiB]    5.1 MiB/s                                   \r",
      "Copying gs://cloud-training-demos-ml/taxifare/taxi_preproc4b/features_train-00009-of-00027.tfrecord.gz...\n",
      "| [9 files][ 55.2 MiB/ 55.6 MiB]    5.1 MiB/s                                   \r",
      "/\r",
      "/ [10 files][ 55.6 MiB/ 55.6 MiB]    4.0 MiB/s                                  \r",
      "Copying gs://cloud-training-demos-ml/taxifare/taxi_preproc4b/features_train-00020-of-00027.tfrecord.gz...\n",
      "/ [10 files][ 55.6 MiB/ 56.3 MiB]    4.0 MiB/s                                  \r",
      "-\r",
      "- [11 files][ 56.3 MiB/ 56.3 MiB]    3.7 MiB/s                                  \r",
      "Copying gs://cloud-training-demos-ml/taxifare/taxi_preproc4b/features_train-00021-of-00027.tfrecord.gz...\n",
      "- [11 files][ 56.3 MiB/ 57.0 MiB]    3.7 MiB/s                                  \r",
      "\\\r",
      "\\ [12 files][ 57.0 MiB/ 57.0 MiB]    3.1 MiB/s                                  \r",
      "Copying gs://cloud-training-demos-ml/taxifare/taxi_preproc4b/features_train-00022-of-00027.tfrecord.gz...\n",
      "\\ [12 files][ 57.0 MiB/118.3 MiB]    3.1 MiB/s                                  \r",
      "|\r",
      "| [12 files][ 61.1 MiB/118.3 MiB]    2.9 MiB/s                                  \r",
      "/\r",
      "-\r",
      "- [12 files][ 69.1 MiB/118.3 MiB]    3.5 MiB/s                                  \r",
      "\\\r",
      "\\ [12 files][ 79.6 MiB/118.3 MiB]    5.0 MiB/s                                  \r",
      "|\r",
      "/\r",
      "/ [12 files][ 90.2 MiB/118.3 MiB]    7.1 MiB/s                                  \r",
      "-\r",
      "\\\r",
      "\\ [12 files][100.5 MiB/118.3 MiB]    9.6 MiB/s                                  \r",
      "|\r",
      "| [12 files][111.4 MiB/118.3 MiB]   10.2 MiB/s                                  \r",
      "/\r",
      "-\r",
      "- [13 files][118.3 MiB/118.3 MiB]   10.3 MiB/s                                  \r",
      "Copying gs://cloud-training-demos-ml/taxifare/taxi_preproc4b/features_train-00023-of-00027.tfrecord.gz...\n",
      "- [13 files][118.3 MiB/119.4 MiB]   10.3 MiB/s                                  \r",
      "\\\r",
      "\\ [14 files][119.4 MiB/119.4 MiB]    9.2 MiB/s                                  \r",
      "Copying gs://cloud-training-demos-ml/taxifare/taxi_preproc4b/features_train-00024-of-00027.tfrecord.gz...\n",
      "\\ [14 files][119.4 MiB/126.2 MiB]    9.2 MiB/s                                  \r",
      "|\r",
      "| [14 files][124.3 MiB/126.2 MiB]    8.0 MiB/s                                  \r",
      "/\r",
      "/ [15 files][126.2 MiB/126.2 MiB]    8.0 MiB/s                                  \r",
      "Copying gs://cloud-training-demos-ml/taxifare/taxi_preproc4b/features_train-00025-of-00027.tfrecord.gz...\n",
      "/ [15 files][126.2 MiB/148.9 MiB]    8.0 MiB/s                                  \r",
      "-\r",
      "- [15 files][131.1 MiB/148.9 MiB]    6.9 MiB/s                                  \r",
      "\\\r",
      "|\r",
      "| [15 files][142.0 MiB/148.9 MiB]    6.9 MiB/s                                  \r",
      "/\r",
      "/ [16 files][148.9 MiB/148.9 MiB]    7.0 MiB/s                                  \r",
      "Copying gs://cloud-training-demos-ml/taxifare/taxi_preproc4b/features_train-00026-of-00027.tfrecord.gz...\n",
      "/ [16 files][148.9 MiB/150.3 MiB]    6.9 MiB/s                                  \r",
      "-\r",
      "- [17 files][150.3 MiB/150.3 MiB]    6.7 MiB/s                                  \r",
      "Copying gs://cloud-training-demos-ml/taxifare/taxi_preproc4b/metadata.yaml...\n",
      "- [17 files][150.3 MiB/150.3 MiB]    6.7 MiB/s                                  \r",
      "\\\r",
      "\\ [18 files][150.3 MiB/150.3 MiB]    6.7 MiB/s                                  \r\n",
      "Operation completed over 18 objects/150.3 MiB.                                   \n"
     ]
    }
   ],
   "source": [
    "%bash\n",
    "gsutil cp -R gs://cloud-training-demos-ml/taxifare/taxi_preproc4b /content/CPB102/lab4b"
   ]
  },
  {
   "cell_type": "code",
   "execution_count": 15,
   "metadata": {
    "collapsed": false
   },
   "outputs": [
    {
     "data": {
      "text/html": [
       "<p>Job Running...</p>"
      ]
     },
     "metadata": {},
     "output_type": "display_data"
    },
    {
     "data": {
      "text/html": [
       "<a href=\"/_nocachecontent/master\" target=\"_blank\">master log</a>&nbsp;&nbsp;"
      ]
     },
     "metadata": {},
     "output_type": "display_data"
    },
    {
     "data": {
      "text/html": [
       "master: INFO:root:Step 100: loss = 13.58 (0.003 sec)<br/>master: INFO:root:Step 200: loss = 16.47 (0.004 sec)<br/>master: INFO:root:Final accuracy after 200 steps = 0.921<br/>master: INFO:root:Done training.<br/>master: plat  =  [128, 1]<br/>master: latdist  =  [128, 1]<br/>master: pickup  =  [128, 4]<br/>master: pickupdropoff  =  [128, 16]<br/>master: inputs= [128, 34]<br/>master: plat  =  [128, 1]<br/>master: latdist  =  [128, 1]<br/>master: pickup  =  [128, 4]<br/>master: pickupdropoff  =  [128, 16]<br/>master: inputs= [128, 34]<br/>master: plat  =  [None, 1]<br/>master: latdist  =  [None, 1]<br/>master: pickup  =  [None, 4]<br/>master: pickupdropoff  =  [None, 16]<br/>master: inputs= [None, 34]<br/>master: "
      ]
     },
     "metadata": {},
     "output_type": "display_data"
    },
    {
     "data": {
      "text/html": [
       "<p>Job Finished.</p>"
      ]
     },
     "metadata": {},
     "output_type": "display_data"
    }
   ],
   "source": [
    "%%mlalpha train\n",
    "package_uris: /content/CPB102/lab4b/taxifare.tar.gz\n",
    "python_module: trainer.task\n",
    "scale_tier: BASIC\n",
    "region: us-central1\n",
    "args:\n",
    "  train_data_paths: /content/CPB102/lab4b/taxi_preproc4b/features_train-0000*\n",
    "  eval_data_paths:  /content/CPB102/lab4b/taxi_preproc4b/features_train-0002*\n",
    "  metadata_path: /content/CPB102/lab4b/taxi_preproc4b/metadata.yaml\n",
    "  output_path: /content/CPB102/lab4b/taxi_trained\n",
    "  max_steps: 200\n",
    "  hidden_layer1_size: 8\n",
    "  number_buckets: 2"
   ]
  },
  {
   "cell_type": "code",
   "execution_count": 61,
   "metadata": {
    "collapsed": false
   },
   "outputs": [
    {
     "data": {
      "text/html": [
       "<p>TensorBoard was started successfully with pid 27313. Click <a href=\"/_proxy/55295/\" target=\"_blank\">here</a> to access it.</p>"
      ],
      "text/plain": [
       "<IPython.core.display.HTML object>"
      ]
     },
     "execution_count": 61,
     "metadata": {},
     "output_type": "execute_result"
    }
   ],
   "source": [
    "%tensorboard start --logdir /content/CPB102/lab4b/taxi_trained"
   ]
  },
  {
   "cell_type": "code",
   "execution_count": 62,
   "metadata": {
    "collapsed": true
   },
   "outputs": [],
   "source": [
    "%tensorboard stop --pid 27313"
   ]
  },
  {
   "cell_type": "code",
   "execution_count": 9,
   "metadata": {
    "collapsed": false
   },
   "outputs": [
    {
     "data": {
      "text/html": [
       "<ul><li>training/hptuning/metric</li><li>accuracy</li></ul>"
      ],
      "text/plain": [
       "<IPython.core.display.HTML object>"
      ]
     },
     "execution_count": 9,
     "metadata": {},
     "output_type": "execute_result"
    }
   ],
   "source": [
    "%mlalpha summary --dir /content/CPB102/lab4b/taxi_trained/eval"
   ]
  },
  {
   "cell_type": "markdown",
   "metadata": {},
   "source": [
    "<h2> Hyperparameter training </h2>\n",
    "\n",
    "Now, we carry out the training, but this time on the cloud, and this time with some hyperparameters"
   ]
  },
  {
   "cell_type": "code",
   "execution_count": 16,
   "metadata": {
    "collapsed": false
   },
   "outputs": [],
   "source": [
    "!gsutil -m -q rm -r gs://cloud-training-demos-ml/taxifare/taxi_trained4b"
   ]
  },
  {
   "cell_type": "code",
   "execution_count": 17,
   "metadata": {
    "collapsed": false
   },
   "outputs": [
    {
     "data": {
      "text/html": [
       "<p>Job \"trainer_task_160928_142344\" was submitted successfully.<br/>Run \"%mlalpha jobs --name trainer_task_160928_142344\" to view the status of the job.</p><p>Click <a href=\"https://console.developers.google.com/logs/viewer?project=cloud-training-demos&resource=ml.googleapis.com%2Fjob_id%2Ftrainer_task_160928_142344\" target=\"_blank\">here</a> to view cloud log. <br/>Start TensorBoard by running \"%tensorboard start --logdir=&lt;YourLogDir&gt;\".</p>"
      ],
      "text/plain": [
       "<IPython.core.display.HTML object>"
      ]
     },
     "execution_count": 17,
     "metadata": {},
     "output_type": "execute_result"
    }
   ],
   "source": [
    "%%mlalpha train --cloud\n",
    "package_uris: gs://cloud-training-demos-ml/taxifare/source4b/taxifare.tar.gz\n",
    "python_module: trainer.task\n",
    "scale_tier: BASIC\n",
    "region: us-central1\n",
    "args:\n",
    "  train_data_paths: gs://cloud-training-demos-ml/taxifare/taxi_preproc4b/features_train-0001*\n",
    "  eval_data_paths: gs://cloud-training-demos-ml/taxifare/taxi_preproc4b/features_eval-0002*\n",
    "  metadata_path: gs://cloud-training-demos-ml/taxifare/taxi_preproc4b/metadata.yaml\n",
    "  output_path: gs://cloud-training-demos-ml/taxifare/taxi_trained4b\n",
    "  max_steps: 1000\n",
    "hyperparameters:\n",
    "  goal: MINIMIZE\n",
    "  max_trials: 20\n",
    "  max_parallel_trials: 3\n",
    "  params:\n",
    "    - parameter_name: hidden_layer1_size\n",
    "      type: INTEGER\n",
    "      min_value: 32\n",
    "      max_value: 256\n",
    "      scale_type: UNIT_LINEAR_SCALE  \n",
    "    - parameter_name: number_buckets\n",
    "      type: INTEGER\n",
    "      min_value: 5\n",
    "      max_value: 15\n",
    "      scale_type: UNIT_LINEAR_SCALE  "
   ]
  },
  {
   "cell_type": "code",
   "execution_count": 82,
   "metadata": {
    "collapsed": false
   },
   "outputs": [
    {
     "data": {
      "text/html": [
       "<pre>createTime: '2016-09-27T00:05:49Z'\n",
       "endTime: '2016-09-27T02:15:26Z'\n",
       "jobId: trainer_task_160927_000547\n",
       "startTime: '2016-09-27T00:05:52Z'\n",
       "state: SUCCEEDED\n",
       "trainingInput:\n",
       "  args: [--train_data_paths, 'gs://cloud-training-demos-ml/taxifare/taxi_preproc4b/features_train-00000*',\n",
       "    --metadata_path, 'gs://cloud-training-demos-ml/taxifare/taxi_preproc4b/metadata.yaml',\n",
       "    --max_steps, '1000', --output_path, 'gs://cloud-training-demos-ml/taxifare/taxi_trained4b',\n",
       "    --eval_data_paths, 'gs://cloud-training-demos-ml/taxifare/taxi_preproc4b/features_eval-00000*']\n",
       "  hyperparameters:\n",
       "    goal: MINIMIZE\n",
       "    maxParallelTrials: 3\n",
       "    maxTrials: 20\n",
       "    params:\n",
       "    - {maxValue: 64, minValue: 32, parameterName: hidden_layer1_size, scaleType: UNIT_LINEAR_SCALE,\n",
       "      type: INTEGER}\n",
       "    - {maxValue: 15, minValue: 5, parameterName: number_buckets, scaleType: UNIT_LINEAR_SCALE,\n",
       "      type: INTEGER}\n",
       "  packageUris: ['gs://cloud-training-demos-ml/taxifare/source4b/taxifare.tar.gz']\n",
       "  pythonModule: trainer.task\n",
       "  region: us-central1\n",
       "trainingOutput:\n",
       "  completedTrialCount: '20'\n",
       "  trials:\n",
       "  - finalMetric: {trainingStep: '1000'}\n",
       "    hyperparameters: {hidden_layer1_size: '32', number_buckets: '7'}\n",
       "    trialId: '20'\n",
       "  - finalMetric: {trainingStep: '1000'}\n",
       "    hyperparameters: {hidden_layer1_size: '32', number_buckets: '13'}\n",
       "    trialId: '19'\n",
       "  - finalMetric: {trainingStep: '1000'}\n",
       "    hyperparameters: {hidden_layer1_size: '64', number_buckets: '13'}\n",
       "    trialId: '18'\n",
       "  - finalMetric: {trainingStep: '1000'}\n",
       "    hyperparameters: {hidden_layer1_size: '54', number_buckets: '5'}\n",
       "    trialId: '17'\n",
       "  - finalMetric: {trainingStep: '1000'}\n",
       "    hyperparameters: {hidden_layer1_size: '64', number_buckets: '7'}\n",
       "    trialId: '16'\n",
       "  - finalMetric: {trainingStep: '1000'}\n",
       "    hyperparameters: {hidden_layer1_size: '41', number_buckets: '15'}\n",
       "    trialId: '15'\n",
       "  - finalMetric: {trainingStep: '1000'}\n",
       "    hyperparameters: {hidden_layer1_size: '52', number_buckets: '8'}\n",
       "    trialId: '14'\n",
       "  - finalMetric: {trainingStep: '1000'}\n",
       "    hyperparameters: {hidden_layer1_size: '38', number_buckets: '13'}\n",
       "    trialId: '13'\n",
       "  - finalMetric: {trainingStep: '1000'}\n",
       "    hyperparameters: {hidden_layer1_size: '38', number_buckets: '7'}\n",
       "    trialId: '12'\n",
       "  - finalMetric: {trainingStep: '1000'}\n",
       "    hyperparameters: {hidden_layer1_size: '58', number_buckets: '13'}\n",
       "    trialId: '11'\n",
       "  - finalMetric: {trainingStep: '1000'}\n",
       "    hyperparameters: {hidden_layer1_size: '44', number_buckets: '5'}\n",
       "    trialId: '10'\n",
       "  - finalMetric: {trainingStep: '1000'}\n",
       "    hyperparameters: {hidden_layer1_size: '50', number_buckets: '15'}\n",
       "    trialId: '9'\n",
       "  - finalMetric: {trainingStep: '1000'}\n",
       "    hyperparameters: {hidden_layer1_size: '64', number_buckets: '5'}\n",
       "    trialId: '8'\n",
       "  - finalMetric: {trainingStep: '1000'}\n",
       "    hyperparameters: {hidden_layer1_size: '32', number_buckets: '10'}\n",
       "    trialId: '7'\n",
       "  - finalMetric: {trainingStep: '1000'}\n",
       "    hyperparameters: {hidden_layer1_size: '64', number_buckets: '10'}\n",
       "    trialId: '6'\n",
       "  - finalMetric: {trainingStep: '1000'}\n",
       "    hyperparameters: {hidden_layer1_size: '46', number_buckets: '11'}\n",
       "    trialId: '5'\n",
       "  - finalMetric: {trainingStep: '1000'}\n",
       "    hyperparameters: {hidden_layer1_size: '32', number_buckets: '5'}\n",
       "    trialId: '4'\n",
       "  - finalMetric: {trainingStep: '1000'}\n",
       "    hyperparameters: {hidden_layer1_size: '64', number_buckets: '15'}\n",
       "    trialId: '3'\n",
       "  - finalMetric: {trainingStep: '1000'}\n",
       "    hyperparameters: {hidden_layer1_size: '32', number_buckets: '15'}\n",
       "    trialId: '2'\n",
       "  - finalMetric: {trainingStep: '1000'}\n",
       "    hyperparameters: {hidden_layer1_size: '58', number_buckets: '6'}\n",
       "    trialId: '1'\n",
       "</pre>"
      ],
      "text/plain": [
       "<IPython.core.display.HTML object>"
      ]
     },
     "execution_count": 82,
     "metadata": {},
     "output_type": "execute_result"
    }
   ],
   "source": [
    "%mlalpha jobs --name  trainer_task_160927_000547"
   ]
  },
  {
   "cell_type": "code",
   "execution_count": 18,
   "metadata": {
    "collapsed": false
   },
   "outputs": [
    {
     "name": "stdout",
     "output_type": "stream",
     "text": [
      "gs://cloud-training-demos-ml/taxifare/taxi_trained4b/\r\n",
      "gs://cloud-training-demos-ml/taxifare/taxi_trained4b/1/\r\n",
      "gs://cloud-training-demos-ml/taxifare/taxi_trained4b/10/\r\n",
      "gs://cloud-training-demos-ml/taxifare/taxi_trained4b/2/\r\n",
      "gs://cloud-training-demos-ml/taxifare/taxi_trained4b/3/\r\n",
      "gs://cloud-training-demos-ml/taxifare/taxi_trained4b/4/\r\n",
      "gs://cloud-training-demos-ml/taxifare/taxi_trained4b/5/\r\n",
      "gs://cloud-training-demos-ml/taxifare/taxi_trained4b/6/\r\n",
      "gs://cloud-training-demos-ml/taxifare/taxi_trained4b/7/\r\n",
      "gs://cloud-training-demos-ml/taxifare/taxi_trained4b/8/\r\n",
      "gs://cloud-training-demos-ml/taxifare/taxi_trained4b/9/\r\n"
     ]
    }
   ],
   "source": [
    "!gsutil ls gs://cloud-training-demos-ml/taxifare/taxi_trained4b"
   ]
  },
  {
   "cell_type": "code",
   "execution_count": 8,
   "metadata": {
    "collapsed": false
   },
   "outputs": [
    {
     "data": {
      "text/html": [
       "<p>TensorBoard was started successfully with pid 22285. Click <a href=\"/_proxy/34890/\" target=\"_blank\">here</a> to access it.</p>"
      ],
      "text/plain": [
       "<IPython.core.display.HTML object>"
      ]
     },
     "execution_count": 8,
     "metadata": {},
     "output_type": "execute_result"
    }
   ],
   "source": [
    "%tensorboard start --logdir gs://cloud-training-demos-ml/taxifare/taxi_trained4b"
   ]
  },
  {
   "cell_type": "code",
   "execution_count": 9,
   "metadata": {
    "collapsed": true
   },
   "outputs": [],
   "source": [
    "%tensorboard stop --pid 3222"
   ]
  },
  {
   "cell_type": "code",
   "execution_count": 19,
   "metadata": {
    "collapsed": false
   },
   "outputs": [
    {
     "data": {
      "text/html": [
       "<div id=\"d2bd9d63-bc5f-48ff-9b11-7a519af1bbee\" style=\"height: 525px; width: 100%;\" class=\"plotly-graph-div\"></div><script type=\"text/javascript\">require([\"plotly\"], function(Plotly) { window.PLOTLYENV=window.PLOTLYENV || {};window.PLOTLYENV.BASE_URL=\"https://plot.ly\";Plotly.newPlot(\"d2bd9d63-bc5f-48ff-9b11-7a519af1bbee\", [{\"y\": [11.733025550842285], \"x\": [1000], \"type\": \"scatter\", \"name\": \"loss-gs://cloud-training-demos-ml/taxifare/taxi_trained4b/10/summaries\"}, {\"y\": [11.732049942016602], \"x\": [1000], \"type\": \"scatter\", \"name\": \"loss-gs://cloud-training-demos-ml/taxifare/taxi_trained4b/1/summaries\"}, {\"y\": [11.734345436096191], \"x\": [1000], \"type\": \"scatter\", \"name\": \"loss-gs://cloud-training-demos-ml/taxifare/taxi_trained4b/7/summaries\"}, {\"y\": [11.72910213470459], \"x\": [1000], \"type\": \"scatter\", \"name\": \"loss-gs://cloud-training-demos-ml/taxifare/taxi_trained4b/6/summaries\"}, {\"y\": [], \"x\": [], \"type\": \"scatter\", \"name\": \"loss-gs://cloud-training-demos-ml/taxifare/taxi_trained4b/2/eval\"}, {\"y\": [11.733319282531738], \"x\": [1000], \"type\": \"scatter\", \"name\": \"loss-gs://cloud-training-demos-ml/taxifare/taxi_trained4b/3/summaries\"}, {\"y\": [11.734923362731934], \"x\": [1000], \"type\": \"scatter\", \"name\": \"loss-gs://cloud-training-demos-ml/taxifare/taxi_trained4b/9/summaries\"}, {\"y\": [], \"x\": [], \"type\": \"scatter\", \"name\": \"loss-gs://cloud-training-demos-ml/taxifare/taxi_trained4b/5/eval\"}, {\"y\": [], \"x\": [], \"type\": \"scatter\", \"name\": \"loss-gs://cloud-training-demos-ml/taxifare/taxi_trained4b/6/eval\"}, {\"y\": [], \"x\": [], \"type\": \"scatter\", \"name\": \"loss-gs://cloud-training-demos-ml/taxifare/taxi_trained4b/4/eval\"}, {\"y\": [], \"x\": [], \"type\": \"scatter\", \"name\": \"loss-gs://cloud-training-demos-ml/taxifare/taxi_trained4b/1/eval\"}, {\"y\": [], \"x\": [], \"type\": \"scatter\", \"name\": \"loss-gs://cloud-training-demos-ml/taxifare/taxi_trained4b/8/eval\"}, {\"y\": [], \"x\": [], \"type\": \"scatter\", \"name\": \"loss-gs://cloud-training-demos-ml/taxifare/taxi_trained4b/10/eval\"}, {\"y\": [], \"x\": [], \"type\": \"scatter\", \"name\": \"loss-gs://cloud-training-demos-ml/taxifare/taxi_trained4b/7/eval\"}, {\"y\": [], \"x\": [], \"type\": \"scatter\", \"name\": \"loss-gs://cloud-training-demos-ml/taxifare/taxi_trained4b/9/eval\"}, {\"y\": [11.732501983642578], \"x\": [1000], \"type\": \"scatter\", \"name\": \"loss-gs://cloud-training-demos-ml/taxifare/taxi_trained4b/2/summaries\"}, {\"y\": [11.731077194213867], \"x\": [1000], \"type\": \"scatter\", \"name\": \"loss-gs://cloud-training-demos-ml/taxifare/taxi_trained4b/8/summaries\"}, {\"y\": [], \"x\": [], \"type\": \"scatter\", \"name\": \"loss-gs://cloud-training-demos-ml/taxifare/taxi_trained4b/3/eval\"}, {\"y\": [11.73470687866211], \"x\": [1000], \"type\": \"scatter\", \"name\": \"loss-gs://cloud-training-demos-ml/taxifare/taxi_trained4b/5/summaries\"}, {\"y\": [11.733216285705566], \"x\": [1000], \"type\": \"scatter\", \"name\": \"loss-gs://cloud-training-demos-ml/taxifare/taxi_trained4b/4/summaries\"}], {\"title\": \"loss\", \"xaxis\": {\"title\": \"step\"}, \"yaxis\": {\"title\": \"loss\"}}, {\"linkText\": \"Export to plot.ly\", \"showLink\": true})});</script>"
      ],
      "text/plain": [
       "<IPython.core.display.HTML object>"
      ]
     },
     "metadata": {},
     "output_type": "display_data"
    }
   ],
   "source": [
    "%mlalpha summary --dir gs://cloud-training-demos-ml/taxifare/taxi_trained4b/*/summaries  gs://cloud-training-demos-ml/taxifare/taxi_trained4b/*/eval  --name loss --step"
   ]
  },
  {
   "cell_type": "markdown",
   "metadata": {},
   "source": [
    "Copyright 2016 Google Inc. Licensed under the Apache License, Version 2.0 (the \"License\"); you may not use this file except in compliance with the License. You may obtain a copy of the License at http://www.apache.org/licenses/LICENSE-2.0 Unless required by applicable law or agreed to in writing, software distributed under the License is distributed on an \"AS IS\" BASIS, WITHOUT WARRANTIES OR CONDITIONS OF ANY KIND, either express or implied. See the License for the specific language governing permissions and limitations under the License"
   ]
  }
 ],
 "metadata": {
  "kernelspec": {
   "display_name": "Python 2",
   "language": "python",
   "name": "python2"
  },
  "language_info": {
   "codemirror_mode": {
    "name": "ipython",
    "version": 2
   },
   "file_extension": ".py",
   "mimetype": "text/x-python",
   "name": "python",
   "nbconvert_exporter": "python",
   "pygments_lexer": "ipython2",
   "version": "2.7.9"
  }
 },
 "nbformat": 4,
 "nbformat_minor": 0
}
