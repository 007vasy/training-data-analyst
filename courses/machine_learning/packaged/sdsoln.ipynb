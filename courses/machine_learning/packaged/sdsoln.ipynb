{
 "cells": [
  {
   "cell_type": "markdown",
   "metadata": {},
   "source": [
    "<h1> Structured Data Solution </h1>\n",
    "\n",
    "In this notebook, we will use the structured data package in Datalab to build a model to predict taxifares."
   ]
  },
  {
   "cell_type": "code",
   "execution_count": 6,
   "metadata": {
    "collapsed": true
   },
   "outputs": [],
   "source": [
    "import os\n",
    "PROJECT = 'cloud-training-demos'    # CHANGE THIS\n",
    "BUCKET = 'cloud-training-demos-ml'  # CHANGE THIS\n",
    "REGION = 'us-central1' # CHANGE THIS\n",
    "\n",
    "os.environ['PROJECT'] = PROJECT # for bash\n",
    "os.environ['BUCKET'] = BUCKET # for bash\n",
    "os.environ['REGION'] = REGION # for bash"
   ]
  },
  {
   "cell_type": "code",
   "execution_count": null,
   "metadata": {
    "collapsed": false
   },
   "outputs": [],
   "source": [
    "%bash\n",
    "echo \"project=$PROJECT\"\n",
    "echo \"bucket=$BUCKET\"\n",
    "echo \"region=$REGION\"\n",
    "gcloud config set project $PROJECT\n",
    "gcloud config set compute/region $REGION\n",
    "gcloud beta ml init-project -q"
   ]
  },
  {
   "cell_type": "code",
   "execution_count": 1,
   "metadata": {
    "collapsed": false
   },
   "outputs": [
    {
     "name": "stderr",
     "output_type": "stream",
     "text": [
      "No handlers could be found for logger \"oauth2client.contrib.multistore_file\"\n",
      "WARNING:root:Couldn't find python-snappy so the implementation of _TFRecordUtil._masked_crc32c is not as fast as it could be.\n"
     ]
    },
    {
     "name": "stdout",
     "output_type": "stream",
     "text": [
      "tf 1.0.0\n",
      "sd 0.0.1\n",
      "cml 0.1.9.1-alpha\n"
     ]
    }
   ],
   "source": [
    "import tensorflow as tf\n",
    "import datalab.ml as ml\n",
    "import google.cloud.ml as cml\n",
    "import datalab_solutions.structured_data as sd\n",
    "from tensorflow.python.lib.io import file_io\n",
    "import json\n",
    "import shutil\n",
    "\n",
    "print('tf ' + str(tf.__version__))\n",
    "print('sd ' + str(sd.__version__))\n",
    "print('cml ' + str(cml.__version__))"
   ]
  },
  {
   "cell_type": "code",
   "execution_count": 13,
   "metadata": {
    "collapsed": true
   },
   "outputs": [],
   "source": [
    "INDIR = '../feateng/sample'\n",
    "OUTDIR = '.'\n",
    "\n",
    "# for bash\n",
    "os.environ['OUTDIR'] = OUTDIR"
   ]
  },
  {
   "cell_type": "markdown",
   "metadata": {},
   "source": [
    "<h2> Set up schema file </h2>\n",
    "\n",
    "Schema of training/test. Same format as BigQuery.  STRING/INTEGER/FLOAT only."
   ]
  },
  {
   "cell_type": "code",
   "execution_count": 3,
   "metadata": {
    "collapsed": false
   },
   "outputs": [
    {
     "name": "stdout",
     "output_type": "stream",
     "text": [
      "Overwriting ./taxifare.json\n"
     ]
    }
   ],
   "source": [
    "%writefile $OUTDIR/taxifare.json\n",
    "[\n",
    "    {\n",
    "        \"mode\": \"NULLABLE\",\n",
    "        \"name\": \"fare_amount\",\n",
    "        \"type\": \"FLOAT\"\n",
    "    }, \n",
    "    {\n",
    "        \"mode\": \"NULLABLE\",\n",
    "        \"name\": \"dayofweek\",\n",
    "        \"type\": \"STRING\"\n",
    "    },\n",
    "    {\n",
    "        \"mode\": \"NULLABLE\",\n",
    "        \"name\": \"hourofday\",\n",
    "        \"type\": \"STRING\"\n",
    "    },\n",
    "    {\n",
    "        \"mode\": \"NULLABLE\",\n",
    "        \"name\": \"pickuplon\",\n",
    "        \"type\": \"FLOAT\"\n",
    "    },\n",
    "    {\n",
    "        \"mode\": \"NULLABLE\",\n",
    "        \"name\": \"pickuplat\",\n",
    "        \"type\": \"FLOAT\"\n",
    "    },\n",
    "    {\n",
    "        \"mode\": \"NULLABLE\",\n",
    "        \"name\": \"dropofflon\",\n",
    "        \"type\": \"FLOAT\"\n",
    "    },\n",
    "    {\n",
    "        \"mode\": \"NULLABLE\",\n",
    "        \"name\": \"dropofflat\",\n",
    "        \"type\": \"FLOAT\"\n",
    "    },\n",
    "    {\n",
    "        \"mode\": \"NULLABLE\",\n",
    "        \"name\": \"passengers\",\n",
    "        \"type\": \"FLOAT\"\n",
    "    },\n",
    "    {\n",
    "        \"mode\": \"REQUIRED\",\n",
    "        \"name\": \"key\",\n",
    "        \"type\": \"STRING\"\n",
    "    } \n",
    "]"
   ]
  },
  {
   "cell_type": "markdown",
   "metadata": {},
   "source": [
    "<h2> Preprocessing </h2>\n",
    "\n",
    "The first step of preprocessing is to compute the min, max, etc. for scaling purposes."
   ]
  },
  {
   "cell_type": "code",
   "execution_count": 14,
   "metadata": {
    "collapsed": true
   },
   "outputs": [],
   "source": [
    "!rm -rf $OUTDIR/taxi_preproc $OUTDIR/taxi_trained"
   ]
  },
  {
   "cell_type": "code",
   "execution_count": 15,
   "metadata": {
    "collapsed": false
   },
   "outputs": [
    {
     "name": "stdout",
     "output_type": "stream",
     "text": [
      "Starting local preprocessing.\n",
      "Local preprocessing done.\n"
     ]
    }
   ],
   "source": [
    "train_csv = ml.CsvDataSet(\n",
    "  file_pattern=os.path.join(INDIR, 'train*'),\n",
    "  schema_file=os.path.join(OUTDIR, 'taxifare.json'))\n",
    "sd.local_preprocess(\n",
    "  dataset=train_csv,\n",
    "  output_dir=os.path.join(OUTDIR, 'taxi_preproc'),\n",
    ")"
   ]
  },
  {
   "cell_type": "markdown",
   "metadata": {},
   "source": [
    "The second step is to specify the feature columns and transformations.  The target and key transforms are required. Everything else is optional."
   ]
  },
  {
   "cell_type": "code",
   "execution_count": 16,
   "metadata": {
    "collapsed": false
   },
   "outputs": [],
   "source": [
    "transforms = {\n",
    "  \"fare_amount\": {\"transform\": \"target\"},\n",
    "  \"key\": {\"transform\": \"key\"}, \n",
    "  \"dayofweek\": {\"transform\": \"one_hot\"},\n",
    "  \"hourofday\": {\"transform\": \"embedding\", \"embedding_dim\": 2}, # group-combine the hour\n",
    "}\n",
    "file_io.write_string_to_file(os.path.join(OUTDIR, 'taxi_preproc/transforms.json'),\n",
    "                             json.dumps(transforms, indent=2))"
   ]
  },
  {
   "cell_type": "code",
   "execution_count": 17,
   "metadata": {
    "collapsed": false
   },
   "outputs": [
    {
     "name": "stdout",
     "output_type": "stream",
     "text": [
      "numerical_analysis.json\n",
      "schema.json\n",
      "transforms.json\n",
      "vocab_dayofweek.csv\n",
      "vocab_hourofday.csv\n",
      "vocab_key.csv\n"
     ]
    }
   ],
   "source": [
    "%bash\n",
    "ls $OUTDIR/taxi_preproc"
   ]
  },
  {
   "cell_type": "code",
   "execution_count": 19,
   "metadata": {
    "collapsed": false
   },
   "outputs": [
    {
     "name": "stdout",
     "output_type": "stream",
     "text": [
      "{\r\n",
      "  \"passengers\": {\r\n",
      "    \"max\": 6.0,\r\n",
      "    \"mean\": 1.714834159189322,\r\n",
      "    \"min\": 1.0\r\n",
      "  },\r\n",
      "  \"fare_amount\": {\r\n",
      "    \"max\": 130.12,\r\n",
      "    \"mean\": 11.346521137449155,\r\n",
      "    \"min\": 2.5\r\n",
      "  },\r\n",
      "  \"pickuplat\": {\r\n",
      "    \"max\": 41.591743,\r\n",
      "    \"mean\": 40.751719439603896,\r\n",
      "    \"min\": 40.27725\r\n",
      "  },\r\n",
      "  \"dropofflat\": {\r\n",
      "    \"max\": 41.57285,\r\n",
      "    \"mean\": 40.75180645182645,\r\n",
      "    \"min\": 40.303627\r\n",
      "  },\r\n",
      "  \"pickuplon\": {\r\n",
      "    \"max\": -73.137393,\r\n",
      "    \"mean\": -73.97476843613309,\r\n",
      "    \"min\": -75.26911\r\n",
      "  },\r\n",
      "  \"dropofflon\": {\r\n",
      "    \"max\": -73.137393,\r\n",
      "    \"mean\": -73.97400344112786,\r\n",
      "    \"min\": -74.417107\r\n",
      "  }\r\n",
      "}"
     ]
    }
   ],
   "source": [
    "!cat $OUTDIR/taxi_preproc/num*json"
   ]
  },
  {
   "cell_type": "code",
   "execution_count": 20,
   "metadata": {
    "collapsed": false
   },
   "outputs": [
    {
     "name": "stdout",
     "output_type": "stream",
     "text": [
      "Wed\r\n",
      "Sun\r\n",
      "Fri\r\n",
      "Tue\r\n",
      "Mon\r\n",
      "Thu\r\n",
      "Sat"
     ]
    }
   ],
   "source": [
    "!cat $OUTDIR/taxi_preproc/vocab_day*"
   ]
  },
  {
   "cell_type": "markdown",
   "metadata": {},
   "source": [
    "<h2> Local Training and prediction </h2>\n",
    "\n",
    "Train using the preproprocessed data."
   ]
  },
  {
   "cell_type": "code",
   "execution_count": 22,
   "metadata": {
    "collapsed": false
   },
   "outputs": [
    {
     "name": "stdout",
     "output_type": "stream",
     "text": [
      "Starting local training.\n",
      "WARNING:tensorflow:The default value of combiner will change from \"sum\" to \"sqrtn\" after 2016/11/01.\n"
     ]
    },
    {
     "name": "stderr",
     "output_type": "stream",
     "text": [
      "WARNING:tensorflow:The default value of combiner will change from \"sum\" to \"sqrtn\" after 2016/11/01.\n"
     ]
    },
    {
     "name": "stdout",
     "output_type": "stream",
     "text": [
      "WARNING:tensorflow:The default value of combiner will change from \"sum\" to \"sqrtn\" after 2016/11/01.\n"
     ]
    },
    {
     "name": "stderr",
     "output_type": "stream",
     "text": [
      "WARNING:tensorflow:The default value of combiner will change from \"sum\" to \"sqrtn\" after 2016/11/01.\n"
     ]
    },
    {
     "name": "stdout",
     "output_type": "stream",
     "text": [
      "WARNING:tensorflow:The default value of combiner will change from \"mean\" to \"sqrtn\" after 2016/11/01.\n"
     ]
    },
    {
     "name": "stderr",
     "output_type": "stream",
     "text": [
      "WARNING:tensorflow:The default value of combiner will change from \"mean\" to \"sqrtn\" after 2016/11/01.\n"
     ]
    },
    {
     "name": "stdout",
     "output_type": "stream",
     "text": [
      "INFO:tensorflow:Using config: {'_save_checkpoints_secs': 600, '_num_ps_replicas': 0, '_keep_checkpoint_max': 5, '_tf_random_seed': None, '_task_type': None, '_environment': 'local', '_is_chief': True, '_cluster_spec': <tensorflow.python.training.server_lib.ClusterSpec object at 0x7fd5e98bf3d0>, '_tf_config': gpu_options {\n",
      "  per_process_gpu_memory_fraction: 1.0\n",
      "}\n",
      ", '_task_id': 0, '_save_summary_steps': 100, '_save_checkpoints_steps': None, '_evaluation_master': '', '_keep_checkpoint_every_n_hours': 10000, '_master': ''}\n"
     ]
    },
    {
     "name": "stderr",
     "output_type": "stream",
     "text": [
      "INFO:tensorflow:Using config: {'_save_checkpoints_secs': 600, '_num_ps_replicas': 0, '_keep_checkpoint_max': 5, '_tf_random_seed': None, '_task_type': None, '_environment': 'local', '_is_chief': True, '_cluster_spec': <tensorflow.python.training.server_lib.ClusterSpec object at 0x7fd5e98bf3d0>, '_tf_config': gpu_options {\n",
      "  per_process_gpu_memory_fraction: 1.0\n",
      "}\n",
      ", '_task_id': 0, '_save_summary_steps': 100, '_save_checkpoints_steps': None, '_evaluation_master': '', '_keep_checkpoint_every_n_hours': 10000, '_master': ''}\n"
     ]
    },
    {
     "name": "stdout",
     "output_type": "stream",
     "text": [
      "WARNING:tensorflow:From /usr/local/lib/python2.7/dist-packages/tensorflow/contrib/learn/python/learn/monitors.py:322: __init__ (from tensorflow.contrib.learn.python.learn.monitors) is deprecated and will be removed after 2016-12-05.\n",
      "Instructions for updating:\n",
      "Monitors are deprecated. Please use tf.train.SessionRunHook.\n"
     ]
    },
    {
     "name": "stderr",
     "output_type": "stream",
     "text": [
      "WARNING:tensorflow:From /usr/local/lib/python2.7/dist-packages/tensorflow/contrib/learn/python/learn/monitors.py:322: __init__ (from tensorflow.contrib.learn.python.learn.monitors) is deprecated and will be removed after 2016-12-05.\n",
      "Instructions for updating:\n",
      "Monitors are deprecated. Please use tf.train.SessionRunHook.\n"
     ]
    },
    {
     "name": "stdout",
     "output_type": "stream",
     "text": [
      "WARNING:tensorflow:From /usr/local/lib/python2.7/dist-packages/tensorflow/contrib/learn/python/learn/estimators/head.py:1362: scalar_summary (from tensorflow.python.ops.logging_ops) is deprecated and will be removed after 2016-11-30.\n",
      "Instructions for updating:\n",
      "Please switch to tf.summary.scalar. Note that tf.summary.scalar uses the node name instead of the tag. This means that TensorFlow will automatically de-duplicate summary names based on the scope they are created in. Also, passing a tensor or list of tags to a scalar summary op is no longer supported.\n"
     ]
    },
    {
     "name": "stderr",
     "output_type": "stream",
     "text": [
      "WARNING:tensorflow:From /usr/local/lib/python2.7/dist-packages/tensorflow/contrib/learn/python/learn/estimators/head.py:1362: scalar_summary (from tensorflow.python.ops.logging_ops) is deprecated and will be removed after 2016-11-30.\n",
      "Instructions for updating:\n",
      "Please switch to tf.summary.scalar. Note that tf.summary.scalar uses the node name instead of the tag. This means that TensorFlow will automatically de-duplicate summary names based on the scope they are created in. Also, passing a tensor or list of tags to a scalar summary op is no longer supported.\n"
     ]
    },
    {
     "name": "stdout",
     "output_type": "stream",
     "text": [
      "INFO:tensorflow:Create CheckpointSaverHook.\n"
     ]
    },
    {
     "name": "stderr",
     "output_type": "stream",
     "text": [
      "INFO:tensorflow:Create CheckpointSaverHook.\n"
     ]
    },
    {
     "name": "stdout",
     "output_type": "stream",
     "text": [
      "INFO:tensorflow:Saving checkpoints for 1 into ./taxi_trained/train/model.ckpt.\n"
     ]
    },
    {
     "name": "stderr",
     "output_type": "stream",
     "text": [
      "INFO:tensorflow:Saving checkpoints for 1 into ./taxi_trained/train/model.ckpt.\n"
     ]
    },
    {
     "name": "stdout",
     "output_type": "stream",
     "text": [
      "INFO:tensorflow:loss = 179.78, step = 1\n"
     ]
    },
    {
     "name": "stderr",
     "output_type": "stream",
     "text": [
      "INFO:tensorflow:loss = 179.78, step = 1\n"
     ]
    },
    {
     "name": "stdout",
     "output_type": "stream",
     "text": [
      "WARNING:tensorflow:From /usr/local/lib/python2.7/dist-packages/tensorflow/contrib/learn/python/learn/estimators/head.py:1362: scalar_summary (from tensorflow.python.ops.logging_ops) is deprecated and will be removed after 2016-11-30.\n",
      "Instructions for updating:\n",
      "Please switch to tf.summary.scalar. Note that tf.summary.scalar uses the node name instead of the tag. This means that TensorFlow will automatically de-duplicate summary names based on the scope they are created in. Also, passing a tensor or list of tags to a scalar summary op is no longer supported.\n"
     ]
    },
    {
     "name": "stderr",
     "output_type": "stream",
     "text": [
      "WARNING:tensorflow:From /usr/local/lib/python2.7/dist-packages/tensorflow/contrib/learn/python/learn/estimators/head.py:1362: scalar_summary (from tensorflow.python.ops.logging_ops) is deprecated and will be removed after 2016-11-30.\n",
      "Instructions for updating:\n",
      "Please switch to tf.summary.scalar. Note that tf.summary.scalar uses the node name instead of the tag. This means that TensorFlow will automatically de-duplicate summary names based on the scope they are created in. Also, passing a tensor or list of tags to a scalar summary op is no longer supported.\n"
     ]
    },
    {
     "name": "stdout",
     "output_type": "stream",
     "text": [
      "INFO:tensorflow:Starting evaluation at 2017-02-28-16:38:02\n"
     ]
    },
    {
     "name": "stderr",
     "output_type": "stream",
     "text": [
      "INFO:tensorflow:Starting evaluation at 2017-02-28-16:38:02\n"
     ]
    },
    {
     "name": "stdout",
     "output_type": "stream",
     "text": [
      "INFO:tensorflow:Evaluation [1/100]\n"
     ]
    },
    {
     "name": "stderr",
     "output_type": "stream",
     "text": [
      "INFO:tensorflow:Evaluation [1/100]\n"
     ]
    },
    {
     "name": "stdout",
     "output_type": "stream",
     "text": [
      "INFO:tensorflow:Evaluation [2/100]\n"
     ]
    },
    {
     "name": "stderr",
     "output_type": "stream",
     "text": [
      "INFO:tensorflow:Evaluation [2/100]\n"
     ]
    },
    {
     "name": "stdout",
     "output_type": "stream",
     "text": [
      "INFO:tensorflow:Evaluation [3/100]\n"
     ]
    },
    {
     "name": "stderr",
     "output_type": "stream",
     "text": [
      "INFO:tensorflow:Evaluation [3/100]\n"
     ]
    },
    {
     "name": "stdout",
     "output_type": "stream",
     "text": [
      "INFO:tensorflow:Evaluation [4/100]\n"
     ]
    },
    {
     "name": "stderr",
     "output_type": "stream",
     "text": [
      "INFO:tensorflow:Evaluation [4/100]\n"
     ]
    },
    {
     "name": "stdout",
     "output_type": "stream",
     "text": [
      "INFO:tensorflow:Evaluation [5/100]\n"
     ]
    },
    {
     "name": "stderr",
     "output_type": "stream",
     "text": [
      "INFO:tensorflow:Evaluation [5/100]\n"
     ]
    },
    {
     "name": "stdout",
     "output_type": "stream",
     "text": [
      "INFO:tensorflow:Evaluation [6/100]\n"
     ]
    },
    {
     "name": "stderr",
     "output_type": "stream",
     "text": [
      "INFO:tensorflow:Evaluation [6/100]\n"
     ]
    },
    {
     "name": "stdout",
     "output_type": "stream",
     "text": [
      "INFO:tensorflow:Evaluation [7/100]\n"
     ]
    },
    {
     "name": "stderr",
     "output_type": "stream",
     "text": [
      "INFO:tensorflow:Evaluation [7/100]\n"
     ]
    },
    {
     "name": "stdout",
     "output_type": "stream",
     "text": [
      "INFO:tensorflow:Evaluation [8/100]\n"
     ]
    },
    {
     "name": "stderr",
     "output_type": "stream",
     "text": [
      "INFO:tensorflow:Evaluation [8/100]\n"
     ]
    },
    {
     "name": "stdout",
     "output_type": "stream",
     "text": [
      "INFO:tensorflow:Evaluation [9/100]\n"
     ]
    },
    {
     "name": "stderr",
     "output_type": "stream",
     "text": [
      "INFO:tensorflow:Evaluation [9/100]\n"
     ]
    },
    {
     "name": "stdout",
     "output_type": "stream",
     "text": [
      "INFO:tensorflow:Evaluation [10/100]\n"
     ]
    },
    {
     "name": "stderr",
     "output_type": "stream",
     "text": [
      "INFO:tensorflow:Evaluation [10/100]\n"
     ]
    },
    {
     "name": "stdout",
     "output_type": "stream",
     "text": [
      "INFO:tensorflow:Evaluation [11/100]\n"
     ]
    },
    {
     "name": "stderr",
     "output_type": "stream",
     "text": [
      "INFO:tensorflow:Evaluation [11/100]\n"
     ]
    },
    {
     "name": "stdout",
     "output_type": "stream",
     "text": [
      "INFO:tensorflow:Evaluation [12/100]\n"
     ]
    },
    {
     "name": "stderr",
     "output_type": "stream",
     "text": [
      "INFO:tensorflow:Evaluation [12/100]\n"
     ]
    },
    {
     "name": "stdout",
     "output_type": "stream",
     "text": [
      "INFO:tensorflow:Evaluation [13/100]\n"
     ]
    },
    {
     "name": "stderr",
     "output_type": "stream",
     "text": [
      "INFO:tensorflow:Evaluation [13/100]\n"
     ]
    },
    {
     "name": "stdout",
     "output_type": "stream",
     "text": [
      "INFO:tensorflow:Evaluation [14/100]\n"
     ]
    },
    {
     "name": "stderr",
     "output_type": "stream",
     "text": [
      "INFO:tensorflow:Evaluation [14/100]\n"
     ]
    },
    {
     "name": "stdout",
     "output_type": "stream",
     "text": [
      "INFO:tensorflow:Evaluation [15/100]\n"
     ]
    },
    {
     "name": "stderr",
     "output_type": "stream",
     "text": [
      "INFO:tensorflow:Evaluation [15/100]\n"
     ]
    },
    {
     "name": "stdout",
     "output_type": "stream",
     "text": [
      "INFO:tensorflow:Evaluation [16/100]\n"
     ]
    },
    {
     "name": "stderr",
     "output_type": "stream",
     "text": [
      "INFO:tensorflow:Evaluation [16/100]\n"
     ]
    },
    {
     "name": "stdout",
     "output_type": "stream",
     "text": [
      "INFO:tensorflow:Evaluation [17/100]\n"
     ]
    },
    {
     "name": "stderr",
     "output_type": "stream",
     "text": [
      "INFO:tensorflow:Evaluation [17/100]\n"
     ]
    },
    {
     "name": "stdout",
     "output_type": "stream",
     "text": [
      "INFO:tensorflow:Evaluation [18/100]\n"
     ]
    },
    {
     "name": "stderr",
     "output_type": "stream",
     "text": [
      "INFO:tensorflow:Evaluation [18/100]\n"
     ]
    },
    {
     "name": "stdout",
     "output_type": "stream",
     "text": [
      "INFO:tensorflow:Evaluation [19/100]\n"
     ]
    },
    {
     "name": "stderr",
     "output_type": "stream",
     "text": [
      "INFO:tensorflow:Evaluation [19/100]\n"
     ]
    },
    {
     "name": "stdout",
     "output_type": "stream",
     "text": [
      "INFO:tensorflow:Evaluation [20/100]\n"
     ]
    },
    {
     "name": "stderr",
     "output_type": "stream",
     "text": [
      "INFO:tensorflow:Evaluation [20/100]\n"
     ]
    },
    {
     "name": "stdout",
     "output_type": "stream",
     "text": [
      "INFO:tensorflow:Evaluation [21/100]\n"
     ]
    },
    {
     "name": "stderr",
     "output_type": "stream",
     "text": [
      "INFO:tensorflow:Evaluation [21/100]\n"
     ]
    },
    {
     "name": "stdout",
     "output_type": "stream",
     "text": [
      "INFO:tensorflow:Evaluation [22/100]\n"
     ]
    },
    {
     "name": "stderr",
     "output_type": "stream",
     "text": [
      "INFO:tensorflow:Evaluation [22/100]\n"
     ]
    },
    {
     "name": "stdout",
     "output_type": "stream",
     "text": [
      "INFO:tensorflow:Evaluation [23/100]\n"
     ]
    },
    {
     "name": "stderr",
     "output_type": "stream",
     "text": [
      "INFO:tensorflow:Evaluation [23/100]\n"
     ]
    },
    {
     "name": "stdout",
     "output_type": "stream",
     "text": [
      "INFO:tensorflow:Evaluation [24/100]\n"
     ]
    },
    {
     "name": "stderr",
     "output_type": "stream",
     "text": [
      "INFO:tensorflow:Evaluation [24/100]\n"
     ]
    },
    {
     "name": "stdout",
     "output_type": "stream",
     "text": [
      "INFO:tensorflow:Evaluation [25/100]\n"
     ]
    },
    {
     "name": "stderr",
     "output_type": "stream",
     "text": [
      "INFO:tensorflow:Evaluation [25/100]\n"
     ]
    },
    {
     "name": "stdout",
     "output_type": "stream",
     "text": [
      "INFO:tensorflow:Evaluation [26/100]\n"
     ]
    },
    {
     "name": "stderr",
     "output_type": "stream",
     "text": [
      "INFO:tensorflow:Evaluation [26/100]\n"
     ]
    },
    {
     "name": "stdout",
     "output_type": "stream",
     "text": [
      "INFO:tensorflow:Evaluation [27/100]\n"
     ]
    },
    {
     "name": "stderr",
     "output_type": "stream",
     "text": [
      "INFO:tensorflow:Evaluation [27/100]\n"
     ]
    },
    {
     "name": "stdout",
     "output_type": "stream",
     "text": [
      "INFO:tensorflow:Evaluation [28/100]\n"
     ]
    },
    {
     "name": "stderr",
     "output_type": "stream",
     "text": [
      "INFO:tensorflow:Evaluation [28/100]\n"
     ]
    },
    {
     "name": "stdout",
     "output_type": "stream",
     "text": [
      "INFO:tensorflow:Evaluation [29/100]\n"
     ]
    },
    {
     "name": "stderr",
     "output_type": "stream",
     "text": [
      "INFO:tensorflow:Evaluation [29/100]\n"
     ]
    },
    {
     "name": "stdout",
     "output_type": "stream",
     "text": [
      "INFO:tensorflow:Evaluation [30/100]\n"
     ]
    },
    {
     "name": "stderr",
     "output_type": "stream",
     "text": [
      "INFO:tensorflow:Evaluation [30/100]\n"
     ]
    },
    {
     "name": "stdout",
     "output_type": "stream",
     "text": [
      "INFO:tensorflow:Evaluation [31/100]\n"
     ]
    },
    {
     "name": "stderr",
     "output_type": "stream",
     "text": [
      "INFO:tensorflow:Evaluation [31/100]\n"
     ]
    },
    {
     "name": "stdout",
     "output_type": "stream",
     "text": [
      "INFO:tensorflow:Evaluation [32/100]\n"
     ]
    },
    {
     "name": "stderr",
     "output_type": "stream",
     "text": [
      "INFO:tensorflow:Evaluation [32/100]\n"
     ]
    },
    {
     "name": "stdout",
     "output_type": "stream",
     "text": [
      "INFO:tensorflow:Evaluation [33/100]\n"
     ]
    },
    {
     "name": "stderr",
     "output_type": "stream",
     "text": [
      "INFO:tensorflow:Evaluation [33/100]\n"
     ]
    },
    {
     "name": "stdout",
     "output_type": "stream",
     "text": [
      "INFO:tensorflow:Evaluation [34/100]\n"
     ]
    },
    {
     "name": "stderr",
     "output_type": "stream",
     "text": [
      "INFO:tensorflow:Evaluation [34/100]\n"
     ]
    },
    {
     "name": "stdout",
     "output_type": "stream",
     "text": [
      "INFO:tensorflow:Evaluation [35/100]\n"
     ]
    },
    {
     "name": "stderr",
     "output_type": "stream",
     "text": [
      "INFO:tensorflow:Evaluation [35/100]\n"
     ]
    },
    {
     "name": "stdout",
     "output_type": "stream",
     "text": [
      "INFO:tensorflow:Evaluation [36/100]\n"
     ]
    },
    {
     "name": "stderr",
     "output_type": "stream",
     "text": [
      "INFO:tensorflow:Evaluation [36/100]\n"
     ]
    },
    {
     "name": "stdout",
     "output_type": "stream",
     "text": [
      "INFO:tensorflow:Evaluation [37/100]\n"
     ]
    },
    {
     "name": "stderr",
     "output_type": "stream",
     "text": [
      "INFO:tensorflow:Evaluation [37/100]\n"
     ]
    },
    {
     "name": "stdout",
     "output_type": "stream",
     "text": [
      "INFO:tensorflow:Evaluation [38/100]\n"
     ]
    },
    {
     "name": "stderr",
     "output_type": "stream",
     "text": [
      "INFO:tensorflow:Evaluation [38/100]\n"
     ]
    },
    {
     "name": "stdout",
     "output_type": "stream",
     "text": [
      "INFO:tensorflow:Evaluation [39/100]\n"
     ]
    },
    {
     "name": "stderr",
     "output_type": "stream",
     "text": [
      "INFO:tensorflow:Evaluation [39/100]\n"
     ]
    },
    {
     "name": "stdout",
     "output_type": "stream",
     "text": [
      "INFO:tensorflow:Evaluation [40/100]\n"
     ]
    },
    {
     "name": "stderr",
     "output_type": "stream",
     "text": [
      "INFO:tensorflow:Evaluation [40/100]\n"
     ]
    },
    {
     "name": "stdout",
     "output_type": "stream",
     "text": [
      "INFO:tensorflow:Evaluation [41/100]\n"
     ]
    },
    {
     "name": "stderr",
     "output_type": "stream",
     "text": [
      "INFO:tensorflow:Evaluation [41/100]\n"
     ]
    },
    {
     "name": "stdout",
     "output_type": "stream",
     "text": [
      "INFO:tensorflow:Evaluation [42/100]\n"
     ]
    },
    {
     "name": "stderr",
     "output_type": "stream",
     "text": [
      "INFO:tensorflow:Evaluation [42/100]\n"
     ]
    },
    {
     "name": "stdout",
     "output_type": "stream",
     "text": [
      "INFO:tensorflow:Evaluation [43/100]\n"
     ]
    },
    {
     "name": "stderr",
     "output_type": "stream",
     "text": [
      "INFO:tensorflow:Evaluation [43/100]\n"
     ]
    },
    {
     "name": "stdout",
     "output_type": "stream",
     "text": [
      "INFO:tensorflow:Evaluation [44/100]\n"
     ]
    },
    {
     "name": "stderr",
     "output_type": "stream",
     "text": [
      "INFO:tensorflow:Evaluation [44/100]\n"
     ]
    },
    {
     "name": "stdout",
     "output_type": "stream",
     "text": [
      "INFO:tensorflow:Evaluation [45/100]\n"
     ]
    },
    {
     "name": "stderr",
     "output_type": "stream",
     "text": [
      "INFO:tensorflow:Evaluation [45/100]\n"
     ]
    },
    {
     "name": "stdout",
     "output_type": "stream",
     "text": [
      "INFO:tensorflow:Evaluation [46/100]\n"
     ]
    },
    {
     "name": "stderr",
     "output_type": "stream",
     "text": [
      "INFO:tensorflow:Evaluation [46/100]\n"
     ]
    },
    {
     "name": "stdout",
     "output_type": "stream",
     "text": [
      "INFO:tensorflow:Evaluation [47/100]\n"
     ]
    },
    {
     "name": "stderr",
     "output_type": "stream",
     "text": [
      "INFO:tensorflow:Evaluation [47/100]\n"
     ]
    },
    {
     "name": "stdout",
     "output_type": "stream",
     "text": [
      "INFO:tensorflow:Evaluation [48/100]\n"
     ]
    },
    {
     "name": "stderr",
     "output_type": "stream",
     "text": [
      "INFO:tensorflow:Evaluation [48/100]\n"
     ]
    },
    {
     "name": "stdout",
     "output_type": "stream",
     "text": [
      "INFO:tensorflow:Evaluation [49/100]\n"
     ]
    },
    {
     "name": "stderr",
     "output_type": "stream",
     "text": [
      "INFO:tensorflow:Evaluation [49/100]\n"
     ]
    },
    {
     "name": "stdout",
     "output_type": "stream",
     "text": [
      "INFO:tensorflow:Evaluation [50/100]\n"
     ]
    },
    {
     "name": "stderr",
     "output_type": "stream",
     "text": [
      "INFO:tensorflow:Evaluation [50/100]\n"
     ]
    },
    {
     "name": "stdout",
     "output_type": "stream",
     "text": [
      "INFO:tensorflow:Evaluation [51/100]\n"
     ]
    },
    {
     "name": "stderr",
     "output_type": "stream",
     "text": [
      "INFO:tensorflow:Evaluation [51/100]\n"
     ]
    },
    {
     "name": "stdout",
     "output_type": "stream",
     "text": [
      "INFO:tensorflow:Evaluation [52/100]\n"
     ]
    },
    {
     "name": "stderr",
     "output_type": "stream",
     "text": [
      "INFO:tensorflow:Evaluation [52/100]\n"
     ]
    },
    {
     "name": "stdout",
     "output_type": "stream",
     "text": [
      "INFO:tensorflow:Evaluation [53/100]\n"
     ]
    },
    {
     "name": "stderr",
     "output_type": "stream",
     "text": [
      "INFO:tensorflow:Evaluation [53/100]\n"
     ]
    },
    {
     "name": "stdout",
     "output_type": "stream",
     "text": [
      "INFO:tensorflow:Evaluation [54/100]\n"
     ]
    },
    {
     "name": "stderr",
     "output_type": "stream",
     "text": [
      "INFO:tensorflow:Evaluation [54/100]\n"
     ]
    },
    {
     "name": "stdout",
     "output_type": "stream",
     "text": [
      "INFO:tensorflow:Evaluation [55/100]\n"
     ]
    },
    {
     "name": "stderr",
     "output_type": "stream",
     "text": [
      "INFO:tensorflow:Evaluation [55/100]\n"
     ]
    },
    {
     "name": "stdout",
     "output_type": "stream",
     "text": [
      "INFO:tensorflow:Evaluation [56/100]\n"
     ]
    },
    {
     "name": "stderr",
     "output_type": "stream",
     "text": [
      "INFO:tensorflow:Evaluation [56/100]\n"
     ]
    },
    {
     "name": "stdout",
     "output_type": "stream",
     "text": [
      "INFO:tensorflow:Evaluation [57/100]\n"
     ]
    },
    {
     "name": "stderr",
     "output_type": "stream",
     "text": [
      "INFO:tensorflow:Evaluation [57/100]\n"
     ]
    },
    {
     "name": "stdout",
     "output_type": "stream",
     "text": [
      "INFO:tensorflow:Evaluation [58/100]\n"
     ]
    },
    {
     "name": "stderr",
     "output_type": "stream",
     "text": [
      "INFO:tensorflow:Evaluation [58/100]\n"
     ]
    },
    {
     "name": "stdout",
     "output_type": "stream",
     "text": [
      "INFO:tensorflow:Evaluation [59/100]\n"
     ]
    },
    {
     "name": "stderr",
     "output_type": "stream",
     "text": [
      "INFO:tensorflow:Evaluation [59/100]\n"
     ]
    },
    {
     "name": "stdout",
     "output_type": "stream",
     "text": [
      "INFO:tensorflow:Evaluation [60/100]\n"
     ]
    },
    {
     "name": "stderr",
     "output_type": "stream",
     "text": [
      "INFO:tensorflow:Evaluation [60/100]\n"
     ]
    },
    {
     "name": "stdout",
     "output_type": "stream",
     "text": [
      "INFO:tensorflow:Evaluation [61/100]\n"
     ]
    },
    {
     "name": "stderr",
     "output_type": "stream",
     "text": [
      "INFO:tensorflow:Evaluation [61/100]\n"
     ]
    },
    {
     "name": "stdout",
     "output_type": "stream",
     "text": [
      "INFO:tensorflow:Evaluation [62/100]\n"
     ]
    },
    {
     "name": "stderr",
     "output_type": "stream",
     "text": [
      "INFO:tensorflow:Evaluation [62/100]\n"
     ]
    },
    {
     "name": "stdout",
     "output_type": "stream",
     "text": [
      "INFO:tensorflow:Evaluation [63/100]\n"
     ]
    },
    {
     "name": "stderr",
     "output_type": "stream",
     "text": [
      "INFO:tensorflow:Evaluation [63/100]\n"
     ]
    },
    {
     "name": "stdout",
     "output_type": "stream",
     "text": [
      "INFO:tensorflow:Evaluation [64/100]\n"
     ]
    },
    {
     "name": "stderr",
     "output_type": "stream",
     "text": [
      "INFO:tensorflow:Evaluation [64/100]\n"
     ]
    },
    {
     "name": "stdout",
     "output_type": "stream",
     "text": [
      "INFO:tensorflow:Evaluation [65/100]\n"
     ]
    },
    {
     "name": "stderr",
     "output_type": "stream",
     "text": [
      "INFO:tensorflow:Evaluation [65/100]\n"
     ]
    },
    {
     "name": "stdout",
     "output_type": "stream",
     "text": [
      "INFO:tensorflow:Evaluation [66/100]\n"
     ]
    },
    {
     "name": "stderr",
     "output_type": "stream",
     "text": [
      "INFO:tensorflow:Evaluation [66/100]\n"
     ]
    },
    {
     "name": "stdout",
     "output_type": "stream",
     "text": [
      "INFO:tensorflow:Evaluation [67/100]\n"
     ]
    },
    {
     "name": "stderr",
     "output_type": "stream",
     "text": [
      "INFO:tensorflow:Evaluation [67/100]\n"
     ]
    },
    {
     "name": "stdout",
     "output_type": "stream",
     "text": [
      "INFO:tensorflow:Evaluation [68/100]\n"
     ]
    },
    {
     "name": "stderr",
     "output_type": "stream",
     "text": [
      "INFO:tensorflow:Evaluation [68/100]\n"
     ]
    },
    {
     "name": "stdout",
     "output_type": "stream",
     "text": [
      "INFO:tensorflow:Evaluation [69/100]\n"
     ]
    },
    {
     "name": "stderr",
     "output_type": "stream",
     "text": [
      "INFO:tensorflow:Evaluation [69/100]\n"
     ]
    },
    {
     "name": "stdout",
     "output_type": "stream",
     "text": [
      "INFO:tensorflow:Evaluation [70/100]\n"
     ]
    },
    {
     "name": "stderr",
     "output_type": "stream",
     "text": [
      "INFO:tensorflow:Evaluation [70/100]\n"
     ]
    },
    {
     "name": "stdout",
     "output_type": "stream",
     "text": [
      "INFO:tensorflow:Evaluation [71/100]\n"
     ]
    },
    {
     "name": "stderr",
     "output_type": "stream",
     "text": [
      "INFO:tensorflow:Evaluation [71/100]\n"
     ]
    },
    {
     "name": "stdout",
     "output_type": "stream",
     "text": [
      "INFO:tensorflow:Evaluation [72/100]\n"
     ]
    },
    {
     "name": "stderr",
     "output_type": "stream",
     "text": [
      "INFO:tensorflow:Evaluation [72/100]\n"
     ]
    },
    {
     "name": "stdout",
     "output_type": "stream",
     "text": [
      "INFO:tensorflow:Evaluation [73/100]\n"
     ]
    },
    {
     "name": "stderr",
     "output_type": "stream",
     "text": [
      "INFO:tensorflow:Evaluation [73/100]\n"
     ]
    },
    {
     "name": "stdout",
     "output_type": "stream",
     "text": [
      "INFO:tensorflow:Evaluation [74/100]\n"
     ]
    },
    {
     "name": "stderr",
     "output_type": "stream",
     "text": [
      "INFO:tensorflow:Evaluation [74/100]\n"
     ]
    },
    {
     "name": "stdout",
     "output_type": "stream",
     "text": [
      "INFO:tensorflow:Evaluation [75/100]\n"
     ]
    },
    {
     "name": "stderr",
     "output_type": "stream",
     "text": [
      "INFO:tensorflow:Evaluation [75/100]\n"
     ]
    },
    {
     "name": "stdout",
     "output_type": "stream",
     "text": [
      "INFO:tensorflow:Evaluation [76/100]\n"
     ]
    },
    {
     "name": "stderr",
     "output_type": "stream",
     "text": [
      "INFO:tensorflow:Evaluation [76/100]\n"
     ]
    },
    {
     "name": "stdout",
     "output_type": "stream",
     "text": [
      "INFO:tensorflow:Evaluation [77/100]\n"
     ]
    },
    {
     "name": "stderr",
     "output_type": "stream",
     "text": [
      "INFO:tensorflow:Evaluation [77/100]\n"
     ]
    },
    {
     "name": "stdout",
     "output_type": "stream",
     "text": [
      "INFO:tensorflow:Evaluation [78/100]\n"
     ]
    },
    {
     "name": "stderr",
     "output_type": "stream",
     "text": [
      "INFO:tensorflow:Evaluation [78/100]\n"
     ]
    },
    {
     "name": "stdout",
     "output_type": "stream",
     "text": [
      "INFO:tensorflow:Evaluation [79/100]\n"
     ]
    },
    {
     "name": "stderr",
     "output_type": "stream",
     "text": [
      "INFO:tensorflow:Evaluation [79/100]\n"
     ]
    },
    {
     "name": "stdout",
     "output_type": "stream",
     "text": [
      "INFO:tensorflow:Evaluation [80/100]\n"
     ]
    },
    {
     "name": "stderr",
     "output_type": "stream",
     "text": [
      "INFO:tensorflow:Evaluation [80/100]\n"
     ]
    },
    {
     "name": "stdout",
     "output_type": "stream",
     "text": [
      "INFO:tensorflow:Evaluation [81/100]\n"
     ]
    },
    {
     "name": "stderr",
     "output_type": "stream",
     "text": [
      "INFO:tensorflow:Evaluation [81/100]\n"
     ]
    },
    {
     "name": "stdout",
     "output_type": "stream",
     "text": [
      "INFO:tensorflow:Evaluation [82/100]\n"
     ]
    },
    {
     "name": "stderr",
     "output_type": "stream",
     "text": [
      "INFO:tensorflow:Evaluation [82/100]\n"
     ]
    },
    {
     "name": "stdout",
     "output_type": "stream",
     "text": [
      "INFO:tensorflow:Evaluation [83/100]\n"
     ]
    },
    {
     "name": "stderr",
     "output_type": "stream",
     "text": [
      "INFO:tensorflow:Evaluation [83/100]\n"
     ]
    },
    {
     "name": "stdout",
     "output_type": "stream",
     "text": [
      "INFO:tensorflow:Evaluation [84/100]\n"
     ]
    },
    {
     "name": "stderr",
     "output_type": "stream",
     "text": [
      "INFO:tensorflow:Evaluation [84/100]\n"
     ]
    },
    {
     "name": "stdout",
     "output_type": "stream",
     "text": [
      "INFO:tensorflow:Evaluation [85/100]\n"
     ]
    },
    {
     "name": "stderr",
     "output_type": "stream",
     "text": [
      "INFO:tensorflow:Evaluation [85/100]\n"
     ]
    },
    {
     "name": "stdout",
     "output_type": "stream",
     "text": [
      "INFO:tensorflow:Evaluation [86/100]\n"
     ]
    },
    {
     "name": "stderr",
     "output_type": "stream",
     "text": [
      "INFO:tensorflow:Evaluation [86/100]\n"
     ]
    },
    {
     "name": "stdout",
     "output_type": "stream",
     "text": [
      "INFO:tensorflow:Evaluation [87/100]\n"
     ]
    },
    {
     "name": "stderr",
     "output_type": "stream",
     "text": [
      "INFO:tensorflow:Evaluation [87/100]\n"
     ]
    },
    {
     "name": "stdout",
     "output_type": "stream",
     "text": [
      "INFO:tensorflow:Evaluation [88/100]\n"
     ]
    },
    {
     "name": "stderr",
     "output_type": "stream",
     "text": [
      "INFO:tensorflow:Evaluation [88/100]\n"
     ]
    },
    {
     "name": "stdout",
     "output_type": "stream",
     "text": [
      "INFO:tensorflow:Evaluation [89/100]\n"
     ]
    },
    {
     "name": "stderr",
     "output_type": "stream",
     "text": [
      "INFO:tensorflow:Evaluation [89/100]\n"
     ]
    },
    {
     "name": "stdout",
     "output_type": "stream",
     "text": [
      "INFO:tensorflow:Evaluation [90/100]\n"
     ]
    },
    {
     "name": "stderr",
     "output_type": "stream",
     "text": [
      "INFO:tensorflow:Evaluation [90/100]\n"
     ]
    },
    {
     "name": "stdout",
     "output_type": "stream",
     "text": [
      "INFO:tensorflow:Evaluation [91/100]\n"
     ]
    },
    {
     "name": "stderr",
     "output_type": "stream",
     "text": [
      "INFO:tensorflow:Evaluation [91/100]\n"
     ]
    },
    {
     "name": "stdout",
     "output_type": "stream",
     "text": [
      "INFO:tensorflow:Evaluation [92/100]\n"
     ]
    },
    {
     "name": "stderr",
     "output_type": "stream",
     "text": [
      "INFO:tensorflow:Evaluation [92/100]\n"
     ]
    },
    {
     "name": "stdout",
     "output_type": "stream",
     "text": [
      "INFO:tensorflow:Evaluation [93/100]\n"
     ]
    },
    {
     "name": "stderr",
     "output_type": "stream",
     "text": [
      "INFO:tensorflow:Evaluation [93/100]\n"
     ]
    },
    {
     "name": "stdout",
     "output_type": "stream",
     "text": [
      "INFO:tensorflow:Evaluation [94/100]\n"
     ]
    },
    {
     "name": "stderr",
     "output_type": "stream",
     "text": [
      "INFO:tensorflow:Evaluation [94/100]\n"
     ]
    },
    {
     "name": "stdout",
     "output_type": "stream",
     "text": [
      "INFO:tensorflow:Evaluation [95/100]\n"
     ]
    },
    {
     "name": "stderr",
     "output_type": "stream",
     "text": [
      "INFO:tensorflow:Evaluation [95/100]\n"
     ]
    },
    {
     "name": "stdout",
     "output_type": "stream",
     "text": [
      "INFO:tensorflow:Evaluation [96/100]\n"
     ]
    },
    {
     "name": "stderr",
     "output_type": "stream",
     "text": [
      "INFO:tensorflow:Evaluation [96/100]\n"
     ]
    },
    {
     "name": "stdout",
     "output_type": "stream",
     "text": [
      "INFO:tensorflow:Evaluation [97/100]\n"
     ]
    },
    {
     "name": "stderr",
     "output_type": "stream",
     "text": [
      "INFO:tensorflow:Evaluation [97/100]\n"
     ]
    },
    {
     "name": "stdout",
     "output_type": "stream",
     "text": [
      "INFO:tensorflow:Evaluation [98/100]\n"
     ]
    },
    {
     "name": "stderr",
     "output_type": "stream",
     "text": [
      "INFO:tensorflow:Evaluation [98/100]\n"
     ]
    },
    {
     "name": "stdout",
     "output_type": "stream",
     "text": [
      "INFO:tensorflow:Evaluation [99/100]\n"
     ]
    },
    {
     "name": "stderr",
     "output_type": "stream",
     "text": [
      "INFO:tensorflow:Evaluation [99/100]\n"
     ]
    },
    {
     "name": "stdout",
     "output_type": "stream",
     "text": [
      "INFO:tensorflow:Evaluation [100/100]\n"
     ]
    },
    {
     "name": "stderr",
     "output_type": "stream",
     "text": [
      "INFO:tensorflow:Evaluation [100/100]\n"
     ]
    },
    {
     "name": "stdout",
     "output_type": "stream",
     "text": [
      "INFO:tensorflow:Finished evaluation at 2017-02-28-16:38:02\n"
     ]
    },
    {
     "name": "stderr",
     "output_type": "stream",
     "text": [
      "INFO:tensorflow:Finished evaluation at 2017-02-28-16:38:02\n"
     ]
    },
    {
     "name": "stdout",
     "output_type": "stream",
     "text": [
      "INFO:tensorflow:Saving dict for global step 1: global_step = 1, loss = 190.629\n"
     ]
    },
    {
     "name": "stderr",
     "output_type": "stream",
     "text": [
      "INFO:tensorflow:Saving dict for global step 1: global_step = 1, loss = 190.629\n"
     ]
    },
    {
     "name": "stdout",
     "output_type": "stream",
     "text": [
      "WARNING:tensorflow:Skipping summary for global_step, must be a float or np.float32.\n"
     ]
    },
    {
     "name": "stderr",
     "output_type": "stream",
     "text": [
      "WARNING:tensorflow:Skipping summary for global_step, must be a float or np.float32.\n"
     ]
    },
    {
     "name": "stdout",
     "output_type": "stream",
     "text": [
      "INFO:tensorflow:Validation (step 100): loss = 190.629, global_step = 1\n"
     ]
    },
    {
     "name": "stderr",
     "output_type": "stream",
     "text": [
      "INFO:tensorflow:Validation (step 100): loss = 190.629, global_step = 1\n"
     ]
    },
    {
     "name": "stdout",
     "output_type": "stream",
     "text": [
      "INFO:tensorflow:global_step/sec: 74.662\n"
     ]
    },
    {
     "name": "stderr",
     "output_type": "stream",
     "text": [
      "INFO:tensorflow:global_step/sec: 74.662\n"
     ]
    },
    {
     "name": "stdout",
     "output_type": "stream",
     "text": [
      "INFO:tensorflow:loss = 69.5507, step = 101\n"
     ]
    },
    {
     "name": "stderr",
     "output_type": "stream",
     "text": [
      "INFO:tensorflow:loss = 69.5507, step = 101\n"
     ]
    },
    {
     "name": "stdout",
     "output_type": "stream",
     "text": [
      "INFO:tensorflow:global_step/sec: 137.977\n"
     ]
    },
    {
     "name": "stderr",
     "output_type": "stream",
     "text": [
      "INFO:tensorflow:global_step/sec: 137.977\n"
     ]
    },
    {
     "name": "stdout",
     "output_type": "stream",
     "text": [
      "INFO:tensorflow:loss = 118.545, step = 201\n"
     ]
    },
    {
     "name": "stderr",
     "output_type": "stream",
     "text": [
      "INFO:tensorflow:loss = 118.545, step = 201\n"
     ]
    },
    {
     "name": "stdout",
     "output_type": "stream",
     "text": [
      "INFO:tensorflow:global_step/sec: 300.414\n"
     ]
    },
    {
     "name": "stderr",
     "output_type": "stream",
     "text": [
      "INFO:tensorflow:global_step/sec: 300.414\n"
     ]
    },
    {
     "name": "stdout",
     "output_type": "stream",
     "text": [
      "INFO:tensorflow:loss = 68.7011, step = 301\n"
     ]
    },
    {
     "name": "stderr",
     "output_type": "stream",
     "text": [
      "INFO:tensorflow:loss = 68.7011, step = 301\n"
     ]
    },
    {
     "name": "stdout",
     "output_type": "stream",
     "text": [
      "INFO:tensorflow:global_step/sec: 308.763\n"
     ]
    },
    {
     "name": "stderr",
     "output_type": "stream",
     "text": [
      "INFO:tensorflow:global_step/sec: 308.763\n"
     ]
    },
    {
     "name": "stdout",
     "output_type": "stream",
     "text": [
      "INFO:tensorflow:loss = 119.304, step = 401\n"
     ]
    },
    {
     "name": "stderr",
     "output_type": "stream",
     "text": [
      "INFO:tensorflow:loss = 119.304, step = 401\n"
     ]
    },
    {
     "name": "stdout",
     "output_type": "stream",
     "text": [
      "INFO:tensorflow:global_step/sec: 309.365\n"
     ]
    },
    {
     "name": "stderr",
     "output_type": "stream",
     "text": [
      "INFO:tensorflow:global_step/sec: 309.365\n"
     ]
    },
    {
     "name": "stdout",
     "output_type": "stream",
     "text": [
      "INFO:tensorflow:loss = 59.21, step = 501\n"
     ]
    },
    {
     "name": "stderr",
     "output_type": "stream",
     "text": [
      "INFO:tensorflow:loss = 59.21, step = 501\n"
     ]
    },
    {
     "name": "stdout",
     "output_type": "stream",
     "text": [
      "INFO:tensorflow:global_step/sec: 308.573\n"
     ]
    },
    {
     "name": "stderr",
     "output_type": "stream",
     "text": [
      "INFO:tensorflow:global_step/sec: 308.573\n"
     ]
    },
    {
     "name": "stdout",
     "output_type": "stream",
     "text": [
      "INFO:tensorflow:loss = 113.4, step = 601\n"
     ]
    },
    {
     "name": "stderr",
     "output_type": "stream",
     "text": [
      "INFO:tensorflow:loss = 113.4, step = 601\n"
     ]
    },
    {
     "name": "stdout",
     "output_type": "stream",
     "text": [
      "INFO:tensorflow:global_step/sec: 299.496\n"
     ]
    },
    {
     "name": "stderr",
     "output_type": "stream",
     "text": [
      "INFO:tensorflow:global_step/sec: 299.496\n"
     ]
    },
    {
     "name": "stdout",
     "output_type": "stream",
     "text": [
      "INFO:tensorflow:loss = 51.9584, step = 701\n"
     ]
    },
    {
     "name": "stderr",
     "output_type": "stream",
     "text": [
      "INFO:tensorflow:loss = 51.9584, step = 701\n"
     ]
    },
    {
     "name": "stdout",
     "output_type": "stream",
     "text": [
      "INFO:tensorflow:global_step/sec: 316.617\n"
     ]
    },
    {
     "name": "stderr",
     "output_type": "stream",
     "text": [
      "INFO:tensorflow:global_step/sec: 316.617\n"
     ]
    },
    {
     "name": "stdout",
     "output_type": "stream",
     "text": [
      "INFO:tensorflow:loss = 88.6599, step = 801\n"
     ]
    },
    {
     "name": "stderr",
     "output_type": "stream",
     "text": [
      "INFO:tensorflow:loss = 88.6599, step = 801\n"
     ]
    },
    {
     "name": "stdout",
     "output_type": "stream",
     "text": [
      "INFO:tensorflow:global_step/sec: 304.868\n"
     ]
    },
    {
     "name": "stderr",
     "output_type": "stream",
     "text": [
      "INFO:tensorflow:global_step/sec: 304.868\n"
     ]
    },
    {
     "name": "stdout",
     "output_type": "stream",
     "text": [
      "INFO:tensorflow:loss = 113.445, step = 901\n"
     ]
    },
    {
     "name": "stderr",
     "output_type": "stream",
     "text": [
      "INFO:tensorflow:loss = 113.445, step = 901\n"
     ]
    },
    {
     "name": "stdout",
     "output_type": "stream",
     "text": [
      "INFO:tensorflow:global_step/sec: 307.353\n"
     ]
    },
    {
     "name": "stderr",
     "output_type": "stream",
     "text": [
      "INFO:tensorflow:global_step/sec: 307.353\n"
     ]
    },
    {
     "name": "stdout",
     "output_type": "stream",
     "text": [
      "INFO:tensorflow:loss = 100.481, step = 1001\n"
     ]
    },
    {
     "name": "stderr",
     "output_type": "stream",
     "text": [
      "INFO:tensorflow:loss = 100.481, step = 1001\n"
     ]
    },
    {
     "name": "stdout",
     "output_type": "stream",
     "text": [
      "INFO:tensorflow:global_step/sec: 306.9\n"
     ]
    },
    {
     "name": "stderr",
     "output_type": "stream",
     "text": [
      "INFO:tensorflow:global_step/sec: 306.9\n"
     ]
    },
    {
     "name": "stdout",
     "output_type": "stream",
     "text": [
      "INFO:tensorflow:loss = 76.0784, step = 1101\n"
     ]
    },
    {
     "name": "stderr",
     "output_type": "stream",
     "text": [
      "INFO:tensorflow:loss = 76.0784, step = 1101\n"
     ]
    },
    {
     "name": "stdout",
     "output_type": "stream",
     "text": [
      "INFO:tensorflow:global_step/sec: 157.218\n"
     ]
    },
    {
     "name": "stderr",
     "output_type": "stream",
     "text": [
      "INFO:tensorflow:global_step/sec: 157.218\n"
     ]
    },
    {
     "name": "stdout",
     "output_type": "stream",
     "text": [
      "INFO:tensorflow:loss = 115.233, step = 1201\n"
     ]
    },
    {
     "name": "stderr",
     "output_type": "stream",
     "text": [
      "INFO:tensorflow:loss = 115.233, step = 1201\n"
     ]
    },
    {
     "name": "stdout",
     "output_type": "stream",
     "text": [
      "INFO:tensorflow:global_step/sec: 303.473\n"
     ]
    },
    {
     "name": "stderr",
     "output_type": "stream",
     "text": [
      "INFO:tensorflow:global_step/sec: 303.473\n"
     ]
    },
    {
     "name": "stdout",
     "output_type": "stream",
     "text": [
      "INFO:tensorflow:loss = 94.4111, step = 1301\n"
     ]
    },
    {
     "name": "stderr",
     "output_type": "stream",
     "text": [
      "INFO:tensorflow:loss = 94.4111, step = 1301\n"
     ]
    },
    {
     "name": "stdout",
     "output_type": "stream",
     "text": [
      "INFO:tensorflow:global_step/sec: 305.12\n"
     ]
    },
    {
     "name": "stderr",
     "output_type": "stream",
     "text": [
      "INFO:tensorflow:global_step/sec: 305.12\n"
     ]
    },
    {
     "name": "stdout",
     "output_type": "stream",
     "text": [
      "INFO:tensorflow:loss = 88.9203, step = 1401\n"
     ]
    },
    {
     "name": "stderr",
     "output_type": "stream",
     "text": [
      "INFO:tensorflow:loss = 88.9203, step = 1401\n"
     ]
    },
    {
     "name": "stdout",
     "output_type": "stream",
     "text": [
      "INFO:tensorflow:global_step/sec: 302.649\n"
     ]
    },
    {
     "name": "stderr",
     "output_type": "stream",
     "text": [
      "INFO:tensorflow:global_step/sec: 302.649\n"
     ]
    },
    {
     "name": "stdout",
     "output_type": "stream",
     "text": [
      "INFO:tensorflow:loss = 45.8956, step = 1501\n"
     ]
    },
    {
     "name": "stderr",
     "output_type": "stream",
     "text": [
      "INFO:tensorflow:loss = 45.8956, step = 1501\n"
     ]
    },
    {
     "name": "stdout",
     "output_type": "stream",
     "text": [
      "INFO:tensorflow:global_step/sec: 302.118\n"
     ]
    },
    {
     "name": "stderr",
     "output_type": "stream",
     "text": [
      "INFO:tensorflow:global_step/sec: 302.118\n"
     ]
    },
    {
     "name": "stdout",
     "output_type": "stream",
     "text": [
      "INFO:tensorflow:loss = 79.2905, step = 1601\n"
     ]
    },
    {
     "name": "stderr",
     "output_type": "stream",
     "text": [
      "INFO:tensorflow:loss = 79.2905, step = 1601\n"
     ]
    },
    {
     "name": "stdout",
     "output_type": "stream",
     "text": [
      "INFO:tensorflow:global_step/sec: 305.848\n"
     ]
    },
    {
     "name": "stderr",
     "output_type": "stream",
     "text": [
      "INFO:tensorflow:global_step/sec: 305.848\n"
     ]
    },
    {
     "name": "stdout",
     "output_type": "stream",
     "text": [
      "INFO:tensorflow:loss = 94.6833, step = 1701\n"
     ]
    },
    {
     "name": "stderr",
     "output_type": "stream",
     "text": [
      "INFO:tensorflow:loss = 94.6833, step = 1701\n"
     ]
    },
    {
     "name": "stdout",
     "output_type": "stream",
     "text": [
      "INFO:tensorflow:global_step/sec: 301.63\n"
     ]
    },
    {
     "name": "stderr",
     "output_type": "stream",
     "text": [
      "INFO:tensorflow:global_step/sec: 301.63\n"
     ]
    },
    {
     "name": "stdout",
     "output_type": "stream",
     "text": [
      "INFO:tensorflow:loss = 92.6318, step = 1801\n"
     ]
    },
    {
     "name": "stderr",
     "output_type": "stream",
     "text": [
      "INFO:tensorflow:loss = 92.6318, step = 1801\n"
     ]
    },
    {
     "name": "stdout",
     "output_type": "stream",
     "text": [
      "INFO:tensorflow:global_step/sec: 309.005\n"
     ]
    },
    {
     "name": "stderr",
     "output_type": "stream",
     "text": [
      "INFO:tensorflow:global_step/sec: 309.005\n"
     ]
    },
    {
     "name": "stdout",
     "output_type": "stream",
     "text": [
      "INFO:tensorflow:loss = 141.35, step = 1901\n"
     ]
    },
    {
     "name": "stderr",
     "output_type": "stream",
     "text": [
      "INFO:tensorflow:loss = 141.35, step = 1901\n"
     ]
    },
    {
     "name": "stdout",
     "output_type": "stream",
     "text": [
      "INFO:tensorflow:global_step/sec: 305.967\n"
     ]
    },
    {
     "name": "stderr",
     "output_type": "stream",
     "text": [
      "INFO:tensorflow:global_step/sec: 305.967\n"
     ]
    },
    {
     "name": "stdout",
     "output_type": "stream",
     "text": [
      "INFO:tensorflow:loss = 71.6119, step = 2001\n"
     ]
    },
    {
     "name": "stderr",
     "output_type": "stream",
     "text": [
      "INFO:tensorflow:loss = 71.6119, step = 2001\n"
     ]
    },
    {
     "name": "stdout",
     "output_type": "stream",
     "text": [
      "INFO:tensorflow:global_step/sec: 301.216\n"
     ]
    },
    {
     "name": "stderr",
     "output_type": "stream",
     "text": [
      "INFO:tensorflow:global_step/sec: 301.216\n"
     ]
    },
    {
     "name": "stdout",
     "output_type": "stream",
     "text": [
      "INFO:tensorflow:loss = 78.3532, step = 2101\n"
     ]
    },
    {
     "name": "stderr",
     "output_type": "stream",
     "text": [
      "INFO:tensorflow:loss = 78.3532, step = 2101\n"
     ]
    },
    {
     "name": "stdout",
     "output_type": "stream",
     "text": [
      "INFO:tensorflow:global_step/sec: 299.464\n"
     ]
    },
    {
     "name": "stderr",
     "output_type": "stream",
     "text": [
      "INFO:tensorflow:global_step/sec: 299.464\n"
     ]
    },
    {
     "name": "stdout",
     "output_type": "stream",
     "text": [
      "INFO:tensorflow:loss = 52.048, step = 2201\n"
     ]
    },
    {
     "name": "stderr",
     "output_type": "stream",
     "text": [
      "INFO:tensorflow:loss = 52.048, step = 2201\n"
     ]
    },
    {
     "name": "stdout",
     "output_type": "stream",
     "text": [
      "INFO:tensorflow:global_step/sec: 302.968\n"
     ]
    },
    {
     "name": "stderr",
     "output_type": "stream",
     "text": [
      "INFO:tensorflow:global_step/sec: 302.968\n"
     ]
    },
    {
     "name": "stdout",
     "output_type": "stream",
     "text": [
      "INFO:tensorflow:loss = 56.6322, step = 2301\n"
     ]
    },
    {
     "name": "stderr",
     "output_type": "stream",
     "text": [
      "INFO:tensorflow:loss = 56.6322, step = 2301\n"
     ]
    },
    {
     "name": "stdout",
     "output_type": "stream",
     "text": [
      "INFO:tensorflow:global_step/sec: 303.306\n"
     ]
    },
    {
     "name": "stderr",
     "output_type": "stream",
     "text": [
      "INFO:tensorflow:global_step/sec: 303.306\n"
     ]
    },
    {
     "name": "stdout",
     "output_type": "stream",
     "text": [
      "INFO:tensorflow:loss = 148.738, step = 2401\n"
     ]
    },
    {
     "name": "stderr",
     "output_type": "stream",
     "text": [
      "INFO:tensorflow:loss = 148.738, step = 2401\n"
     ]
    },
    {
     "name": "stdout",
     "output_type": "stream",
     "text": [
      "INFO:tensorflow:Saving checkpoints for 2500 into ./taxi_trained/train/model.ckpt.\n"
     ]
    },
    {
     "name": "stderr",
     "output_type": "stream",
     "text": [
      "INFO:tensorflow:Saving checkpoints for 2500 into ./taxi_trained/train/model.ckpt.\n"
     ]
    },
    {
     "name": "stdout",
     "output_type": "stream",
     "text": [
      "INFO:tensorflow:Loss for final step: 93.5237.\n"
     ]
    },
    {
     "name": "stderr",
     "output_type": "stream",
     "text": [
      "INFO:tensorflow:Loss for final step: 93.5237.\n"
     ]
    },
    {
     "name": "stdout",
     "output_type": "stream",
     "text": [
      "WARNING:tensorflow:From /usr/local/lib/python2.7/dist-packages/tensorflow/contrib/learn/python/learn/estimators/head.py:1362: scalar_summary (from tensorflow.python.ops.logging_ops) is deprecated and will be removed after 2016-11-30.\n",
      "Instructions for updating:\n",
      "Please switch to tf.summary.scalar. Note that tf.summary.scalar uses the node name instead of the tag. This means that TensorFlow will automatically de-duplicate summary names based on the scope they are created in. Also, passing a tensor or list of tags to a scalar summary op is no longer supported.\n"
     ]
    },
    {
     "name": "stderr",
     "output_type": "stream",
     "text": [
      "WARNING:tensorflow:From /usr/local/lib/python2.7/dist-packages/tensorflow/contrib/learn/python/learn/estimators/head.py:1362: scalar_summary (from tensorflow.python.ops.logging_ops) is deprecated and will be removed after 2016-11-30.\n",
      "Instructions for updating:\n",
      "Please switch to tf.summary.scalar. Note that tf.summary.scalar uses the node name instead of the tag. This means that TensorFlow will automatically de-duplicate summary names based on the scope they are created in. Also, passing a tensor or list of tags to a scalar summary op is no longer supported.\n"
     ]
    },
    {
     "name": "stdout",
     "output_type": "stream",
     "text": [
      "INFO:tensorflow:Starting evaluation at 2017-02-28-16:38:11\n"
     ]
    },
    {
     "name": "stderr",
     "output_type": "stream",
     "text": [
      "INFO:tensorflow:Starting evaluation at 2017-02-28-16:38:11\n"
     ]
    },
    {
     "name": "stdout",
     "output_type": "stream",
     "text": [
      "INFO:tensorflow:Evaluation [1/100]\n"
     ]
    },
    {
     "name": "stderr",
     "output_type": "stream",
     "text": [
      "INFO:tensorflow:Evaluation [1/100]\n"
     ]
    },
    {
     "name": "stdout",
     "output_type": "stream",
     "text": [
      "INFO:tensorflow:Evaluation [2/100]\n"
     ]
    },
    {
     "name": "stderr",
     "output_type": "stream",
     "text": [
      "INFO:tensorflow:Evaluation [2/100]\n"
     ]
    },
    {
     "name": "stdout",
     "output_type": "stream",
     "text": [
      "INFO:tensorflow:Evaluation [3/100]\n"
     ]
    },
    {
     "name": "stderr",
     "output_type": "stream",
     "text": [
      "INFO:tensorflow:Evaluation [3/100]\n"
     ]
    },
    {
     "name": "stdout",
     "output_type": "stream",
     "text": [
      "INFO:tensorflow:Evaluation [4/100]\n"
     ]
    },
    {
     "name": "stderr",
     "output_type": "stream",
     "text": [
      "INFO:tensorflow:Evaluation [4/100]\n"
     ]
    },
    {
     "name": "stdout",
     "output_type": "stream",
     "text": [
      "INFO:tensorflow:Evaluation [5/100]\n"
     ]
    },
    {
     "name": "stderr",
     "output_type": "stream",
     "text": [
      "INFO:tensorflow:Evaluation [5/100]\n"
     ]
    },
    {
     "name": "stdout",
     "output_type": "stream",
     "text": [
      "INFO:tensorflow:Evaluation [6/100]\n"
     ]
    },
    {
     "name": "stderr",
     "output_type": "stream",
     "text": [
      "INFO:tensorflow:Evaluation [6/100]\n"
     ]
    },
    {
     "name": "stdout",
     "output_type": "stream",
     "text": [
      "INFO:tensorflow:Evaluation [7/100]\n"
     ]
    },
    {
     "name": "stderr",
     "output_type": "stream",
     "text": [
      "INFO:tensorflow:Evaluation [7/100]\n"
     ]
    },
    {
     "name": "stdout",
     "output_type": "stream",
     "text": [
      "INFO:tensorflow:Evaluation [8/100]\n"
     ]
    },
    {
     "name": "stderr",
     "output_type": "stream",
     "text": [
      "INFO:tensorflow:Evaluation [8/100]\n"
     ]
    },
    {
     "name": "stdout",
     "output_type": "stream",
     "text": [
      "INFO:tensorflow:Evaluation [9/100]\n"
     ]
    },
    {
     "name": "stderr",
     "output_type": "stream",
     "text": [
      "INFO:tensorflow:Evaluation [9/100]\n"
     ]
    },
    {
     "name": "stdout",
     "output_type": "stream",
     "text": [
      "INFO:tensorflow:Evaluation [10/100]\n"
     ]
    },
    {
     "name": "stderr",
     "output_type": "stream",
     "text": [
      "INFO:tensorflow:Evaluation [10/100]\n"
     ]
    },
    {
     "name": "stdout",
     "output_type": "stream",
     "text": [
      "INFO:tensorflow:Evaluation [11/100]\n"
     ]
    },
    {
     "name": "stderr",
     "output_type": "stream",
     "text": [
      "INFO:tensorflow:Evaluation [11/100]\n"
     ]
    },
    {
     "name": "stdout",
     "output_type": "stream",
     "text": [
      "INFO:tensorflow:Evaluation [12/100]\n"
     ]
    },
    {
     "name": "stderr",
     "output_type": "stream",
     "text": [
      "INFO:tensorflow:Evaluation [12/100]\n"
     ]
    },
    {
     "name": "stdout",
     "output_type": "stream",
     "text": [
      "INFO:tensorflow:Evaluation [13/100]\n"
     ]
    },
    {
     "name": "stderr",
     "output_type": "stream",
     "text": [
      "INFO:tensorflow:Evaluation [13/100]\n"
     ]
    },
    {
     "name": "stdout",
     "output_type": "stream",
     "text": [
      "INFO:tensorflow:Evaluation [14/100]\n"
     ]
    },
    {
     "name": "stderr",
     "output_type": "stream",
     "text": [
      "INFO:tensorflow:Evaluation [14/100]\n"
     ]
    },
    {
     "name": "stdout",
     "output_type": "stream",
     "text": [
      "INFO:tensorflow:Evaluation [15/100]\n"
     ]
    },
    {
     "name": "stderr",
     "output_type": "stream",
     "text": [
      "INFO:tensorflow:Evaluation [15/100]\n"
     ]
    },
    {
     "name": "stdout",
     "output_type": "stream",
     "text": [
      "INFO:tensorflow:Evaluation [16/100]\n"
     ]
    },
    {
     "name": "stderr",
     "output_type": "stream",
     "text": [
      "INFO:tensorflow:Evaluation [16/100]\n"
     ]
    },
    {
     "name": "stdout",
     "output_type": "stream",
     "text": [
      "INFO:tensorflow:Evaluation [17/100]\n"
     ]
    },
    {
     "name": "stderr",
     "output_type": "stream",
     "text": [
      "INFO:tensorflow:Evaluation [17/100]\n"
     ]
    },
    {
     "name": "stdout",
     "output_type": "stream",
     "text": [
      "INFO:tensorflow:Evaluation [18/100]\n"
     ]
    },
    {
     "name": "stderr",
     "output_type": "stream",
     "text": [
      "INFO:tensorflow:Evaluation [18/100]\n"
     ]
    },
    {
     "name": "stdout",
     "output_type": "stream",
     "text": [
      "INFO:tensorflow:Evaluation [19/100]\n"
     ]
    },
    {
     "name": "stderr",
     "output_type": "stream",
     "text": [
      "INFO:tensorflow:Evaluation [19/100]\n"
     ]
    },
    {
     "name": "stdout",
     "output_type": "stream",
     "text": [
      "INFO:tensorflow:Evaluation [20/100]\n"
     ]
    },
    {
     "name": "stderr",
     "output_type": "stream",
     "text": [
      "INFO:tensorflow:Evaluation [20/100]\n"
     ]
    },
    {
     "name": "stdout",
     "output_type": "stream",
     "text": [
      "INFO:tensorflow:Evaluation [21/100]\n"
     ]
    },
    {
     "name": "stderr",
     "output_type": "stream",
     "text": [
      "INFO:tensorflow:Evaluation [21/100]\n"
     ]
    },
    {
     "name": "stdout",
     "output_type": "stream",
     "text": [
      "INFO:tensorflow:Evaluation [22/100]\n"
     ]
    },
    {
     "name": "stderr",
     "output_type": "stream",
     "text": [
      "INFO:tensorflow:Evaluation [22/100]\n"
     ]
    },
    {
     "name": "stdout",
     "output_type": "stream",
     "text": [
      "INFO:tensorflow:Evaluation [23/100]\n"
     ]
    },
    {
     "name": "stderr",
     "output_type": "stream",
     "text": [
      "INFO:tensorflow:Evaluation [23/100]\n"
     ]
    },
    {
     "name": "stdout",
     "output_type": "stream",
     "text": [
      "INFO:tensorflow:Evaluation [24/100]\n"
     ]
    },
    {
     "name": "stderr",
     "output_type": "stream",
     "text": [
      "INFO:tensorflow:Evaluation [24/100]\n"
     ]
    },
    {
     "name": "stdout",
     "output_type": "stream",
     "text": [
      "INFO:tensorflow:Evaluation [25/100]\n"
     ]
    },
    {
     "name": "stderr",
     "output_type": "stream",
     "text": [
      "INFO:tensorflow:Evaluation [25/100]\n"
     ]
    },
    {
     "name": "stdout",
     "output_type": "stream",
     "text": [
      "INFO:tensorflow:Evaluation [26/100]\n"
     ]
    },
    {
     "name": "stderr",
     "output_type": "stream",
     "text": [
      "INFO:tensorflow:Evaluation [26/100]\n"
     ]
    },
    {
     "name": "stdout",
     "output_type": "stream",
     "text": [
      "INFO:tensorflow:Evaluation [27/100]\n"
     ]
    },
    {
     "name": "stderr",
     "output_type": "stream",
     "text": [
      "INFO:tensorflow:Evaluation [27/100]\n"
     ]
    },
    {
     "name": "stdout",
     "output_type": "stream",
     "text": [
      "INFO:tensorflow:Evaluation [28/100]\n"
     ]
    },
    {
     "name": "stderr",
     "output_type": "stream",
     "text": [
      "INFO:tensorflow:Evaluation [28/100]\n"
     ]
    },
    {
     "name": "stdout",
     "output_type": "stream",
     "text": [
      "INFO:tensorflow:Evaluation [29/100]\n"
     ]
    },
    {
     "name": "stderr",
     "output_type": "stream",
     "text": [
      "INFO:tensorflow:Evaluation [29/100]\n"
     ]
    },
    {
     "name": "stdout",
     "output_type": "stream",
     "text": [
      "INFO:tensorflow:Evaluation [30/100]\n"
     ]
    },
    {
     "name": "stderr",
     "output_type": "stream",
     "text": [
      "INFO:tensorflow:Evaluation [30/100]\n"
     ]
    },
    {
     "name": "stdout",
     "output_type": "stream",
     "text": [
      "INFO:tensorflow:Evaluation [31/100]\n"
     ]
    },
    {
     "name": "stderr",
     "output_type": "stream",
     "text": [
      "INFO:tensorflow:Evaluation [31/100]\n"
     ]
    },
    {
     "name": "stdout",
     "output_type": "stream",
     "text": [
      "INFO:tensorflow:Evaluation [32/100]\n"
     ]
    },
    {
     "name": "stderr",
     "output_type": "stream",
     "text": [
      "INFO:tensorflow:Evaluation [32/100]\n"
     ]
    },
    {
     "name": "stdout",
     "output_type": "stream",
     "text": [
      "INFO:tensorflow:Evaluation [33/100]\n"
     ]
    },
    {
     "name": "stderr",
     "output_type": "stream",
     "text": [
      "INFO:tensorflow:Evaluation [33/100]\n"
     ]
    },
    {
     "name": "stdout",
     "output_type": "stream",
     "text": [
      "INFO:tensorflow:Evaluation [34/100]\n"
     ]
    },
    {
     "name": "stderr",
     "output_type": "stream",
     "text": [
      "INFO:tensorflow:Evaluation [34/100]\n"
     ]
    },
    {
     "name": "stdout",
     "output_type": "stream",
     "text": [
      "INFO:tensorflow:Evaluation [35/100]\n"
     ]
    },
    {
     "name": "stderr",
     "output_type": "stream",
     "text": [
      "INFO:tensorflow:Evaluation [35/100]\n"
     ]
    },
    {
     "name": "stdout",
     "output_type": "stream",
     "text": [
      "INFO:tensorflow:Evaluation [36/100]\n"
     ]
    },
    {
     "name": "stderr",
     "output_type": "stream",
     "text": [
      "INFO:tensorflow:Evaluation [36/100]\n"
     ]
    },
    {
     "name": "stdout",
     "output_type": "stream",
     "text": [
      "INFO:tensorflow:Evaluation [37/100]\n"
     ]
    },
    {
     "name": "stderr",
     "output_type": "stream",
     "text": [
      "INFO:tensorflow:Evaluation [37/100]\n"
     ]
    },
    {
     "name": "stdout",
     "output_type": "stream",
     "text": [
      "INFO:tensorflow:Evaluation [38/100]\n"
     ]
    },
    {
     "name": "stderr",
     "output_type": "stream",
     "text": [
      "INFO:tensorflow:Evaluation [38/100]\n"
     ]
    },
    {
     "name": "stdout",
     "output_type": "stream",
     "text": [
      "INFO:tensorflow:Evaluation [39/100]\n"
     ]
    },
    {
     "name": "stderr",
     "output_type": "stream",
     "text": [
      "INFO:tensorflow:Evaluation [39/100]\n"
     ]
    },
    {
     "name": "stdout",
     "output_type": "stream",
     "text": [
      "INFO:tensorflow:Evaluation [40/100]\n"
     ]
    },
    {
     "name": "stderr",
     "output_type": "stream",
     "text": [
      "INFO:tensorflow:Evaluation [40/100]\n"
     ]
    },
    {
     "name": "stdout",
     "output_type": "stream",
     "text": [
      "INFO:tensorflow:Evaluation [41/100]\n"
     ]
    },
    {
     "name": "stderr",
     "output_type": "stream",
     "text": [
      "INFO:tensorflow:Evaluation [41/100]\n"
     ]
    },
    {
     "name": "stdout",
     "output_type": "stream",
     "text": [
      "INFO:tensorflow:Evaluation [42/100]\n"
     ]
    },
    {
     "name": "stderr",
     "output_type": "stream",
     "text": [
      "INFO:tensorflow:Evaluation [42/100]\n"
     ]
    },
    {
     "name": "stdout",
     "output_type": "stream",
     "text": [
      "INFO:tensorflow:Evaluation [43/100]\n"
     ]
    },
    {
     "name": "stderr",
     "output_type": "stream",
     "text": [
      "INFO:tensorflow:Evaluation [43/100]\n"
     ]
    },
    {
     "name": "stdout",
     "output_type": "stream",
     "text": [
      "INFO:tensorflow:Evaluation [44/100]\n"
     ]
    },
    {
     "name": "stderr",
     "output_type": "stream",
     "text": [
      "INFO:tensorflow:Evaluation [44/100]\n"
     ]
    },
    {
     "name": "stdout",
     "output_type": "stream",
     "text": [
      "INFO:tensorflow:Evaluation [45/100]\n"
     ]
    },
    {
     "name": "stderr",
     "output_type": "stream",
     "text": [
      "INFO:tensorflow:Evaluation [45/100]\n"
     ]
    },
    {
     "name": "stdout",
     "output_type": "stream",
     "text": [
      "INFO:tensorflow:Evaluation [46/100]\n"
     ]
    },
    {
     "name": "stderr",
     "output_type": "stream",
     "text": [
      "INFO:tensorflow:Evaluation [46/100]\n"
     ]
    },
    {
     "name": "stdout",
     "output_type": "stream",
     "text": [
      "INFO:tensorflow:Evaluation [47/100]\n"
     ]
    },
    {
     "name": "stderr",
     "output_type": "stream",
     "text": [
      "INFO:tensorflow:Evaluation [47/100]\n"
     ]
    },
    {
     "name": "stdout",
     "output_type": "stream",
     "text": [
      "INFO:tensorflow:Evaluation [48/100]\n"
     ]
    },
    {
     "name": "stderr",
     "output_type": "stream",
     "text": [
      "INFO:tensorflow:Evaluation [48/100]\n"
     ]
    },
    {
     "name": "stdout",
     "output_type": "stream",
     "text": [
      "INFO:tensorflow:Evaluation [49/100]\n"
     ]
    },
    {
     "name": "stderr",
     "output_type": "stream",
     "text": [
      "INFO:tensorflow:Evaluation [49/100]\n"
     ]
    },
    {
     "name": "stdout",
     "output_type": "stream",
     "text": [
      "INFO:tensorflow:Evaluation [50/100]\n"
     ]
    },
    {
     "name": "stderr",
     "output_type": "stream",
     "text": [
      "INFO:tensorflow:Evaluation [50/100]\n"
     ]
    },
    {
     "name": "stdout",
     "output_type": "stream",
     "text": [
      "INFO:tensorflow:Evaluation [51/100]\n"
     ]
    },
    {
     "name": "stderr",
     "output_type": "stream",
     "text": [
      "INFO:tensorflow:Evaluation [51/100]\n"
     ]
    },
    {
     "name": "stdout",
     "output_type": "stream",
     "text": [
      "INFO:tensorflow:Evaluation [52/100]\n"
     ]
    },
    {
     "name": "stderr",
     "output_type": "stream",
     "text": [
      "INFO:tensorflow:Evaluation [52/100]\n"
     ]
    },
    {
     "name": "stdout",
     "output_type": "stream",
     "text": [
      "INFO:tensorflow:Evaluation [53/100]\n"
     ]
    },
    {
     "name": "stderr",
     "output_type": "stream",
     "text": [
      "INFO:tensorflow:Evaluation [53/100]\n"
     ]
    },
    {
     "name": "stdout",
     "output_type": "stream",
     "text": [
      "INFO:tensorflow:Evaluation [54/100]\n"
     ]
    },
    {
     "name": "stderr",
     "output_type": "stream",
     "text": [
      "INFO:tensorflow:Evaluation [54/100]\n"
     ]
    },
    {
     "name": "stdout",
     "output_type": "stream",
     "text": [
      "INFO:tensorflow:Evaluation [55/100]\n"
     ]
    },
    {
     "name": "stderr",
     "output_type": "stream",
     "text": [
      "INFO:tensorflow:Evaluation [55/100]\n"
     ]
    },
    {
     "name": "stdout",
     "output_type": "stream",
     "text": [
      "INFO:tensorflow:Evaluation [56/100]\n"
     ]
    },
    {
     "name": "stderr",
     "output_type": "stream",
     "text": [
      "INFO:tensorflow:Evaluation [56/100]\n"
     ]
    },
    {
     "name": "stdout",
     "output_type": "stream",
     "text": [
      "INFO:tensorflow:Evaluation [57/100]\n"
     ]
    },
    {
     "name": "stderr",
     "output_type": "stream",
     "text": [
      "INFO:tensorflow:Evaluation [57/100]\n"
     ]
    },
    {
     "name": "stdout",
     "output_type": "stream",
     "text": [
      "INFO:tensorflow:Evaluation [58/100]\n"
     ]
    },
    {
     "name": "stderr",
     "output_type": "stream",
     "text": [
      "INFO:tensorflow:Evaluation [58/100]\n"
     ]
    },
    {
     "name": "stdout",
     "output_type": "stream",
     "text": [
      "INFO:tensorflow:Evaluation [59/100]\n"
     ]
    },
    {
     "name": "stderr",
     "output_type": "stream",
     "text": [
      "INFO:tensorflow:Evaluation [59/100]\n"
     ]
    },
    {
     "name": "stdout",
     "output_type": "stream",
     "text": [
      "INFO:tensorflow:Evaluation [60/100]\n"
     ]
    },
    {
     "name": "stderr",
     "output_type": "stream",
     "text": [
      "INFO:tensorflow:Evaluation [60/100]\n"
     ]
    },
    {
     "name": "stdout",
     "output_type": "stream",
     "text": [
      "INFO:tensorflow:Evaluation [61/100]\n"
     ]
    },
    {
     "name": "stderr",
     "output_type": "stream",
     "text": [
      "INFO:tensorflow:Evaluation [61/100]\n"
     ]
    },
    {
     "name": "stdout",
     "output_type": "stream",
     "text": [
      "INFO:tensorflow:Evaluation [62/100]\n"
     ]
    },
    {
     "name": "stderr",
     "output_type": "stream",
     "text": [
      "INFO:tensorflow:Evaluation [62/100]\n"
     ]
    },
    {
     "name": "stdout",
     "output_type": "stream",
     "text": [
      "INFO:tensorflow:Evaluation [63/100]\n"
     ]
    },
    {
     "name": "stderr",
     "output_type": "stream",
     "text": [
      "INFO:tensorflow:Evaluation [63/100]\n"
     ]
    },
    {
     "name": "stdout",
     "output_type": "stream",
     "text": [
      "INFO:tensorflow:Evaluation [64/100]\n"
     ]
    },
    {
     "name": "stderr",
     "output_type": "stream",
     "text": [
      "INFO:tensorflow:Evaluation [64/100]\n"
     ]
    },
    {
     "name": "stdout",
     "output_type": "stream",
     "text": [
      "INFO:tensorflow:Evaluation [65/100]\n"
     ]
    },
    {
     "name": "stderr",
     "output_type": "stream",
     "text": [
      "INFO:tensorflow:Evaluation [65/100]\n"
     ]
    },
    {
     "name": "stdout",
     "output_type": "stream",
     "text": [
      "INFO:tensorflow:Evaluation [66/100]\n"
     ]
    },
    {
     "name": "stderr",
     "output_type": "stream",
     "text": [
      "INFO:tensorflow:Evaluation [66/100]\n"
     ]
    },
    {
     "name": "stdout",
     "output_type": "stream",
     "text": [
      "INFO:tensorflow:Evaluation [67/100]\n"
     ]
    },
    {
     "name": "stderr",
     "output_type": "stream",
     "text": [
      "INFO:tensorflow:Evaluation [67/100]\n"
     ]
    },
    {
     "name": "stdout",
     "output_type": "stream",
     "text": [
      "INFO:tensorflow:Evaluation [68/100]\n"
     ]
    },
    {
     "name": "stderr",
     "output_type": "stream",
     "text": [
      "INFO:tensorflow:Evaluation [68/100]\n"
     ]
    },
    {
     "name": "stdout",
     "output_type": "stream",
     "text": [
      "INFO:tensorflow:Evaluation [69/100]\n"
     ]
    },
    {
     "name": "stderr",
     "output_type": "stream",
     "text": [
      "INFO:tensorflow:Evaluation [69/100]\n"
     ]
    },
    {
     "name": "stdout",
     "output_type": "stream",
     "text": [
      "INFO:tensorflow:Evaluation [70/100]\n"
     ]
    },
    {
     "name": "stderr",
     "output_type": "stream",
     "text": [
      "INFO:tensorflow:Evaluation [70/100]\n"
     ]
    },
    {
     "name": "stdout",
     "output_type": "stream",
     "text": [
      "INFO:tensorflow:Evaluation [71/100]\n"
     ]
    },
    {
     "name": "stderr",
     "output_type": "stream",
     "text": [
      "INFO:tensorflow:Evaluation [71/100]\n"
     ]
    },
    {
     "name": "stdout",
     "output_type": "stream",
     "text": [
      "INFO:tensorflow:Evaluation [72/100]\n"
     ]
    },
    {
     "name": "stderr",
     "output_type": "stream",
     "text": [
      "INFO:tensorflow:Evaluation [72/100]\n"
     ]
    },
    {
     "name": "stdout",
     "output_type": "stream",
     "text": [
      "INFO:tensorflow:Evaluation [73/100]\n"
     ]
    },
    {
     "name": "stderr",
     "output_type": "stream",
     "text": [
      "INFO:tensorflow:Evaluation [73/100]\n"
     ]
    },
    {
     "name": "stdout",
     "output_type": "stream",
     "text": [
      "INFO:tensorflow:Evaluation [74/100]\n"
     ]
    },
    {
     "name": "stderr",
     "output_type": "stream",
     "text": [
      "INFO:tensorflow:Evaluation [74/100]\n"
     ]
    },
    {
     "name": "stdout",
     "output_type": "stream",
     "text": [
      "INFO:tensorflow:Evaluation [75/100]\n"
     ]
    },
    {
     "name": "stderr",
     "output_type": "stream",
     "text": [
      "INFO:tensorflow:Evaluation [75/100]\n"
     ]
    },
    {
     "name": "stdout",
     "output_type": "stream",
     "text": [
      "INFO:tensorflow:Evaluation [76/100]\n"
     ]
    },
    {
     "name": "stderr",
     "output_type": "stream",
     "text": [
      "INFO:tensorflow:Evaluation [76/100]\n"
     ]
    },
    {
     "name": "stdout",
     "output_type": "stream",
     "text": [
      "INFO:tensorflow:Evaluation [77/100]\n"
     ]
    },
    {
     "name": "stderr",
     "output_type": "stream",
     "text": [
      "INFO:tensorflow:Evaluation [77/100]\n"
     ]
    },
    {
     "name": "stdout",
     "output_type": "stream",
     "text": [
      "INFO:tensorflow:Evaluation [78/100]\n"
     ]
    },
    {
     "name": "stderr",
     "output_type": "stream",
     "text": [
      "INFO:tensorflow:Evaluation [78/100]\n"
     ]
    },
    {
     "name": "stdout",
     "output_type": "stream",
     "text": [
      "INFO:tensorflow:Evaluation [79/100]\n"
     ]
    },
    {
     "name": "stderr",
     "output_type": "stream",
     "text": [
      "INFO:tensorflow:Evaluation [79/100]\n"
     ]
    },
    {
     "name": "stdout",
     "output_type": "stream",
     "text": [
      "INFO:tensorflow:Evaluation [80/100]\n"
     ]
    },
    {
     "name": "stderr",
     "output_type": "stream",
     "text": [
      "INFO:tensorflow:Evaluation [80/100]\n"
     ]
    },
    {
     "name": "stdout",
     "output_type": "stream",
     "text": [
      "INFO:tensorflow:Evaluation [81/100]\n"
     ]
    },
    {
     "name": "stderr",
     "output_type": "stream",
     "text": [
      "INFO:tensorflow:Evaluation [81/100]\n"
     ]
    },
    {
     "name": "stdout",
     "output_type": "stream",
     "text": [
      "INFO:tensorflow:Evaluation [82/100]\n"
     ]
    },
    {
     "name": "stderr",
     "output_type": "stream",
     "text": [
      "INFO:tensorflow:Evaluation [82/100]\n"
     ]
    },
    {
     "name": "stdout",
     "output_type": "stream",
     "text": [
      "INFO:tensorflow:Evaluation [83/100]\n"
     ]
    },
    {
     "name": "stderr",
     "output_type": "stream",
     "text": [
      "INFO:tensorflow:Evaluation [83/100]\n"
     ]
    },
    {
     "name": "stdout",
     "output_type": "stream",
     "text": [
      "INFO:tensorflow:Evaluation [84/100]\n"
     ]
    },
    {
     "name": "stderr",
     "output_type": "stream",
     "text": [
      "INFO:tensorflow:Evaluation [84/100]\n"
     ]
    },
    {
     "name": "stdout",
     "output_type": "stream",
     "text": [
      "INFO:tensorflow:Evaluation [85/100]\n"
     ]
    },
    {
     "name": "stderr",
     "output_type": "stream",
     "text": [
      "INFO:tensorflow:Evaluation [85/100]\n"
     ]
    },
    {
     "name": "stdout",
     "output_type": "stream",
     "text": [
      "INFO:tensorflow:Evaluation [86/100]\n"
     ]
    },
    {
     "name": "stderr",
     "output_type": "stream",
     "text": [
      "INFO:tensorflow:Evaluation [86/100]\n"
     ]
    },
    {
     "name": "stdout",
     "output_type": "stream",
     "text": [
      "INFO:tensorflow:Evaluation [87/100]\n"
     ]
    },
    {
     "name": "stderr",
     "output_type": "stream",
     "text": [
      "INFO:tensorflow:Evaluation [87/100]\n"
     ]
    },
    {
     "name": "stdout",
     "output_type": "stream",
     "text": [
      "INFO:tensorflow:Evaluation [88/100]\n"
     ]
    },
    {
     "name": "stderr",
     "output_type": "stream",
     "text": [
      "INFO:tensorflow:Evaluation [88/100]\n"
     ]
    },
    {
     "name": "stdout",
     "output_type": "stream",
     "text": [
      "INFO:tensorflow:Evaluation [89/100]\n"
     ]
    },
    {
     "name": "stderr",
     "output_type": "stream",
     "text": [
      "INFO:tensorflow:Evaluation [89/100]\n"
     ]
    },
    {
     "name": "stdout",
     "output_type": "stream",
     "text": [
      "INFO:tensorflow:Evaluation [90/100]\n"
     ]
    },
    {
     "name": "stderr",
     "output_type": "stream",
     "text": [
      "INFO:tensorflow:Evaluation [90/100]\n"
     ]
    },
    {
     "name": "stdout",
     "output_type": "stream",
     "text": [
      "INFO:tensorflow:Evaluation [91/100]\n"
     ]
    },
    {
     "name": "stderr",
     "output_type": "stream",
     "text": [
      "INFO:tensorflow:Evaluation [91/100]\n"
     ]
    },
    {
     "name": "stdout",
     "output_type": "stream",
     "text": [
      "INFO:tensorflow:Evaluation [92/100]\n"
     ]
    },
    {
     "name": "stderr",
     "output_type": "stream",
     "text": [
      "INFO:tensorflow:Evaluation [92/100]\n"
     ]
    },
    {
     "name": "stdout",
     "output_type": "stream",
     "text": [
      "INFO:tensorflow:Evaluation [93/100]\n"
     ]
    },
    {
     "name": "stderr",
     "output_type": "stream",
     "text": [
      "INFO:tensorflow:Evaluation [93/100]\n"
     ]
    },
    {
     "name": "stdout",
     "output_type": "stream",
     "text": [
      "INFO:tensorflow:Evaluation [94/100]\n"
     ]
    },
    {
     "name": "stderr",
     "output_type": "stream",
     "text": [
      "INFO:tensorflow:Evaluation [94/100]\n"
     ]
    },
    {
     "name": "stdout",
     "output_type": "stream",
     "text": [
      "INFO:tensorflow:Evaluation [95/100]\n"
     ]
    },
    {
     "name": "stderr",
     "output_type": "stream",
     "text": [
      "INFO:tensorflow:Evaluation [95/100]\n"
     ]
    },
    {
     "name": "stdout",
     "output_type": "stream",
     "text": [
      "INFO:tensorflow:Evaluation [96/100]\n"
     ]
    },
    {
     "name": "stderr",
     "output_type": "stream",
     "text": [
      "INFO:tensorflow:Evaluation [96/100]\n"
     ]
    },
    {
     "name": "stdout",
     "output_type": "stream",
     "text": [
      "INFO:tensorflow:Evaluation [97/100]\n"
     ]
    },
    {
     "name": "stderr",
     "output_type": "stream",
     "text": [
      "INFO:tensorflow:Evaluation [97/100]\n"
     ]
    },
    {
     "name": "stdout",
     "output_type": "stream",
     "text": [
      "INFO:tensorflow:Evaluation [98/100]\n"
     ]
    },
    {
     "name": "stderr",
     "output_type": "stream",
     "text": [
      "INFO:tensorflow:Evaluation [98/100]\n"
     ]
    },
    {
     "name": "stdout",
     "output_type": "stream",
     "text": [
      "INFO:tensorflow:Evaluation [99/100]\n"
     ]
    },
    {
     "name": "stderr",
     "output_type": "stream",
     "text": [
      "INFO:tensorflow:Evaluation [99/100]\n"
     ]
    },
    {
     "name": "stdout",
     "output_type": "stream",
     "text": [
      "INFO:tensorflow:Evaluation [100/100]\n"
     ]
    },
    {
     "name": "stderr",
     "output_type": "stream",
     "text": [
      "INFO:tensorflow:Evaluation [100/100]\n"
     ]
    },
    {
     "name": "stdout",
     "output_type": "stream",
     "text": [
      "INFO:tensorflow:Finished evaluation at 2017-02-28-16:38:12\n"
     ]
    },
    {
     "name": "stderr",
     "output_type": "stream",
     "text": [
      "INFO:tensorflow:Finished evaluation at 2017-02-28-16:38:12\n"
     ]
    },
    {
     "name": "stdout",
     "output_type": "stream",
     "text": [
      "INFO:tensorflow:Saving dict for global step 2500: global_step = 2500, loss = 84.0451\n"
     ]
    },
    {
     "name": "stderr",
     "output_type": "stream",
     "text": [
      "INFO:tensorflow:Saving dict for global step 2500: global_step = 2500, loss = 84.0451\n"
     ]
    },
    {
     "name": "stdout",
     "output_type": "stream",
     "text": [
      "WARNING:tensorflow:Skipping summary for global_step, must be a float or np.float32.\n"
     ]
    },
    {
     "name": "stderr",
     "output_type": "stream",
     "text": [
      "WARNING:tensorflow:Skipping summary for global_step, must be a float or np.float32.\n"
     ]
    },
    {
     "name": "stdout",
     "output_type": "stream",
     "text": [
      "INFO:tensorflow:Assets added to graph.\n"
     ]
    },
    {
     "name": "stderr",
     "output_type": "stream",
     "text": [
      "INFO:tensorflow:Assets added to graph.\n"
     ]
    },
    {
     "name": "stdout",
     "output_type": "stream",
     "text": [
      "INFO:tensorflow:No assets to write.\n"
     ]
    },
    {
     "name": "stderr",
     "output_type": "stream",
     "text": [
      "INFO:tensorflow:No assets to write.\n"
     ]
    },
    {
     "name": "stdout",
     "output_type": "stream",
     "text": [
      "INFO:tensorflow:SavedModel written to: ./taxi_trained/train/export/intermediate_evaluation_models/1488299892834/saved_model.pb\n"
     ]
    },
    {
     "name": "stderr",
     "output_type": "stream",
     "text": [
      "INFO:tensorflow:SavedModel written to: ./taxi_trained/train/export/intermediate_evaluation_models/1488299892834/saved_model.pb\n"
     ]
    },
    {
     "name": "stdout",
     "output_type": "stream",
     "text": [
      "INFO:tensorflow:Assets added to graph.\n"
     ]
    },
    {
     "name": "stderr",
     "output_type": "stream",
     "text": [
      "INFO:tensorflow:Assets added to graph.\n"
     ]
    },
    {
     "name": "stdout",
     "output_type": "stream",
     "text": [
      "INFO:tensorflow:No assets to write.\n"
     ]
    },
    {
     "name": "stderr",
     "output_type": "stream",
     "text": [
      "INFO:tensorflow:No assets to write.\n"
     ]
    },
    {
     "name": "stdout",
     "output_type": "stream",
     "text": [
      "INFO:tensorflow:SavedModel written to: ./taxi_trained/train/export/intermediate_prediction_models/1488299893441/saved_model.pb\n"
     ]
    },
    {
     "name": "stderr",
     "output_type": "stream",
     "text": [
      "INFO:tensorflow:SavedModel written to: ./taxi_trained/train/export/intermediate_prediction_models/1488299893441/saved_model.pb\n"
     ]
    },
    {
     "name": "stdout",
     "output_type": "stream",
     "text": [
      "Local training done.\n"
     ]
    }
   ],
   "source": [
    "eval_csv = ml.CsvDataSet(\n",
    "  file_pattern=os.path.join(INDIR, 'valid*'),\n",
    "  schema_file=os.path.join(OUTDIR, 'taxifare.json'))\n",
    "\n",
    "shutil.rmtree(os.path.join(OUTDIR, 'taxi_trained'), ignore_errors=True)\n",
    "sd.local_train(\n",
    "  train_dataset=train_csv,\n",
    "  eval_dataset=eval_csv,\n",
    "  preprocess_output_dir=os.path.join(OUTDIR, 'taxi_preproc'),\n",
    "  transforms=os.path.join(OUTDIR, 'taxi_preproc/transforms.json'),\n",
    "  output_dir=os.path.join(OUTDIR, 'taxi_trained'),\n",
    "  model_type='dnn_regression',\n",
    "  max_steps=2500,\n",
    "  layer_sizes=[64, 4]\n",
    ")"
   ]
  },
  {
   "cell_type": "code",
   "execution_count": 23,
   "metadata": {
    "collapsed": false
   },
   "outputs": [
    {
     "name": "stdout",
     "output_type": "stream",
     "text": [
      "evaluation_model  model  train\r\n"
     ]
    }
   ],
   "source": [
    "!ls taxi_trained"
   ]
  },
  {
   "cell_type": "code",
   "execution_count": 25,
   "metadata": {
    "collapsed": false
   },
   "outputs": [
    {
     "name": "stdout",
     "output_type": "stream",
     "text": [
      "Starting local prediction.\n",
      "Local prediction done.\n"
     ]
    },
    {
     "data": {
      "text/html": [
       "<div>\n",
       "<table border=\"1\" class=\"dataframe\">\n",
       "  <thead>\n",
       "    <tr style=\"text-align: right;\">\n",
       "      <th></th>\n",
       "      <th>key_from_input</th>\n",
       "      <th>predicted_target</th>\n",
       "    </tr>\n",
       "  </thead>\n",
       "  <tbody>\n",
       "    <tr>\n",
       "      <th>0</th>\n",
       "      <td>row_01</td>\n",
       "      <td>11.724672</td>\n",
       "    </tr>\n",
       "    <tr>\n",
       "      <th>1</th>\n",
       "      <td>row_02</td>\n",
       "      <td>11.658803</td>\n",
       "    </tr>\n",
       "    <tr>\n",
       "      <th>2</th>\n",
       "      <td>row_03</td>\n",
       "      <td>11.299863</td>\n",
       "    </tr>\n",
       "    <tr>\n",
       "      <th>3</th>\n",
       "      <td>row_04</td>\n",
       "      <td>11.723350</td>\n",
       "    </tr>\n",
       "    <tr>\n",
       "      <th>4</th>\n",
       "      <td>row_05</td>\n",
       "      <td>11.683121</td>\n",
       "    </tr>\n",
       "    <tr>\n",
       "      <th>5</th>\n",
       "      <td>row_06</td>\n",
       "      <td>11.679772</td>\n",
       "    </tr>\n",
       "    <tr>\n",
       "      <th>6</th>\n",
       "      <td>row_07</td>\n",
       "      <td>11.680917</td>\n",
       "    </tr>\n",
       "    <tr>\n",
       "      <th>7</th>\n",
       "      <td>row_08</td>\n",
       "      <td>11.680292</td>\n",
       "    </tr>\n",
       "    <tr>\n",
       "      <th>8</th>\n",
       "      <td>row_09</td>\n",
       "      <td>11.678738</td>\n",
       "    </tr>\n",
       "    <tr>\n",
       "      <th>9</th>\n",
       "      <td>row_10</td>\n",
       "      <td>11.677299</td>\n",
       "    </tr>\n",
       "  </tbody>\n",
       "</table>\n",
       "</div>"
      ],
      "text/plain": [
       "  key_from_input  predicted_target\n",
       "0         row_01         11.724672\n",
       "1         row_02         11.658803\n",
       "2         row_03         11.299863\n",
       "3         row_04         11.723350\n",
       "4         row_05         11.683121\n",
       "5         row_06         11.679772\n",
       "6         row_07         11.680917\n",
       "7         row_08         11.680292\n",
       "8         row_09         11.678738\n",
       "9         row_10         11.677299"
      ]
     },
     "execution_count": 25,
     "metadata": {},
     "output_type": "execute_result"
    }
   ],
   "source": [
    "sd.local_predict(\n",
    "  training_ouput_dir=os.path.join(OUTDIR, 'taxi_trained'),\n",
    "  data=['Sun,0,-73.984685,40.769262,-73.991065,40.728145,5.0,row_01',\n",
    "        'Mon,12,-74.006927,40.739993,-73.950025,40.773403,1.0,row_02',\n",
    "        'Tues,8,-73.977345,40.779387,-73.97615,40.778867,1.0,row_03',\n",
    "        'Fri,17,-73.97136,40.794413,-73.99623,40.74524,1.0,row_04',\n",
    "        'Sun,0,-73.997642,40.763853,-73.99485,40.750282,1.0,row_05',\n",
    "        'Sun,0,-74.004538,40.742202,-73.955823,40.773485,1.0,row_06',\n",
    "        'Sun,0,-74.000589,40.73731,-73.985902,40.692725,1.0,row_07',\n",
    "        'Sun,0,-73.995432,40.72114,-73.992403,40.719745,1.0,row_08',\n",
    "        'Sun,0,-73.945033,40.779203,-73.952037,40.766802,1.0,row_09',\n",
    "        'Sun,0,-73.968592,40.693262,-73.99231,40.694317,1.0,row_10']\n",
    ")"
   ]
  },
  {
   "cell_type": "code",
   "execution_count": 26,
   "metadata": {
    "collapsed": false
   },
   "outputs": [
    {
     "name": "stdout",
     "output_type": "stream",
     "text": [
      "Starting local batch prediction.\n",
      "Local batch prediction done.\n"
     ]
    }
   ],
   "source": [
    "shutil.rmtree(os.path.join(OUTDIR,'batch_predict'), ignore_errors=True)\n",
    "sd.local_batch_predict(\n",
    "  training_ouput_dir=os.path.join(OUTDIR, 'taxi_trained'),\n",
    "  prediction_input_file=os.path.join(INDIR, 'valid*'),\n",
    "  output_dir=os.path.join(OUTDIR, 'batch_predict'),\n",
    "  output_format='csv',\n",
    "  mode='prediction'\n",
    ")"
   ]
  },
  {
   "cell_type": "code",
   "execution_count": 31,
   "metadata": {
    "collapsed": false
   },
   "outputs": [
    {
     "name": "stdout",
     "output_type": "stream",
     "text": [
      "('Expect 8 fields but have 9 in record 0\\n\\t [[Node: csv_to_tensors = DecodeCSV[OUT_TYPE=[DT_STRING, DT_STRING, DT_FLOAT, DT_FLOAT, DT_FLOAT, DT_FLOAT, DT_FLOAT, DT_STRING], field_delim=\",\", _device=\"/job:localhost/replica:0/task:0/cpu:0\"](_recv_csv_input_string_0, csv_to_tensors/record_defaults_0, csv_to_tensors/record_defaults_1, csv_to_tensors/record_defaults_2, csv_to_tensors/record_defaults_3, csv_to_tensors/record_defaults_4, csv_to_tensors/record_defaults_5, csv_to_tensors/record_defaults_6, csv_to_tensors/record_defaults_7)]]\\n\\nCaused by op u\\'csv_to_tensors\\', defined at:\\n  File \"/usr/lib/python2.7/threading.py\", line 783, in __bootstrap\\n    self.__bootstrap_inner()\\n  File \"/usr/lib/python2.7/threading.py\", line 810, in __bootstrap_inner\\n    self.run()\\n  File \"/usr/local/lib/python2.7/dist-packages/apache_beam/runners/direct/executor.py\", line 84, in run\\n    task()\\n  File \"/usr/local/lib/python2.7/dist-packages/apache_beam/runners/direct/executor.py\", line 292, in __call__\\n    side_input_values, scoped_metrics_container)\\n  File \"/usr/local/lib/python2.7/dist-packages/apache_beam/runners/direct/transform_evaluator.py\", line 81, in for_application\\n    scoped_metrics_container)\\n  File \"/usr/local/lib/python2.7/dist-packages/apache_beam/runners/direct/transform_evaluator.py\", line 320, in __init__\\n    side_inputs, scoped_metrics_container)\\n  File \"/usr/local/lib/python2.7/dist-packages/apache_beam/runners/direct/transform_evaluator.py\", line 121, in __init__\\n    self.start_bundle()\\n  File \"/usr/local/lib/python2.7/dist-packages/apache_beam/runners/direct/transform_evaluator.py\", line 363, in start_bundle\\n    self.runner.start()\\n  File \"/usr/local/lib/python2.7/dist-packages/apache_beam/runners/common.py\", line 248, in start\\n    self._invoke_bundle_method(\\'start_bundle\\')\\n  File \"/usr/local/lib/python2.7/dist-packages/apache_beam/runners/common.py\", line 240, in _invoke_bundle_method\\n    self._process_outputs(None, f(*args))\\n  File \"/usr/local/lib/python2.7/dist-packages/apache_beam/typehints/typecheck.py\", line 57, in start_bundle\\n    return self.wrapper(self.dofn.start_bundle, args, kwargs)\\n  File \"/usr/local/lib/python2.7/dist-packages/apache_beam/typehints/typecheck.py\", line 78, in wrapper\\n    result = method(*args, **kwargs)\\n  File \"/usr/local/lib/python2.7/dist-packages/datalab_solutions/structured_data/predict/predict.py\", line 144, in start_bundle\\n    self._session, meta_graph = bundle_shim.load_session_bundle_or_saved_model_bundle_from_path(self._trained_model_dir, tags=[tag_constants.SERVING])\\n  File \"/usr/local/lib/python2.7/dist-packages/tensorflow/contrib/session_bundle/bundle_shim.py\", line 262, in load_session_bundle_or_saved_model_bundle_from_path\\n    metagraph_def = loader.load(sess, tags, export_dir)\\n  File \"/usr/local/lib/python2.7/dist-packages/tensorflow/python/saved_model/loader_impl.py\", line 212, in load\\n    saver = tf_saver.import_meta_graph(meta_graph_def_to_load, **saver_kwargs)\\n  File \"/usr/local/lib/python2.7/dist-packages/tensorflow/python/training/saver.py\", line 1577, in import_meta_graph\\n    **kwargs)\\n  File \"/usr/local/lib/python2.7/dist-packages/tensorflow/python/framework/meta_graph.py\", line 498, in import_scoped_meta_graph\\n    producer_op_list=producer_op_list)\\n  File \"/usr/local/lib/python2.7/dist-packages/tensorflow/python/framework/importer.py\", line 287, in import_graph_def\\n    op_def=op_def)\\n  File \"/usr/local/lib/python2.7/dist-packages/tensorflow/python/framework/ops.py\", line 2395, in create_op\\n    original_op=self._default_original_op, op_def=op_def)\\n  File \"/usr/local/lib/python2.7/dist-packages/tensorflow/python/framework/ops.py\", line 1264, in __init__\\n    self._traceback = _extract_stack()\\n\\nInvalidArgumentError (see above for traceback): Expect 8 fields but have 9 in record 0\\n\\t [[Node: csv_to_tensors = DecodeCSV[OUT_TYPE=[DT_STRING, DT_STRING, DT_FLOAT, DT_FLOAT, DT_FLOAT, DT_FLOAT, DT_FLOAT, DT_STRING], field_delim=\",\", _device=\"/job:localhost/replica:0/task:0/cpu:0\"](_recv_csv_input_string_0, csv_to_tensors/record_defaults_0, csv_to_tensors/record_defaults_1, csv_to_tensors/record_defaults_2, csv_to_tensors/record_defaults_3, csv_to_tensors/record_defaults_4, csv_to_tensors/record_defaults_5, csv_to_tensors/record_defaults_6, csv_to_tensors/record_defaults_7)]]\\n', [u'35.54,Tue,22,-73.8636398315,40.7698364258,-73.9718856812,40.7607574463,2.0,2015-04-07 22:02:47.000000-73.863640.769840.7608-73.9719', u'5.3,Tue,22,-73.971546,40.751483,-73.985863,40.731308,1.0,2012-07-31 22:21:11.000000-73.971540.751540.7313-73.9859', u'40.33,Tue,23,-73.974655,40.755322,-73.79223,40.718057,1.0,2014-03-25 23:47:00.000000-73.974740.755340.7181-73.7922', u'6.9,Tue,23,-73.984138,40.754684,-73.987185,40.734213,2.0,2011-07-12 23:54:14.000000-73.984140.754740.7342-73.9872', u'11.3,Tue,23,-73.953063,40.776448,-73.98966,40.757632,1.0,2010-10-26 23:02:08.000000-73.953140.776440.7576-73.9897', u'4.5,Tue,23,-73.99594,40.7533,-73.987537,40.747752,3.0,2014-03-25 23:47:00.000000-73.995940.753340.7478-73.9875', u'13.5,Tue,23,-74.005761,40.743757,-74.001867,40.709741,1.0,2014-05-06 23:54:59.000000-74.005840.743840.7097-74.0019', u'16.0,Tue,23,-73.987672,40.727075,-73.979365,40.7636,2.0,2014-03-25 23:47:00.000000-73.987740.727140.7636-73.9794', u'5.3,Wed,1,-73.976667,40.755791,-73.984779,40.764304,1.0,2010-01-13 01:56:57.000000-73.976740.755840.7643-73.9848', u'4.9,Wed,4,-73.978581,40.748053,-73.988278,40.734863,1.0,2011-07-20 04:21:54.000000-73.978640.748140.7349-73.9883', u'6.5,Wed,6,-73.976645,40.776716,-73.976007,40.757859,1.0,2010-05-26 06:59:19.000000-73.976640.776740.7579-73.976', u'4.5,Wed,7,-73.96466,40.769533,-73.958118,40.778585,2.0,2011-06-01 07:37:00.000000-73.964740.769540.7786-73.9581', u'8.5,Wed,7,-73.953535,40.767168,-73.980495,40.762275,1.0,2011-06-01 07:37:00.000000-73.953540.767240.7623-73.9805', u'17.0,Wed,7,-74.008494,40.705143,-73.972555,40.753647,1.0,2012-12-05 07:14:29.000000-74.008540.705140.7536-73.9726', u'6.5,Wed,8,-73.982928,40.73953,-73.972681,40.759005,1.0,2010-04-21 08:31:20.000000-73.982940.739540.759-73.9727', u'9.5,Wed,8,-74.000167,40.719471,-73.986404,40.740075,1.0,2014-04-09 08:42:05.000000-74.000240.719540.7401-73.9864', u'3.7,Wed,8,-74.046958,40.757302,-74.046958,40.757302,2.0,2011-07-20 08:05:02.000000-74.04740.757340.7573-74.047', u'6.9,Wed,8,-73.960802,40.765794,-73.970326,40.759617,1.0,2009-12-09 08:34:30.000000-73.960840.765840.7596-73.9703', u'15.0,Wed,9,-73.991608,40.749941,-74.008227,40.712484,1.0,2012-10-03 09:18:22.000000-73.991640.749940.7125-74.0082', u'27.7,Wed,10,-73.865457,40.770765,-73.97779,40.751243,5.0,2012-08-29 10:22:00.000000-73.865540.770840.7512-73.9778', u'6.1,Wed,10,-73.98072,40.754278,-73.989035,40.75231,1.0,2012-08-29 10:22:00.000000-73.980740.754340.7523-73.989', u'7.7,Wed,10,-73.966627,40.764226,-73.975412,40.752281,1.0,2010-06-23 10:16:12.000000-73.966640.764240.7523-73.9754', u'9.7,Wed,10,-73.991652,40.74476,-74.010145,40.713657,1.0,2012-08-29 10:22:00.000000-73.991740.744840.7137-74.0101', u'6.5,Wed,10,-73.98476,40.728307,-74.002362,40.739752,5.0,2012-08-29 10:22:00.000000-73.984840.728340.7398-74.0024', u'3.7,Wed,11,-73.97652,40.775678,-73.981078,40.770745,1.0,2012-06-27 11:22:19.000000-73.976540.775740.7707-73.9811', u'6.0,Wed,12,-73.978283,40.786413,-73.982346,40.771181,1.0,2012-11-07 12:46:29.000000-73.978340.786440.7712-73.9823', u'10.0,Wed,13,-73.974097,40.764765,-73.985306,40.751448,1.0,2013-06-19 13:36:52.000000-73.974140.764840.7514-73.9853', u'5.3,Wed,14,-73.989964,40.738139,-73.980212,40.744829,1.0,2009-02-11 14:29:59.000000-73.9940.738140.7448-73.9802', u'3.7,Wed,14,-73.965883,40.76522,-73.969189,40.760376,1.0,2010-04-21 14:53:01.000000-73.965940.765240.7604-73.9692', u'57.33,Wed,15,-74.013032,40.71561,-74.012313,40.71653,1.0,2014-06-25 15:08:19.000000-74.01340.715640.7165-74.0123', u'9.3,Wed,16,-73.987757,40.75996,-73.959728,40.798155,5.0,2010-09-29 16:43:00.000000-73.987840.7640.7982-73.9597', u'13.3,Wed,16,-73.954667,40.765532,-73.991268,40.750583,2.0,2009-06-10 16:55:00.000000-73.954740.765540.7506-73.9913', u'4.5,Wed,16,-73.95565,40.779598,-73.944563,40.779178,1.0,2010-09-29 16:43:00.000000-73.955740.779640.7792-73.9446', u'3.7,Wed,16,-73.954793,40.777383,-73.95106,40.772727,1.0,2010-09-29 16:43:00.000000-73.954840.777440.7727-73.9511', u'10.5,Wed,16,-73.965017,40.806605,-73.952362,40.77816,1.0,2009-06-10 16:55:00.000000-73.96540.806640.7782-73.9524', u'14.1,Wed,16,-73.940048,40.750727,-73.991402,40.750052,1.0,2010-09-29 16:43:00.000000-73.9440.750740.7501-73.9914', u'4.1,Wed,16,-73.97784,40.786948,-73.968852,40.786863,1.0,2009-06-10 16:55:00.000000-73.977840.786940.7869-73.9689', u'4.5,Wed,16,-73.983923,40.774765,-73.983923,40.774765,2.0,2010-09-29 16:43:00.000000-73.983940.774840.7748-73.9839', u'4.0,Wed,16,-73.991329,40.733124,-73.997453,40.725823,1.0,2014-01-01 16:33:01.000000-73.991340.733140.7258-73.9975', u'10.9,Wed,17,-73.977837,40.762728,-73.973295,40.757652,1.0,2009-11-04 17:29:53.000000-73.977840.762740.7577-73.9733', u'10.0,Wed,17,-73.942889,40.749359,-73.923615,40.765628,1.0,2014-05-14 17:45:10.000000-73.942940.749440.7656-73.9236', u'7.3,Wed,18,-73.970939,40.758498,-73.980528,40.736772,1.0,2011-05-04 18:27:50.000000-73.970940.758540.7368-73.9805', u'42.67,Wed,18,-73.983746,40.694722,-73.887009,40.849823,3.0,2010-03-10 18:57:05.000000-73.983740.694740.8498-73.887', u'2.9,Wed,18,-73.964518,40.769252,-73.963075,40.770462,1.0,2011-11-16 18:59:42.000000-73.964540.769340.7705-73.9631', u'6.5,Wed,18,-73.970555,40.765713,-73.989703,40.776,1.0,2011-11-30 18:26:52.000000-73.970640.765740.776-73.9897', u'11.0,Wed,18,-73.9864654541,40.7576713562,-73.9809417725,40.7449531555,5.0,2015-02-25 18:00:51.000000-73.986540.757740.745-73.9809', u'15.3,Wed,19,-74.009708,40.710658,-73.989263,40.774383,1.0,2009-11-25 19:32:52.000000-74.009740.710740.7744-73.9893', u'4.1,Wed,19,-73.975764,40.791663,-73.980942,40.78243,1.0,2012-06-13 19:49:50.000000-73.975840.791740.7824-73.9809', u'5.0,Wed,20,-73.999205,40.745579,-73.991273,40.747127,1.0,2014-09-24 20:58:58.000000-73.999240.745640.7471-73.9913', u'5.0,Wed,20,-73.995961,40.729261,-74.002476,40.736962,1.0,2013-01-02 20:53:44.000000-73.99640.729340.737-74.0025', u'4.5,Wed,20,-73.979248,40.749905,-73.984022,40.749275,1.0,2013-08-21 20:48:29.000000-73.979240.749940.7493-73.984', u'11.5,Wed,21,-74.014955,40.714167,-73.996542,40.742034,1.0,2014-10-08 21:24:47.000000-74.01540.714240.742-73.9965', u'5.5,Wed,21,-73.995635,40.726321,-73.985777,40.726245,2.0,2014-03-05 21:07:12.000000-73.995640.726340.7262-73.9858', u'7.5,Wed,21,-74.002674,40.728621,-74.002145,40.745147,1.0,2013-06-05 21:05:11.000000-74.002740.728640.7451-74.0021', u'9.0,Wed,21,-73.992718,40.739789,-73.990745,40.755967,1.0,2014-10-08 21:04:50.000000-73.992740.739840.756-73.9907', u'5.0,Wed,21,-73.98487854,40.739364624,-73.9796600342,40.7455596924,1.0,2015-03-04 21:42:57.000000-73.984940.739440.7456-73.9797', u'16.2,Wed,21,-73.970965,40.761673,-73.94342,40.822773,1.0,2009-03-11 21:46:54.000000-73.97140.761740.8228-73.9434', u'7.3,Wed,21,-74.004503,40.742197,-74.002734,40.760548,1.0,2009-10-07 21:24:47.000000-74.004540.742240.7605-74.0027', u'13.0,Wed,22,-73.98857,40.722657,-73.955605,40.773612,1.0,2013-09-25 22:00:00.000000-73.988640.722740.7736-73.9556', u'7.5,Wed,22,-73.984857,40.764017,-73.987585,40.779477,2.0,2013-09-25 22:00:00.000000-73.984940.76440.7795-73.9876', u'57.33,Wed,22,-73.788005,40.641487,-73.992852,40.754395,2.0,2013-09-25 22:00:00.000000-73.78840.641540.7544-73.9929', u'34.0,Wed,22,-73.987684,40.719958,-73.967881,40.628169,1.0,2014-04-23 22:54:12.000000-73.987740.7240.6282-73.9679', u'52.0,Wed,22,-73.796042,40.644725,-74.003922,40.713212,1.0,2013-09-25 22:00:00.000000-73.79640.644740.7132-74.0039', u'6.5,Wed,23,-73.985984,40.740157,-74.00309,40.733564,1.0,2010-09-29 23:53:33.000000-73.98640.740240.7336-74.0031', u'10.1,Wed,23,-73.992061,40.750111,-73.985177,40.715373,1.0,2011-11-30 23:09:47.000000-73.992140.750140.7154-73.9852', u'3.3,Wed,23,-73.988443,40.737236,-73.984972,40.740502,1.0,2011-09-21 23:32:53.000000-73.988440.737240.7405-73.985', u'8.5,Thu,0,-73.992016,40.769639,-73.976044,40.744515,4.0,2010-12-23 00:05:09.000000-73.99240.769640.7445-73.976', u'6.9,Thu,0,-73.98411,40.744136,-73.983214,40.765278,1.0,2012-07-26 00:23:59.000000-73.984140.744140.7653-73.9832', u'4.5,Thu,0,-73.994794,40.742115,-74.006529,40.743968,2.0,2009-08-20 00:33:31.000000-73.994840.742140.744-74.0065', u'49.8,Thu,1,-73.788035,40.641703,-73.976333,40.782338,3.0,2012-04-19 01:17:00.000000-73.78840.641740.7823-73.9763', u'8.5,Thu,1,-73.991095,40.74541,-73.998167,40.716857,2.0,2012-04-19 01:17:00.000000-73.991140.745440.7169-73.9982', u'12.9,Thu,1,-74.004438,40.730707,-73.973577,40.779372,1.0,2012-04-19 01:17:00.000000-74.004440.730740.7794-73.9736', u'10.1,Thu,2,-73.986145,40.747431,-73.949104,40.785407,1.0,2011-11-24 02:36:48.000000-73.986140.747440.7854-73.9491', u'3.3,Thu,3,-73.956582,40.716979,-73.960596,40.712771,1.0,2011-12-15 03:03:41.000000-73.956640.71740.7128-73.9606', u'5.3,Thu,7,-73.992197,40.749828,-73.99412,40.735509,1.0,2010-07-22 07:47:23.000000-73.992240.749840.7355-73.9941', u'5.7,Thu,7,-73.986395,40.734485,-74.0044,40.744565,2.0,2010-12-09 07:29:00.000000-73.986440.734540.7446-74.0044', u'9.3,Thu,7,-73.959495,40.770515,-73.961323,40.771973,1.0,2012-01-26 07:33:00.000000-73.959540.770540.772-73.9613', u'7.7,Thu,7,-73.984982,40.76381,-73.973068,40.755705,1.0,2010-12-09 07:29:00.000000-73.98540.763840.7557-73.9731', u'6.1,Thu,7,-73.990463,40.756045,-73.973255,40.764587,1.0,2012-01-26 07:33:00.000000-73.990540.75640.7646-73.9733', u'6.9,Thu,7,-73.954885,40.7775,-73.970742,40.790117,1.0,2010-12-09 07:29:00.000000-73.954940.777540.7901-73.9707', u'4.1,Thu,7,-73.976142,40.762625,-73.986228,40.766565,5.0,2010-12-09 07:29:00.000000-73.976140.762640.7666-73.9862', u'61.5,Thu,7,-73.986638,40.758877,-74.18364,40.6966,1.0,2010-12-09 07:29:00.000000-73.986640.758940.6966-74.1836', u'4.1,Thu,7,-73.972587,40.755173,-73.964047,40.762533,1.0,2010-12-09 07:29:00.000000-73.972640.755240.7625-73.964', u'6.0,Thu,7,-73.9485168457,40.7822265625,-73.9564743042,40.7679862976,1.0,2015-06-04 07:39:30.000000-73.948540.782240.768-73.9565', u'5.7,Thu,7,-73.986078,40.745065,-73.980183,40.758582,1.0,2012-01-26 07:33:00.000000-73.986140.745140.7586-73.9802', u'8.5,Thu,7,-74.004012,40.738148,-73.986682,40.77177,1.0,2010-12-09 07:29:00.000000-74.00440.738140.7718-73.9867', u'10.5,Thu,7,-73.989817,40.75221,-74.014993,40.714115,2.0,2010-12-09 07:29:00.000000-73.989840.752240.7141-74.015', u'32.5,Thu,7,-73.986603,40.759322,-73.861647,40.768335,2.0,2011-03-31 07:55:10.000000-73.986640.759340.7683-73.8616', u'6.1,Thu,7,-73.985927,40.746872,-73.978473,40.762768,2.0,2010-12-09 07:29:00.000000-73.985940.746940.7628-73.9785', u'4.9,Thu,8,-73.964817,40.756082,-73.974729,40.756496,3.0,2009-10-08 08:34:56.000000-73.964840.756140.7565-73.9747', u'9.3,Thu,8,-73.993115,40.7423,-73.984066,40.769635,1.0,2011-09-08 08:09:02.000000-73.993140.742340.7696-73.9841', u'19.0,Thu,9,-73.982047,40.783137,-74.009869,40.72095,1.0,2014-08-14 09:09:52.000000-73.98240.783140.721-74.0099', u'18.9,Thu,9,-73.985224,40.759516,-74.013433,40.705625,1.0,2012-08-23 09:14:38.000000-73.985240.759540.7056-74.0134', u'6.5,Thu,9,-73.953552,40.766535,-73.971538,40.761938,1.0,2011-04-28 09:50:03.000000-73.953640.766540.7619-73.9715', u'49.57,Thu,10,-73.98129,40.782622,-73.789911,40.647007,2.0,2010-10-07 10:54:20.000000-73.981340.782640.647-73.7899', u'4.1,Thu,10,-73.977543,40.755914,-73.97023,40.75224,1.0,2009-12-17 10:33:45.000000-73.977540.755940.7522-73.9702', u'34.1,Thu,10,-73.978942,40.762215,-73.879843,40.879789,1.0,2012-01-05 10:15:12.000000-73.978940.762240.8798-73.8798', u'9.0,Thu,12,-73.9762878418,40.7568778992,-73.963394165,40.7659301758,5.0,2015-02-05 12:53:12.000000-73.976340.756940.7659-73.9634', u'7.7,Thu,12,-73.98905,40.743593,-74.008327,40.73725,1.0,2012-04-26 12:34:15.000000-73.989140.743640.7373-74.0083', u'10.1,Thu,12,-73.988265,40.759999,-73.994002,40.735515,1.0,2011-04-28 12:52:44.000000-73.988340.7640.7355-73.994', u'5.5,Thu,13,-73.984723,40.754053,-73.978606,40.76269,4.0,2013-07-11 13:45:04.000000-73.984740.754140.7627-73.9786', u'7.5,Thu,13,-73.963342,40.798732,-73.96044,40.781504,1.0,2013-02-07 13:47:59.000000-73.963340.798740.7815-73.9604', u'5.3,Thu,13,-74.015248,40.713758,-74.017391,40.709184,1.0,2012-07-19 13:57:19.000000-74.015240.713840.7092-74.0174', u'11.5,Thu,14,-73.975719,40.762167,-73.989546,40.752601,1.0,2013-06-13 14:50:50.000000-73.975740.762240.7526-73.9895', u'11.0,Thu,15,-73.99888,40.734513,-73.982567,40.756619,1.0,2013-09-26 15:50:06.000000-73.998940.734540.7566-73.9826', u'7.5,Thu,16,-73.975116,40.74976,-73.990142,40.740516,1.0,2013-04-04 16:18:42.000000-73.975140.749840.7405-73.9901', u'9.3,Thu,16,-73.973414,40.763743,-73.988159,40.737921,1.0,2010-11-04 16:19:25.000000-73.973440.763740.7379-73.9882', u'11.5,Thu,17,-73.999253,40.761236,-73.977262,40.753579,1.0,2012-09-06 17:58:06.000000-73.999340.761240.7536-73.9773', u'6.0,Thu,17,-73.94688,40.780035,-73.960873,40.772468,1.0,2014-03-27 17:49:57.000000-73.946940.7840.7725-73.9609', u'6.1,Thu,17,-74.002846,40.7605,-73.983704,40.767892,2.0,2011-08-18 17:35:02.000000-74.002840.760540.7679-73.9837', u'6.0,Thu,18,-73.980514,40.734496,-73.994717,40.735468,1.0,2012-11-15 18:22:19.000000-73.980540.734540.7355-73.9947', u'6.5,Thu,18,-73.976973,40.764207,-73.976133,40.780533,1.0,2009-11-05 18:52:00.000000-73.97740.764240.7805-73.9761', u'4.9,Thu,18,-73.985332,40.758457,-73.990687,40.75055,2.0,2009-11-05 18:52:00.000000-73.985340.758540.7505-73.9907', u'24.27,Thu,18,-73.87459,40.774058,-73.955453,40.782327,1.0,2009-11-05 18:52:00.000000-73.874640.774140.7823-73.9555', u'4.9,Thu,18,-73.99023,40.732428,-74.001312,40.736254,1.0,2011-10-27 18:54:55.000000-73.990240.732440.7363-74.0013', u'4.5,Thu,18,-73.963795,40.765703,-73.953612,40.777215,1.0,2009-11-05 18:52:00.000000-73.963840.765740.7772-73.9536', u'9.7,Thu,18,-73.98203,40.745765,-73.987765,40.719913,1.0,2009-11-05 18:52:00.000000-73.98240.745840.7199-73.9878', u'12.7,Thu,18,-73.955345,40.764957,-73.988512,40.751364,1.0,2009-03-26 18:32:39.000000-73.955340.76540.7514-73.9885', u'5.5,Thu,19,-74.00814,40.738857,-73.995493,40.739149,1.0,2009-02-26 19:34:16.000000-74.008140.738940.7391-73.9955', u'15.0,Thu,20,-73.961568,40.774252,-73.996012,40.746671,1.0,2013-08-22 20:04:59.000000-73.961640.774340.7467-73.996', u'18.5,Thu,21,-73.958748,40.77159,-73.984345,40.723187,1.0,2012-10-25 21:09:00.000000-73.958740.771640.7232-73.9843', u'17.5,Thu,21,-73.985197,40.727637,-73.974255,40.679627,1.0,2012-10-25 21:09:00.000000-73.985240.727640.6796-73.9743', u'4.5,Thu,21,-74.008307,40.716655,-74.016622,40.711632,4.0,2009-06-18 21:49:21.000000-74.008340.716740.7116-74.0166', u'10.1,Thu,21,-73.987005,40.719774,-73.982831,40.747953,4.0,2011-05-26 21:36:54.000000-73.98740.719840.748-73.9828', u'27.5,Thu,21,-73.997287,40.684195,-73.950198,40.775767,1.0,2012-10-25 21:09:00.000000-73.997340.684240.7758-73.9502', u'16.5,Thu,21,-73.998362,40.719572,-73.982567,40.763202,1.0,2012-10-25 21:09:00.000000-73.998440.719640.7632-73.9826', u'5.7,Thu,21,-73.985951,40.726922,-73.979928,40.742367,1.0,2011-03-03 21:31:42.000000-73.98640.726940.7424-73.9799', u'12.5,Thu,21,-73.988823,40.722128,-73.989705,40.760496,1.0,2011-03-03 21:31:42.000000-73.988840.722140.7605-73.9897', u'6.0,Thu,21,-73.969207,40.760887,-73.982558,40.750992,1.0,2012-10-25 21:09:00.000000-73.969240.760940.751-73.9826', u'10.0,Thu,21,-73.981018,40.749722,-73.970027,40.780902,1.0,2012-10-25 21:09:00.000000-73.98140.749740.7809-73.97', u'14.0,Thu,22,-73.990239,40.761666,-73.987662,40.732594,1.0,2013-10-17 22:21:57.000000-73.990240.761740.7326-73.9877', u'6.9,Thu,22,-73.988136,40.728188,-74.006284,40.739771,1.0,2011-10-27 22:48:06.000000-73.988140.728240.7398-74.0063', u'10.5,Thu,22,-73.979043,40.737162,-74.008182,40.748636,2.0,2014-01-30 22:16:53.000000-73.97940.737240.7486-74.0082', u'5.5,Thu,23,-73.982966,40.771577,-73.99004,40.774669,1.0,2013-01-31 23:33:33.000000-73.98340.771640.7747-73.99', u'10.0,Fri,0,-74.003027,40.749661,-73.97606,40.787231,1.0,2014-08-08 00:02:41.000000-74.00340.749740.7872-73.9761', u'9.0,Fri,0,-74.006214,40.74027,-74.005922,40.717047,1.0,2014-08-29 00:20:52.000000-74.006240.740340.717-74.0059', u'8.0,Fri,1,-73.938611,40.804912,-73.937422,40.823702,1.0,2014-10-03 01:06:06.000000-73.938640.804940.8237-73.9374', u'12.9,Fri,1,-73.997483,40.757025,-73.94849,40.773108,2.0,2010-06-11 01:01:00.000000-73.997540.75740.7731-73.9485', u'7.7,Fri,1,-73.95562,40.76831,-73.981092,40.749617,1.0,2011-03-11 01:44:00.000000-73.955640.768340.7496-73.9811', u'13.3,Fri,1,-73.991743,40.759697,-74.000653,40.708645,1.0,2010-06-11 01:01:00.000000-73.991740.759740.7086-74.0007', u'7.3,Fri,1,-73.990643,40.719227,-74.008548,40.725887,3.0,2011-03-11 01:44:00.000000-73.990640.719240.7259-74.0085', u'4.5,Fri,2,-73.999631,40.725155,-73.991645,40.735146,1.0,2014-09-19 02:11:27.000000-73.999640.725240.7351-73.9916', u'9.7,Fri,6,-73.976907,40.790248,-73.977657,40.753959,1.0,2012-03-09 06:03:23.000000-73.976940.790240.754-73.9777', u'5.5,Fri,6,-73.951419,40.78521,-73.962585,40.769851,1.0,2012-11-23 06:39:15.000000-73.951440.785240.7699-73.9626', u'16.5,Fri,7,-74.001533,40.683417,-73.987111,40.750814,1.0,2012-02-10 07:01:25.000000-74.001540.683440.7508-73.9871', u'4.1,Fri,7,-73.973343,40.748577,-73.980635,40.750961,1.0,2009-07-31 07:30:56.000000-73.973340.748640.751-73.9806', u'7.3,Fri,9,-74.008175,40.737633,-74.008958,40.714427,5.0,2011-04-22 09:53:00.000000-74.008240.737640.7144-74.009', u'5.7,Fri,9,-73.991645,40.738587,-73.9984,40.72487,1.0,2011-04-22 09:53:00.000000-73.991640.738640.7249-73.9984', u'3.7,Fri,9,-73.9654,40.771967,-73.959815,40.777885,1.0,2011-04-22 09:53:00.000000-73.965440.77240.7779-73.9598', u'5.7,Fri,9,-73.979733,40.739565,-73.99519,40.727467,1.0,2011-04-22 09:53:00.000000-73.979740.739640.7275-73.9952', u'8.1,Fri,9,-73.99079,40.73867,-73.99497,40.719795,2.0,2011-04-22 09:53:00.000000-73.990840.738740.7198-73.995', u'9.3,Fri,9,-73.975305,40.790102,-73.963715,40.773043,1.0,2011-04-22 09:53:00.000000-73.975340.790140.773-73.9637', u'11.3,Fri,9,-73.993192,40.697645,-73.997595,40.724167,1.0,2011-04-22 09:53:00.000000-73.993240.697640.7242-73.9976', u'7.7,Fri,9,-73.968802,40.761393,-73.987318,40.743813,1.0,2011-04-22 09:53:00.000000-73.968840.761440.7438-73.9873', u'5.3,Fri,9,-73.983125,40.741422,-73.988235,40.74985,3.0,2011-04-22 09:53:00.000000-73.983140.741440.7499-73.9882', u'7.7,Fri,11,-73.999556,40.762039,-73.977397,40.758835,1.0,2012-08-03 11:33:30.000000-73.999640.76240.7588-73.9774', u'6.5,Fri,11,-73.9610671997,40.7608108521,-73.9560317993,40.7703514099,6.0,2015-01-30 11:19:11.000000-73.961140.760840.7704-73.956', u'5.0,Fri,12,-73.976942,40.751801,-73.984915,40.747891,1.0,2014-07-11 12:36:08.000000-73.976940.751840.7479-73.9849', u'11.3,Fri,12,-73.994097,40.745898,-73.992697,40.723908,1.0,2011-06-24 12:03:00.000000-73.994140.745940.7239-73.9927', u'3.7,Fri,12,-73.94549,40.75282,-73.94549,40.75282,1.0,2011-06-24 12:03:00.000000-73.945540.752840.7528-73.9455', u'8.5,Fri,12,-73.946743,40.776717,-73.964479,40.76012,1.0,2011-12-16 12:18:21.000000-73.946740.776740.7601-73.9645', u'5.3,Fri,12,-73.964615,40.77762,-73.964615,40.77762,1.0,2011-06-24 12:03:00.000000-73.964640.777640.7776-73.9646', u'4.9,Fri,12,-73.97364,40.764093,-73.981112,40.753027,1.0,2011-06-24 12:03:00.000000-73.973640.764140.753-73.9811', u'8.9,Fri,13,-73.983992,40.783885,-73.984878,40.763643,1.0,2010-12-31 13:32:39.000000-73.98440.783940.7636-73.9849', u'5.0,Fri,14,-73.970972,40.758042,-73.97684,40.75044,1.0,2013-07-26 14:43:00.000000-73.97140.75840.7504-73.9768', u'3.5,Fri,14,-73.956807,40.72287,-73.95888,40.727347,1.0,2013-07-26 14:43:00.000000-73.956840.722940.7273-73.9589', u'14.5,Fri,14,-73.968147,40.762987,-73.97595,40.791455,1.0,2013-07-26 14:43:00.000000-73.968140.76340.7915-73.9759', u'14.0,Fri,14,-73.979138,40.777685,-73.968867,40.75579,1.0,2013-07-26 14:43:00.000000-73.979140.777740.7558-73.9689', u'10.5,Fri,14,-73.962008,40.776332,-73.976397,40.764142,5.0,2013-07-26 14:43:00.000000-73.96240.776340.7641-73.9764', u'6.5,Fri,14,-73.964962,40.774982,-73.95483,40.778432,1.0,2013-07-26 14:43:00.000000-73.96540.77540.7784-73.9548', u'30.0,Fri,14,-73.98877,40.693035,-73.875985,40.771392,2.0,2013-07-26 14:43:00.000000-73.988840.69340.7714-73.876', u'9.0,Fri,14,-73.994065,40.751202,-73.983608,40.758132,2.0,2013-07-26 14:43:00.000000-73.994140.751240.7581-73.9836', u'23.5,Fri,14,-74.01275,40.701802,-73.976027,40.757775,1.0,2013-07-26 14:43:00.000000-74.012740.701840.7578-73.976', u'10.9,Fri,14,-73.991546,40.749794,-73.97867,40.759812,1.0,2010-03-26 14:20:38.000000-73.991540.749840.7598-73.9787', u'6.5,Fri,14,-73.995109,40.736831,-74.003728,40.731175,4.0,2013-07-26 14:43:00.000000-73.995140.736840.7312-74.0037', u'16.5,Fri,17,-73.956989,40.766177,-73.995408,40.743907,1.0,2014-05-16 17:48:32.000000-73.95740.766240.7439-73.9954', u'5.7,Fri,17,-73.9683,40.7654,-73.9767,40.7545,1.0,2011-07-01 17:05:09.000000-73.968340.765440.7545-73.9767', u'24.1,Fri,18,-73.997123,40.742198,-73.980513,40.7652,1.0,2010-08-27 18:45:00.000000-73.997140.742240.7652-73.9805', u'6.9,Fri,18,-73.970942,40.760145,-73.980737,40.748598,1.0,2010-08-27 18:45:00.000000-73.970940.760140.7486-73.9807', u'15.3,Fri,18,-74.036107,40.729875,-74.037573,40.730262,1.0,2010-08-27 18:45:00.000000-74.036140.729940.7303-74.0376', u'4.5,Fri,18,-73.987363,40.750612,-73.986592,40.760187,1.0,2010-08-27 18:45:00.000000-73.987440.750640.7602-73.9866', u'15.3,Fri,18,-73.98278,40.765452,-74.005045,40.72948,5.0,2010-08-27 18:45:00.000000-73.982840.765540.7295-74.005', u'6.1,Fri,18,-73.974827,40.627258,-73.98128,40.63206,2.0,2010-08-27 18:45:00.000000-73.974840.627340.6321-73.9813', u'9.0,Fri,18,-73.981495,40.746857,-73.973646,40.755697,2.0,2014-07-25 18:06:37.000000-73.981540.746940.7557-73.9736', u'4.9,Fri,18,-73.961338,40.769282,-73.961042,40.779308,5.0,2010-08-27 18:45:00.000000-73.961340.769340.7793-73.961', u'14.5,Fri,18,-73.96798,40.80161,-73.967295,40.756985,1.0,2010-08-27 18:45:00.000000-73.96840.801640.757-73.9673', u'10.5,Fri,19,-73.973895,40.756385,-73.957908,40.780608,1.0,2012-09-14 19:47:44.000000-73.973940.756440.7806-73.9579', u'6.1,Fri,19,-73.951487,40.770052,-73.962102,40.776204,1.0,2012-08-03 19:52:26.000000-73.951540.770140.7762-73.9621', u'4.0,Fri,19,-74.0023117065,40.7292900085,-73.9976654053,40.7328414917,1.0,2015-04-03 19:35:12.000000-74.002340.729340.7328-73.9977', u'7.7,Fri,20,-73.968905,40.753516,-73.951653,40.78203,4.0,2011-06-10 20:50:38.000000-73.968940.753540.782-73.9517', u'6.1,Fri,21,-73.9992,40.7175,-74.0001,40.7332,2.0,2011-12-09 21:19:25.000000-73.999240.717540.7332-74.0001', u'10.5,Fri,21,-73.9680099487,40.7656173706,-73.9795379639,40.7328224182,2.0,2015-04-17 21:23:12.000000-73.96840.765640.7328-73.9795', u'4.5,Fri,21,-73.995849,40.72442,-73.986381,40.72964,1.0,2011-04-15 21:21:21.000000-73.995840.724440.7296-73.9864', u'8.9,Fri,21,-73.995074,40.7602,-73.964838,40.76387,1.0,2009-07-10 21:51:53.000000-73.995140.760240.7639-73.9648', u'7.5,Fri,21,-73.988556,40.756633,-73.988635,40.766638,1.0,2014-03-28 21:55:17.000000-73.988640.756640.7666-73.9886', u'9.3,Fri,22,-74.006607,40.739804,-73.986643,40.747349,2.0,2012-05-04 22:18:41.000000-74.006640.739840.7473-73.9866', u'4.9,Fri,23,-74.003153,40.727575,-73.998318,40.732098,3.0,2012-03-16 23:42:00.000000-74.003240.727640.7321-73.9983', u'10.1,Fri,23,-73.974253,40.679812,-73.968378,40.707255,1.0,2012-03-16 23:42:00.000000-73.974340.679840.7073-73.9684', u'5.3,Fri,23,-73.992,40.725658,-73.980292,40.730328,1.0,2012-03-16 23:42:00.000000-73.99240.725740.7303-73.9803', u'3.7,Fri,23,-73.998663,40.735007,-73.993042,40.742305,1.0,2012-03-16 23:42:00.000000-73.998740.73540.7423-73.993', u'24.9,Fri,23,-74.009353,40.710605,-73.952942,40.74648,5.0,2012-03-16 23:42:00.000000-74.009440.710640.7465-73.9529', u'7.3,Fri,23,-73.973526,40.686911,-73.952031,40.679813,1.0,2012-06-08 23:11:53.000000-73.973540.686940.6798-73.952', u'6.9,Fri,23,-73.984837,40.756225,-74.00168,40.734975,1.0,2012-03-16 23:42:00.000000-73.984840.756240.735-74.0017', u'14.5,Fri,23,-74.001731,40.709775,-73.988767,40.737257,1.0,2013-02-15 23:25:14.000000-74.001740.709840.7373-73.9888', u'12.0,Sat,0,-73.9443283081,40.7145004272,-73.9166488647,40.6866950989,1.0,2015-04-25 00:22:45.000000-73.944340.714540.6867-73.9166', u'9.5,Sat,0,-73.999018,40.754677,-73.974622,40.790553,1.0,2013-09-28 00:06:20.000000-73.99940.754740.7906-73.9746', u'7.0,Sat,1,-73.984545,40.748611,-73.981155,40.762439,1.0,2014-08-09 01:27:30.000000-73.984540.748640.7624-73.9812', u'5.5,Sat,1,-73.9865036011,40.7399940491,-73.9779129028,40.7456436157,1.0,2015-04-25 01:06:17.000000-73.986540.7440.7456-73.9779', u'9.0,Sat,2,-73.993847,40.727409,-73.994044,40.741343,4.0,2014-05-17 02:47:12.000000-73.993840.727440.7413-73.994', u'5.7,Sat,2,-73.919908,40.759272,-73.935138,40.754043,2.0,2010-08-14 02:13:00.000000-73.919940.759340.754-73.9351', u'11.7,Sat,3,-73.936226,40.691625,-73.960438,40.674886,1.0,2012-06-30 03:53:29.000000-73.936240.691640.6749-73.9604', u'5.5,Sat,6,-73.977833,40.746449,-73.989171,40.746126,1.0,2012-12-15 06:35:45.000000-73.977840.746440.7461-73.9892', u'11.0,Sat,7,-73.985137,40.7363,-73.951945,40.774733,1.0,2014-03-15 07:19:25.000000-73.985140.736340.7747-73.9519', u'9.5,Sat,8,-73.966169,40.753948,-73.958096,40.783146,1.0,2013-02-02 08:17:35.000000-73.966240.753940.7831-73.9581', u'4.9,Sat,9,-73.952442,40.783852,-73.963606,40.76853,1.0,2011-04-09 09:21:31.000000-73.952440.783940.7685-73.9636', u'57.33,Sat,10,-73.7767181396,40.6454353333,-73.9822998047,40.740020752,2.0,2015-03-07 10:45:42.000000-73.776740.645440.74-73.9823', u'6.5,Sat,11,-74.00528,40.7224,-73.990892,40.747057,1.0,2012-08-04 11:03:00.000000-74.005340.722440.7471-73.9909', u'7.3,Sat,11,-73.96051,40.781402,-73.98035,40.764891,2.0,2012-05-26 11:54:53.000000-73.960540.781440.7649-73.9804', u'4.9,Sat,11,-73.989515,40.743167,-73.98437,40.75452,4.0,2012-08-04 11:03:00.000000-73.989540.743240.7545-73.9844', u'29.3,Sat,11,-74.008637,40.713992,-73.872205,40.77445,5.0,2012-08-04 11:03:00.000000-74.008640.71440.7745-73.8722', u'6.1,Sat,11,-73.97169,40.758083,-73.959648,40.770997,1.0,2012-08-04 11:03:00.000000-73.971740.758140.771-73.9596', u'9.5,Sat,12,-73.990256,40.731891,-73.978407,40.751437,1.0,2014-06-14 12:32:11.000000-73.990340.731940.7514-73.9784', u'7.5,Sat,12,-73.970825,40.788591,-73.954008,40.778977,1.0,2014-06-07 12:21:11.000000-73.970840.788640.779-73.954', u'4.5,Sat,12,-73.997743,40.737826,-74.006134,40.736944,1.0,2010-11-27 12:54:09.000000-73.997740.737840.7369-74.0061', u'9.3,Sat,13,-74.001793,40.740602,-73.986466,40.772138,1.0,2009-07-04 13:00:57.000000-74.001840.740640.7721-73.9865', u'4.0,Sat,13,-73.986387,40.739997,-73.979067,40.737097,1.0,2014-06-14 13:39:00.000000-73.986440.7440.7371-73.9791', u'9.0,Sat,13,-73.9795,40.659957,-73.984222,40.674957,5.0,2014-06-14 13:39:00.000000-73.979540.6640.675-73.9842', u'10.9,Sat,13,-73.95912,40.712113,-73.994368,40.72298,1.0,2011-10-01 13:11:28.000000-73.959140.712140.723-73.9944', u'3.5,Sat,13,-73.9624,40.767412,-73.953473,40.772772,1.0,2014-06-14 13:39:00.000000-73.962440.767440.7728-73.9535', u'6.5,Sat,14,-73.961363,40.777396,-73.961307,40.764882,1.0,2010-01-23 14:32:17.000000-73.961440.777440.7649-73.9613', u'7.5,Sat,14,-73.9803543091,40.765838623,-73.9822311401,40.7736434937,1.0,2015-01-31 14:17:36.000000-73.980440.765840.7736-73.9822', u'24.65,Sat,14,-73.944186,40.776562,-73.861719,40.768402,2.0,2009-05-16 14:53:41.000000-73.944240.776640.7684-73.8617', u'5.3,Sat,15,-73.974695,40.760906,-73.978404,40.747696,1.0,2010-12-18 15:32:19.000000-73.974740.760940.7477-73.9784', u'8.9,Sat,15,-73.9807,40.7553,-74.0049,40.7319,1.0,2011-06-25 15:21:46.000000-73.980740.755340.7319-74.0049', u'9.7,Sat,15,-73.988491,40.723426,-74.008219,40.737699,1.0,2009-03-28 15:09:20.000000-73.988540.723440.7377-74.0082', u'18.0,Sat,17,-73.971867,40.765392,-73.975172,40.735672,6.0,2012-11-03 17:11:00.000000-73.971940.765440.7357-73.9752', u'5.7,Sat,17,-73.992765,40.733882,-73.98332,40.726775,6.0,2012-05-05 17:09:00.000000-73.992840.733940.7268-73.9833', u'9.3,Sat,17,-73.987677,40.770375,-74.00837,40.749472,1.0,2012-05-05 17:09:00.000000-73.987740.770440.7495-74.0084', u'11.7,Sat,17,-74.008017,40.707627,-73.983597,40.738032,1.0,2012-05-05 17:09:00.000000-74.00840.707640.738-73.9836', u'10.0,Sat,17,-73.994495,40.72614,-73.969757,40.753692,1.0,2012-11-03 17:11:00.000000-73.994540.726140.7537-73.9698', u'9.7,Sat,17,-73.964283,40.756505,-73.986295,40.759882,1.0,2012-05-05 17:09:00.000000-73.964340.756540.7599-73.9863', u'5.3,Sat,18,-73.98221,40.768339,-73.98197,40.778201,1.0,2009-01-03 18:30:17.000000-73.982240.768340.7782-73.982', u'15.3,Sat,18,-73.984346,40.72045,-73.999157,40.760712,2.0,2011-10-08 18:18:26.000000-73.984340.720440.7607-73.9992', u'8.0,Sat,19,-73.98634,40.766907,-73.999895,40.743848,1.0,2013-08-10 19:31:22.000000-73.986340.766940.7438-73.9999', u'9.7,Sat,19,-73.988321,40.748358,-73.982764,40.723076,2.0,2012-06-09 19:03:11.000000-73.988340.748440.7231-73.9828', u'4.5,Sat,19,-73.9490356445,40.7777366638,-73.9580612183,40.7805786133,1.0,2015-01-31 19:00:26.000000-73.94940.777740.7806-73.9581', u'5.7,Sat,19,-73.963754,40.757124,-73.958743,40.77155,1.0,2009-12-05 19:57:49.000000-73.963840.757140.7715-73.9587', u'10.5,Sat,20,-73.95455,40.765993,-73.996202,40.75483,2.0,2010-01-30 20:54:00.000000-73.954540.76640.7548-73.9962', u'7.7,Sat,20,-73.971733,40.746452,-73.982863,40.722685,2.0,2010-01-30 20:54:00.000000-73.971740.746540.7227-73.9829', u'14.1,Sat,20,-73.962328,40.775538,-74.003588,40.73937,2.0,2011-04-23 20:49:04.000000-73.962340.775540.7394-74.0036', u'6.1,Sat,20,-73.983582,40.746988,-73.968833,40.764967,2.0,2010-01-30 20:54:00.000000-73.983640.74740.765-73.9688', u'9.5,Sat,20,-73.980289,40.749181,-73.995594,40.760413,1.0,2013-01-19 20:19:45.000000-73.980340.749240.7604-73.9956', u'4.1,Sat,20,-73.962313,40.779095,-73.956102,40.78459,1.0,2010-01-30 20:54:00.000000-73.962340.779140.7846-73.9561', u'6.1,Sat,22,-73.975023,40.75283,-73.986637,40.737079,1.0,2010-02-27 22:55:09.000000-73.97540.752840.7371-73.9866', u'9.3,Sat,22,-73.984026,40.75493,-73.952579,40.778175,1.0,2012-08-25 22:18:36.000000-73.98440.754940.7782-73.9526', u'6.5,Sat,22,-73.976245,40.781048,-73.980702,40.78077,1.0,2010-11-06 22:13:58.000000-73.976240.78140.7808-73.9807', u'16.9,Sat,23,-73.981988,40.72856,-73.977197,40.784522,2.0,2011-03-12 23:14:57.000000-73.98240.728640.7845-73.9772', u'4.9,Sat,23,-73.953891,40.766643,-73.965653,40.76502,2.0,2010-08-21 23:02:28.000000-73.953940.766640.765-73.9657', u'17.7,Sat,23,-73.989875,40.689903,-73.985942,40.743807,1.0,2010-12-11 23:25:35.000000-73.989940.689940.7438-73.9859', u'15.3,Sun,0,-73.990432,40.735008,-73.942977,40.705485,1.0,2009-05-31 00:48:00.000000-73.990440.73540.7055-73.943', u'17.5,Sun,0,-73.988526,40.734862,-73.986449,40.692619,1.0,2013-08-18 00:32:15.000000-73.988540.734940.6926-73.9864', u'11.7,Sun,0,-74.005932,40.735905,-73.968115,40.755585,5.0,2009-05-31 00:48:00.000000-74.005940.735940.7556-73.9681', u'7.3,Sun,0,-73.967802,40.681957,-73.995023,40.68445,1.0,2012-04-15 00:42:36.000000-73.967840.68240.6844-73.995', u'13.7,Sun,0,-73.990552,40.718792,-73.975872,40.681822,1.0,2009-05-31 00:48:00.000000-73.990640.718840.6818-73.9759', u'21.3,Sun,0,-73.960658,40.772395,-73.996498,40.69344,5.0,2009-05-31 00:48:00.000000-73.960740.772440.6934-73.9965', u'3.3,Sun,0,-73.997365,40.74691,-74.000022,40.752048,1.0,2009-05-31 00:48:00.000000-73.997440.746940.752-74', u'6.9,Sun,0,-74.006158,40.734565,-73.98931,40.748032,5.0,2009-05-31 00:48:00.000000-74.006240.734640.748-73.9893', u'10.9,Sun,0,-73.979812,40.72701,-74.00373,40.737523,3.0,2009-05-31 00:48:00.000000-73.979840.72740.7375-74.0037', u'4.1,Sun,2,-73.976842,40.752415,-73.971608,40.759405,1.0,2009-12-06 02:12:00.000000-73.976840.752440.7594-73.9716', u'16.5,Sun,2,-73.965892,40.712717,-73.924345,40.761482,5.0,2014-04-27 02:57:00.000000-73.965940.712740.7615-73.9243', u'6.5,Sun,2,-73.994037,40.741442,-73.987442,40.75917,6.0,2014-04-27 02:57:00.000000-73.99440.741440.7592-73.9874', u'7.7,Sun,2,-73.987282,40.747847,-74.00975,40.735368,1.0,2009-12-06 02:12:00.000000-73.987340.747840.7354-74.0097', u'4.1,Sun,2,-73.972535,40.749098,-73.98056,40.742393,1.0,2009-12-06 02:12:00.000000-73.972540.749140.7424-73.9806', u'5.7,Sun,2,-73.98231,40.73128,-73.998493,40.740052,1.0,2009-12-06 02:12:00.000000-73.982340.731340.7401-73.9985', u'8.5,Sun,2,-73.97188,40.765985,-73.999532,40.73268,1.0,2009-12-06 02:12:00.000000-73.971940.76640.7327-73.9995', u'40.1,Sun,2,-73.997653,40.683605,-73.906955,40.886473,5.0,2009-12-06 02:12:00.000000-73.997740.683640.8865-73.907', u'20.5,Sun,2,-73.987682,40.761067,-73.89888,40.738885,1.0,2014-04-27 02:57:00.000000-73.987740.761140.7389-73.8989', u'6.5,Sun,2,-73.967432,40.75236,-73.95091,40.771528,1.0,2009-12-06 02:12:00.000000-73.967440.752440.7715-73.9509', u'2.5,Sun,2,-74.006655,40.73042,-74.00652,40.731477,1.0,2014-04-27 02:57:00.000000-74.006740.730440.7315-74.0065', u'13.4,Sun,2,-73.981585,40.773478,-73.930414,40.766587,1.0,2009-04-05 02:31:42.000000-73.981640.773540.7666-73.9304', u'6.5,Sun,3,-73.969144,40.754019,-73.994468,40.763433,2.0,2012-06-03 03:47:03.000000-73.969140.75440.7634-73.9945', u'8.1,Sun,3,-73.978109,40.746107,-73.948827,40.770921,1.0,2011-06-05 03:33:28.000000-73.978140.746140.7709-73.9488', u'9.7,Sun,4,-73.979889,40.743449,-73.948238,40.773094,2.0,2012-01-22 04:13:34.000000-73.979940.743440.7731-73.9482', u'6.1,Sun,4,-74.002751,40.749812,-73.996997,40.760988,2.0,2011-05-29 04:00:26.000000-74.002840.749840.761-73.997', u'57.33,Sun,7,-73.948747,40.78094,-73.78213,40.644305,5.0,2014-06-15 07:06:00.000000-73.948740.780940.6443-73.7821', u'5.5,Sun,7,-73.977625,40.753062,-73.98016,40.764042,1.0,2014-06-15 07:06:00.000000-73.977640.753140.764-73.9802', u'5.7,Sun,9,-74.001215,40.729282,-73.987905,40.738337,1.0,2012-05-27 09:43:03.000000-74.001240.729340.7383-73.9879', u'6.0,Sun,10,-73.972959,40.793184,-73.978278,40.780746,1.0,2013-11-17 10:13:22.000000-73.97340.793240.7807-73.9783', u'10.5,Sun,11,-73.968272,40.762248,-73.987567,40.728723,4.0,2011-12-11 11:05:51.000000-73.968340.762240.7287-73.9876', u'4.5,Sun,12,-73.9703063965,40.7889785767,-73.9639434814,40.7952308655,1.0,2015-05-10 12:37:51.000000-73.970340.78940.7952-73.9639', u'4.9,Sun,12,-73.965547,40.769435,-73.954293,40.77191,1.0,2011-11-13 12:22:00.000000-73.965540.769440.7719-73.9543', u'7.7,Sun,12,-73.956702,40.780822,-73.956602,40.801625,2.0,2011-11-13 12:22:00.000000-73.956740.780840.8016-73.9566', u'11.3,Sun,12,-74.001727,40.740905,-73.963987,40.792322,3.0,2011-11-13 12:22:00.000000-74.001740.740940.7923-73.964', u'10.9,Sun,12,-73.989152,40.74288,-73.973417,40.779147,1.0,2011-11-13 12:22:00.000000-73.989240.742940.7791-73.9734', u'20.1,Sun,12,-73.919207,40.743405,-73.986837,40.729067,1.0,2011-11-13 12:22:00.000000-73.919240.743440.7291-73.9868', u'18.5,Sun,12,-73.965215,40.774997,-74.00607,40.731692,1.0,2011-11-13 12:22:00.000000-73.965240.77540.7317-74.0061', u'14.1,Sun,13,-73.999119,40.734289,-73.969501,40.689538,1.0,2011-04-10 13:20:20.000000-73.999140.734340.6895-73.9695', u'7.3,Sun,14,-73.972195,40.765775,-73.961866,40.77949,4.0,2011-04-17 14:55:58.000000-73.972240.765840.7795-73.9619', u'49.8,Sun,14,-73.790033,40.643702,-73.990435,40.751518,5.0,2011-06-26 14:57:00.000000-73.7940.643740.7515-73.9904', u'8.5,Sun,14,-73.968994,40.758874,-73.987304,40.758628,2.0,2009-08-02 14:01:33.000000-73.96940.758940.7586-73.9873', u'30.9,Sun,14,-73.978658,40.764368,-73.870868,40.773982,1.0,2011-06-26 14:57:00.000000-73.978740.764440.774-73.8709', u'45.0,Sun,15,-73.983195,40.761296,-73.776417,40.645115,2.0,2011-01-09 15:43:48.000000-73.983240.761340.6451-73.7764', u'10.5,Sun,15,-73.962688,40.778453,-73.968028,40.760015,4.0,2012-12-30 15:40:55.000000-73.962740.778540.76-73.968', u'16.1,Sun,15,-73.965177,40.806472,-73.991188,40.75005,1.0,2010-08-22 15:05:09.000000-73.965240.806540.7501-73.9912', u'7.0,Sun,17,-73.975424,40.760813,-73.990113,40.757068,2.0,2012-10-28 17:21:19.000000-73.975440.760840.7571-73.9901', u'4.0,Sun,17,-73.9636611938,40.7109260559,-73.9648132324,40.7158851624,1.0,2015-05-31 17:16:31.000000-73.963740.710940.7159-73.9648', u'6.0,Sun,17,-73.978276,40.785959,-73.972395,40.799099,1.0,2014-01-12 17:37:06.000000-73.978340.78640.7991-73.9724', u'4.9,Sun,18,-73.96909,40.759133,-73.972056,40.750437,1.0,2010-10-31 18:45:58.000000-73.969140.759140.7504-73.9721', u'4.0,Sun,18,-73.963694,40.761913,-73.969173,40.754083,1.0,2014-01-05 18:41:27.000000-73.963740.761940.7541-73.9692', u'5.3,Sun,19,-74.016978,40.70556,-74.011442,40.71653,2.0,2009-05-17 19:30:00.000000-74.01740.705640.7165-74.0114', u'6.9,Sun,19,-73.982708,40.731192,-73.97377,40.751955,2.0,2009-05-17 19:30:00.000000-73.982740.731240.752-73.9738', u'5.7,Sun,19,-73.96292,40.758032,-73.953305,40.775995,2.0,2009-05-17 19:30:00.000000-73.962940.75840.776-73.9533', u'6.5,Sun,19,-73.982951,40.748045,-73.964474,40.764111,2.0,2009-10-11 19:39:03.000000-73.98340.74840.7641-73.9645', u'8.1,Sun,19,-73.959651,40.820229,-73.946551,40.826741,1.0,2009-05-17 19:30:00.000000-73.959740.820240.8267-73.9466', u'8.5,Sun,19,-73.958852,40.763838,-73.982225,40.743007,2.0,2011-03-13 19:40:03.000000-73.958940.763840.743-73.9822', u'6.5,Sun,20,-73.993216,40.736673,-74.001512,40.726228,4.0,2010-06-06 20:35:30.000000-73.993240.736740.7262-74.0015', u'5.7,Sun,21,-73.963607,40.765898,-73.981963,40.773752,1.0,2011-03-06 21:01:00.000000-73.963640.765940.7738-73.982', u'8.9,Sun,21,-73.927005,40.865619,-73.950021,40.830189,1.0,2012-06-03 21:31:22.000000-73.92740.865640.8302-73.95', u'6.9,Sun,21,-73.977022,40.747605,-73.957033,40.766981,1.0,2010-08-22 21:14:08.000000-73.97740.747640.767-73.957', u'12.9,Sun,21,-74.001007,40.729082,-73.939782,40.723552,2.0,2011-03-06 21:01:00.000000-74.00140.729140.7236-73.9398', u'8.9,Sun,21,-74.00792,40.705108,-73.989855,40.7341,4.0,2011-03-06 21:01:00.000000-74.007940.705140.7341-73.9899', u'4.9,Sun,21,-73.991878,40.746597,-73.990682,40.744632,1.0,2011-03-06 21:01:00.000000-73.991940.746640.7446-73.9907', u'11.3,Sun,22,-73.971747,40.762937,-73.963772,40.798788,1.0,2009-09-13 22:23:00.000000-73.971740.762940.7988-73.9638', u'3.7,Sun,22,-73.979643,40.739878,-73.98294,40.731458,1.0,2009-09-13 22:23:00.000000-73.979640.739940.7315-73.9829', u'31.83,Sun,22,-73.871081,40.773879,-73.984297,40.740297,1.0,2013-12-29 22:30:29.000000-73.871140.773940.7403-73.9843', u'9.7,Sun,22,-74.0078,40.717447,-73.994695,40.716662,4.0,2009-09-20 22:17:00.000000-74.007840.717440.7167-73.9947', u'7.3,Sun,23,-73.992417,40.748752,-73.972457,40.753812,1.0,2011-10-02 23:36:00.000000-73.992440.748840.7538-73.9725', u'17.3,Sun,23,-73.986098,40.757436,-73.956323,40.813476,1.0,2010-03-14 23:04:24.000000-73.986140.757440.8135-73.9563', u'45.0,Sun,23,-73.78442,40.648597,-73.965768,40.764437,1.0,2011-10-02 23:36:00.000000-73.784440.648640.7644-73.9658', u'8.1,Sun,23,-73.974833,40.777762,-73.945855,40.77544,2.0,2011-10-02 23:36:00.000000-73.974840.777840.7754-73.9459', u'11.0,Sun,23,-73.994065,40.751179,-74.005018,40.723628,3.0,2012-09-09 23:40:03.000000-73.994140.751240.7236-74.005', u'10.1,Sun,23,-73.985392,40.747982,-73.979656,40.781478,1.0,2010-10-17 23:12:19.000000-73.985440.74840.7815-73.9797', u'11.3,Sun,23,-73.963585,40.710397,-74.001565,40.708507,1.0,2011-10-02 23:36:00.000000-73.963640.710440.7085-74.0016', u'7.5,Mon,0,-74.003712,40.722557,-73.987283,40.738987,6.0,2014-06-23 00:16:00.000000-74.003740.722640.739-73.9873', u'7.0,Mon,0,-73.980032,40.74306,-73.997618,40.737692,3.0,2013-09-02 00:50:14.000000-73.9840.743140.7377-73.9976', u'6.5,Mon,0,-73.98986,40.73538,-73.97811,40.75145,2.0,2014-06-23 00:16:00.000000-73.989940.735440.7514-73.9781', u'15.5,Mon,0,-73.98882,40.718677,-73.921745,40.701815,1.0,2014-06-23 00:16:00.000000-73.988840.718740.7018-73.9217', u'7.0,Mon,0,-74.001262,40.731277,-73.983637,40.72527,1.0,2014-06-23 00:16:00.000000-74.001340.731340.7253-73.9836', u'12.0,Mon,0,-73.942843,40.785832,-73.92773,40.804072,1.0,2014-06-23 00:16:00.000000-73.942840.785840.8041-73.9277', u'8.5,Mon,1,-74.002024,40.728062,-74.016306,40.71119,1.0,2013-02-18 01:22:29.000000-74.00240.728140.7112-74.0163', u'36.67,Mon,1,-73.939903,40.841028,-73.8831,40.741638,1.0,2010-05-24 01:32:04.000000-73.939940.84140.7416-73.8831', u'6.5,Mon,6,-73.993373,40.757347,-73.993601,40.761839,3.0,2013-06-17 06:37:49.000000-73.993440.757340.7618-73.9936', u'8.0,Mon,6,-73.957084,40.780035,-73.973068,40.758306,1.0,2013-06-10 06:18:54.000000-73.957140.7840.7583-73.9731', u'12.1,Mon,7,-73.967592,40.803082,-73.973631,40.758832,1.0,2009-01-05 07:37:13.000000-73.967640.803140.7588-73.9736', u'28.67,Mon,7,-73.984723,40.760533,-73.8706,40.773788,1.0,2010-01-18 07:22:00.000000-73.984740.760540.7738-73.8706', u'5.3,Mon,8,-73.972372,40.786202,-73.981511,40.774145,3.0,2009-10-19 08:11:57.000000-73.972440.786240.7741-73.9815', u'9.7,Mon,9,-73.9735,40.789258,-73.970503,40.765557,3.0,2011-12-12 09:18:00.000000-73.973540.789340.7656-73.9705', u'12.9,Mon,9,-74.000262,40.725445,-73.973905,40.753075,1.0,2011-12-12 09:18:00.000000-74.000340.725440.7531-73.9739', u'8.5,Mon,9,-73.991867,40.74989,-73.975375,40.757043,2.0,2011-12-12 09:18:00.000000-73.991940.749940.757-73.9754', u'30.9,Mon,9,-73.863935,40.769612,-73.967982,40.75873,1.0,2011-12-12 09:18:00.000000-73.863940.769640.7587-73.968', u'9.3,Mon,9,-73.993463,40.733302,-73.985548,40.753127,2.0,2011-12-12 09:18:00.000000-73.993540.733340.7531-73.9855', u'47.33,Mon,10,-73.862877,40.768873,-74.005437,40.706469,1.0,2014-12-08 10:30:52.000000-73.862940.768940.7065-74.0054', u'10.1,Mon,10,-73.962559,40.763146,-73.987693,40.749673,1.0,2010-02-15 10:14:23.000000-73.962640.763140.7497-73.9877', u'6.5,Mon,10,-73.985749,40.740916,-73.972081,40.759283,1.0,2012-10-29 10:09:23.000000-73.985740.740940.7593-73.9721', u'5.0,Mon,11,-73.956929,40.786197,-73.952474,40.776845,1.0,2013-02-18 11:13:23.000000-73.956940.786240.7768-73.9525', u'8.1,Mon,12,-73.968608,40.76588,-73.981305,40.752369,1.0,2009-05-11 12:21:40.000000-73.968640.765940.7524-73.9813', u'6.0,Mon,13,-73.972523,40.764337,-73.957532,40.782529,1.0,2014-04-14 13:48:32.000000-73.972540.764340.7825-73.9575', u'57.33,Mon,14,-73.77684,40.645987,-73.991138,40.743305,5.0,2014-10-27 14:58:00.000000-73.776840.64640.7433-73.9911', u'6.0,Mon,14,-74.001115,40.73168,-73.99024,40.737467,2.0,2014-10-27 14:58:00.000000-74.001140.731740.7375-73.9902', u'7.7,Mon,14,-73.974484,40.761744,-73.985409,40.747423,3.0,2011-11-28 14:13:37.000000-73.974540.761740.7474-73.9854', u'5.3,Mon,16,-73.986457,40.765962,-73.997277,40.725803,1.0,2010-09-20 16:48:00.000000-73.986540.76640.7258-73.9973', u'5.5,Mon,16,-73.996591,40.73182,-73.997178,40.725012,1.0,2014-04-21 16:00:36.000000-73.996640.731840.725-73.9972', u'8.5,Mon,16,-73.953815,40.790848,-73.979935,40.78109,1.0,2010-09-20 16:48:00.000000-73.953840.790840.7811-73.9799', u'4.5,Mon,16,-73.990667,40.745063,-74.001858,40.74023,1.0,2010-09-20 16:48:00.000000-73.990740.745140.7402-74.0019', u'13.7,Mon,16,-73.940842,40.751063,-73.987142,40.760732,1.0,2010-09-20 16:48:00.000000-73.940840.751140.7607-73.9871', u'7.7,Mon,17,-73.964288,40.807446,-73.951356,40.809994,4.0,2009-11-02 17:00:22.000000-73.964340.807440.81-73.9514', u'7.0,Mon,17,-73.9619674683,40.7766914368,-73.9674682617,40.7920875549,1.0,2015-02-16 17:32:27.000000-73.96240.776740.7921-73.9675', u'8.5,Mon,17,-73.976061,40.754881,-73.956632,40.783457,1.0,2009-10-05 17:17:42.000000-73.976140.754940.7835-73.9566', u'4.0,Mon,18,-73.99197,40.742487,-73.981472,40.738217,6.0,2014-07-21 18:19:00.000000-73.99240.742540.7382-73.9815', u'6.0,Mon,18,-73.990032,40.737637,-73.975113,40.733057,2.0,2014-07-21 18:19:00.000000-73.9940.737640.7331-73.9751', u'5.0,Mon,18,-73.961705,40.75986,-73.956407,40.770322,1.0,2014-07-21 18:19:00.000000-73.961740.759940.7703-73.9564', u'3.5,Mon,18,-73.957105,40.77074,-73.959167,40.767705,1.0,2014-07-21 18:19:00.000000-73.957140.770740.7677-73.9592', u'8.1,Mon,19,-73.941864,40.838382,-73.962066,40.810771,1.0,2010-07-05 19:21:35.000000-73.941940.838440.8108-73.9621', u'20.0,Mon,19,-73.96771,40.756182,-73.996233,40.698378,1.0,2013-10-14 19:19:50.000000-73.967740.756240.6984-73.9962', u'4.0,Mon,20,-73.9911956787,40.7553749084,-73.9915161133,40.7604217529,1.0,2015-03-30 20:37:49.000000-73.991240.755440.7604-73.9915', u'30.5,Mon,20,-73.872288,40.773962,-73.972449,40.755879,1.0,2012-06-04 20:33:10.000000-73.872340.77440.7559-73.9724', u'7.0,Mon,21,-73.990792,40.750948,-73.9724,40.750642,1.0,2014-07-28 21:11:50.000000-73.990840.750940.7506-73.9724', u'11.0,Mon,21,-73.985631,40.746428,-73.999088,40.713682,1.0,2013-09-16 21:08:45.000000-73.985640.746440.7137-73.9991', u'21.3,Mon,21,-73.979352,40.752382,-73.962908,40.67341,1.0,2012-04-23 21:05:31.000000-73.979440.752440.6734-73.9629', u'14.0,Mon,22,-73.98421,40.720677,-73.968192,40.694862,1.0,2014-01-13 22:00:00.000000-73.984240.720740.6949-73.9682', u'5.0,Mon,22,-73.951992,40.777717,-73.947103,40.773382,1.0,2014-01-13 22:00:00.000000-73.95240.777740.7734-73.9471', u'28.5,Mon,22,-73.966744,40.756503,-73.961281,40.661353,1.0,2013-02-11 22:38:17.000000-73.966740.756540.6614-73.9613', u'8.5,Mon,23,-73.980162,40.761312,-73.953658,40.779527,1.0,2013-05-06 23:46:25.000000-73.980240.761340.7795-73.9537', u'18.5,Mon,23,-73.957588,40.779962,-73.997783,40.729425,1.0,2014-03-17 23:08:05.000000-73.957640.7840.7294-73.9978', u'47.3,Mon,23,-74.000088,40.758581,-73.699656,40.726879,2.0,2012-05-14 23:24:42.000000-74.000140.758640.7269-73.6997', u'6.0,Mon,23,-73.9823608398,40.7724914551,-73.96824646,40.7672080994,2.0,2015-01-12 23:20:46.000000-73.982440.772540.7672-73.9682', u'57.54,Mon,23,-73.7768554688,40.6451683044,-73.9730682373,40.7501602173,1.0,2015-04-06 23:15:58.000000-73.776940.645240.7502-73.9731', u'14.5,Tue,0,-73.975457,40.755471,-73.921028,40.743228,1.0,2014-04-29 00:02:40.000000-73.975540.755540.7432-73.921', u'8.9,Tue,0,-73.991382,40.732595,-73.985558,40.697962,1.0,2011-05-24 00:11:48.000000-73.991440.732640.698-73.9856', u'15.0,Tue,1,-73.948341,40.7449,-73.954547,40.691149,1.0,2014-06-10 01:06:25.000000-73.948340.744940.6911-73.9545', u'13.7,Tue,3,-74.002265,40.739689,-73.948745,40.793279,1.0,2011-04-05 03:58:38.000000-74.002340.739740.7933-73.9487', u'6.5,Tue,6,-73.9556884766,40.7794456482,-73.9540481567,40.7667617798,1.0,2015-03-10 06:56:20.000000-73.955740.779440.7668-73.954', u'4.0,Tue,7,-73.954043,40.778864,-73.955231,40.785109,1.0,2014-06-17 07:52:51.000000-73.95440.778940.7851-73.9552', u'9.3,Tue,7,-73.951463,40.78219,-73.976745,40.762165,1.0,2011-01-04 07:15:45.000000-73.951540.782240.7622-73.9767', u'15.7,Tue,8,-73.952158,40.769755,-73.987225,40.753464,1.0,2009-09-15 08:28:53.000000-73.952240.769840.7535-73.9872', u'5.7,Tue,9,-73.998387,40.740218,-73.99305,40.742335,1.0,2011-10-04 09:37:00.000000-73.998440.740240.7423-73.993', u'4.9,Tue,9,-74.003375,40.726822,-73.99565,40.738992,1.0,2011-10-04 09:37:00.000000-74.003440.726840.739-73.9956', u'8.1,Tue,9,-73.985628,40.744152,-74.006875,40.728787,5.0,2011-10-04 09:37:00.000000-73.985640.744240.7288-74.0069', u'8.5,Tue,9,-73.988119,40.74948,-73.992672,40.737131,1.0,2014-08-26 09:39:50.000000-73.988140.749540.7371-73.9927', u'6.1,Tue,9,-73.953244,40.771861,-73.975282,40.782461,1.0,2010-12-21 09:33:07.000000-73.953240.771940.7825-73.9753', u'14.5,Tue,9,-73.991217,40.755818,-74.007137,40.727527,1.0,2012-09-18 09:58:54.000000-73.991240.755840.7275-74.0071', u'10.1,Tue,9,-73.931607,40.744957,-73.926628,40.745893,1.0,2011-10-04 09:37:00.000000-73.931640.74540.7459-73.9266', u'13.5,Tue,10,-73.993315,40.727701,-74.011109,40.701857,1.0,2014-07-08 10:21:39.000000-73.993340.727740.7019-74.0111', u'22.0,Tue,10,-73.993728,40.741742,-73.995791,40.695567,1.0,2014-05-27 10:31:46.000000-73.993740.741740.6956-73.9958', u'6.1,Tue,10,-74.007013,40.719057,-74.016198,40.711153,1.0,2010-09-07 10:05:00.000000-74.00740.719140.7112-74.0162', u'12.9,Tue,10,-73.969482,40.763483,-73.994217,40.694887,5.0,2010-09-07 10:05:00.000000-73.969540.763540.6949-73.9942', u'12.5,Tue,10,-73.984936,40.767675,-73.961098,40.812073,2.0,2011-01-18 10:26:40.000000-73.984940.767740.8121-73.9611', u'5.7,Tue,10,-73.981909,40.749192,-73.984034,40.740986,1.0,2011-01-18 10:26:40.000000-73.981940.749240.741-73.984', u'12.1,Tue,10,-73.966635,40.75308,-73.977262,40.761075,1.0,2010-09-07 10:05:00.000000-73.966640.753140.7611-73.9773', u'39.87,Tue,10,-73.946997,40.78434,-73.978507,40.749532,5.0,2010-09-07 10:05:00.000000-73.94740.784340.7495-73.9785', u'10.1,Tue,10,-74.004405,40.730588,-73.999502,40.740222,2.0,2010-09-07 10:05:00.000000-74.004440.730640.7402-73.9995', u'30.27,Tue,10,-73.987932,40.749883,-73.959407,40.769287,1.0,2010-09-07 10:05:00.000000-73.987940.749940.7693-73.9594', u'9.0,Tue,11,-73.942424,40.841542,-73.95544,40.822056,1.0,2013-09-03 11:28:48.000000-73.942440.841540.8221-73.9554', u'6.9,Tue,11,-74.003458,40.715735,-73.990577,40.693526,2.0,2009-09-22 11:47:24.000000-74.003540.715740.6935-73.9906', u'4.9,Tue,11,-73.994184,40.751028,-74.001306,40.756532,1.0,2010-09-28 11:54:02.000000-73.994240.75140.7565-74.0013', u'16.0,Tue,12,-73.9900131226,40.734790802,-73.990524292,40.7560958862,1.0,2015-01-13 12:07:53.000000-73.9940.734840.7561-73.9905', u'11.0,Tue,12,-73.961305,40.76017,-73.988837,40.738248,1.0,2012-09-18 12:02:32.000000-73.961340.760240.7382-73.9888', u'17.5,Tue,12,-73.9826126099,40.7684936523,-73.9547576904,40.7781715393,1.0,2015-05-05 12:32:14.000000-73.982640.768540.7782-73.9548', u'15.5,Tue,13,-73.976545,40.75917,-74.01034,40.720257,1.0,2014-12-09 13:43:00.000000-73.976540.759240.7203-74.0103', u'6.5,Tue,13,-73.95298,40.771695,-73.956952,40.770387,1.0,2014-12-09 13:43:00.000000-73.95340.771740.7704-73.957', u'6.5,Tue,13,-73.991409,40.75028,-73.987982,40.769876,1.0,2009-11-03 13:04:46.000000-73.991440.750340.7699-73.988', u'12.5,Tue,13,-73.998247,40.73036,-73.9791,40.740412,1.0,2014-12-09 13:43:00.000000-73.998240.730440.7404-73.9791', u'6.0,Tue,13,-73.95179,40.773602,-73.959267,40.781042,5.0,2014-12-09 13:43:00.000000-73.951840.773640.781-73.9593', u'7.3,Tue,13,-73.985233,40.753363,-73.97572,40.765555,1.0,2011-07-26 13:10:56.000000-73.985240.753440.7656-73.9757', u'5.5,Tue,14,-73.978573,40.772522,-73.969455,40.767551,1.0,2012-09-18 14:32:06.000000-73.978640.772540.7676-73.9695', u'8.9,Tue,14,-73.962443,40.779214,-73.976896,40.758683,3.0,2010-06-22 14:25:19.000000-73.962440.779240.7587-73.9769', u'25.3,Tue,14,-73.9784,40.7497,-73.8728,40.7743,1.0,2011-09-13 14:45:35.000000-73.978440.749740.7743-73.8728', u'5.3,Tue,14,-74.002533,40.739595,-74.005223,40.729256,1.0,2009-01-06 14:48:51.000000-74.002540.739640.7293-74.0052', u'10.5,Tue,16,-73.864156,40.771065,-73.908693,40.772808,1.0,2014-04-08 16:58:41.000000-73.864240.771140.7728-73.9087', u'57.33,Tue,17,-73.776701,40.645313,-73.975424,40.755275,2.0,2013-04-23 17:52:44.000000-73.776740.645340.7553-73.9754', u'6.5,Tue,17,-73.9946746826,40.7404327393,-73.9858703613,40.751914978,1.0,2015-03-17 17:11:33.000000-73.994740.740440.7519-73.9859', u'8.0,Tue,17,-73.991569519,40.7555351257,-73.9893264771,40.7714538574,6.0,2015-03-17 17:11:33.000000-73.991640.755540.7715-73.9893', u'5.3,Tue,17,-73.976925,40.758284,-73.980849,40.746841,1.0,2009-11-17 17:43:07.000000-73.976940.758340.7468-73.9808', u'16.1,Tue,17,-73.985283,40.768526,-74.006679,40.74421,1.0,2009-06-16 17:49:27.000000-73.985340.768540.7442-74.0067', u'3.7,Tue,17,-73.958403,40.764584,-73.964092,40.767025,1.0,2010-01-05 17:56:15.000000-73.958440.764640.767-73.9641', u'6.1,Tue,19,-73.989714,40.734332,-74.002249,40.726473,1.0,2009-05-12 19:32:17.000000-73.989740.734340.7265-74.0022', u'5.7,Tue,19,-73.969058,40.760749,-73.956532,40.76701,1.0,2009-05-12 19:32:17.000000-73.969140.760740.767-73.9565', u'5.7,Tue,19,-73.985661,40.731346,-73.987059,40.742378,1.0,2009-06-16 19:00:16.000000-73.985740.731340.7424-73.9871', u'7.5,Tue,19,-73.9822463989,40.7715950012,-73.9750061035,40.7893295288,1.0,2015-03-03 19:54:37.000000-73.982240.771640.7893-73.975', u'6.1,Tue,20,-73.971993,40.759604,-73.957253,40.768245,2.0,2012-04-17 20:50:10.000000-73.97240.759640.7682-73.9573', u'6.1,Tue,20,-73.979386,40.752685,-73.961109,40.760617,1.0,2010-07-06 20:52:53.000000-73.979440.752740.7606-73.9611', u'8.0,Tue,21,-73.978277,40.73702,-73.988367,40.748432,5.0,2012-11-20 21:54:00.000000-73.978340.73740.7484-73.9884', u'6.0,Tue,21,-73.992507,40.694135,-74.000662,40.681507,1.0,2012-11-20 21:54:00.000000-73.992540.694140.6815-74.0007', u'14.0,Tue,21,-73.967617,40.766137,-74.001265,40.73933,1.0,2012-11-20 21:54:00.000000-73.967640.766140.7393-74.0013', u'6.0,Tue,21,-73.973695,40.75132,-73.98368,40.742273,5.0,2012-11-20 21:54:00.000000-73.973740.751340.7423-73.9837', u'23.5,Tue,21,-73.957012,40.770762,-73.870212,40.726202,2.0,2012-11-20 21:54:00.000000-73.95740.770840.7262-73.8702', u'12.0,Tue,21,-73.986275,40.76443,-74.00681,40.719227,2.0,2012-11-20 21:54:00.000000-73.986340.764440.7192-74.0068', u'12.0,Tue,21,-73.97495,40.756085,-73.996885,40.743,1.0,2012-11-20 21:54:00.000000-73.97540.756140.743-73.9969', u'15.0,Tue,21,-73.983517,40.766315,-73.99787,40.729485,1.0,2012-11-20 21:54:00.000000-73.983540.766340.7295-73.9979', u'5.7,Tue,22,-73.981439,40.747453,-73.992488,40.735531,1.0,2011-12-13 22:00:00.000000-73.981440.747540.7355-73.9925', u'6.9,Tue,22,-73.946817,40.772345,-73.974082,40.783025,1.0,2011-12-13 22:00:00.000000-73.946840.772340.783-73.9741', u'12.9,Tue,22,-73.991602,40.759645,-73.963128,40.794303,1.0,2011-11-29 22:19:51.000000-73.991640.759640.7943-73.9631', u'4.9,Tue,22,-73.991962,40.726497,-74.002465,40.723062,2.0,2011-12-13 22:00:00.000000-73.99240.726540.7231-74.0025', u'6.1,Tue,22,-73.979645,40.75481,-73.985763,40.744722,1.0,2011-12-13 22:00:00.000000-73.979640.754840.7447-73.9858', u'9.5,Tue,22,-73.9909591675,40.7494697571,-73.9963607788,40.7267150879,1.0,2015-04-07 22:02:47.000000-73.99140.749540.7267-73.9964', u'5.3,Tue,22,-73.978167,40.748548,-73.990803,40.750828,1.0,2011-12-13 22:00:00.000000-73.978240.748540.7508-73.9908', u'6.9,Tue,22,-73.980067,40.754837,-73.981497,40.768427,1.0,2011-12-13 22:00:00.000000-73.980140.754840.7684-73.9815', u'17.3,Tue,22,-73.960008,40.766898,-73.96337,40.711423,2.0,2011-12-13 22:00:00.000000-73.9640.766940.7114-73.9634', u'4.0,Tue,23,-73.98653,40.745487,-73.980235,40.746367,1.0,2014-03-25 23:47:00.000000-73.986540.745540.7464-73.9802', u'11.0,Wed,0,-74.006217,40.739619,-73.975708,40.756051,1.0,2013-08-28 00:27:36.000000-74.006240.739640.7561-73.9757', u'4.1,Wed,2,-74.006177,40.741308,-74.001042,40.743183,1.0,2012-04-11 02:49:00.000000-74.006240.741340.7432-74.001', u'6.1,Wed,2,-74.006692,40.744225,-74.005928,40.726397,2.0,2010-10-27 02:29:39.000000-74.006740.744240.7264-74.0059', u'10.5,Wed,3,-73.97121,40.79528,-73.95075,40.76944,2.0,2014-12-24 03:00:00.000000-73.971240.795340.7694-73.9507', u'9.3,Wed,4,-73.989581,40.739137,-73.921185,40.756977,1.0,2009-04-22 04:26:35.000000-73.989640.739140.757-73.9212', u'4.1,Wed,6,-73.977771,40.753352,-73.986605,40.754294,1.0,2010-05-26 06:59:19.000000-73.977840.753440.7543-73.9866', u'14.9,Wed,6,-73.95943,40.767434,-74.004892,40.70769,1.0,2009-10-07 06:39:37.000000-73.959440.767440.7077-74.0049', u'7.7,Wed,6,-73.966375,40.767901,-73.987988,40.745848,1.0,2009-10-07 06:39:37.000000-73.966440.767940.7458-73.988', u'4.5,Wed,7,-73.959694,40.769206,-73.962511,40.775744,1.0,2014-10-15 07:12:45.000000-73.959740.769240.7757-73.9625', u'4.5,Wed,7,-74.008022,40.731278,-74.00009,40.732765,5.0,2011-06-01 07:37:00.000000-74.00840.731340.7328-74.0001', u'8.9,Wed,7,-74.014825,40.709493,-74.004675,40.710152,1.0,2011-06-01 07:37:00.000000-74.014840.709540.7102-74.0047', u'4.1,Wed,7,-73.992875,40.758173,-73.990097,40.751905,1.0,2011-06-01 07:37:00.000000-73.992940.758240.7519-73.9901', u'17.5,Wed,8,-73.958734,40.783837,-73.980669,40.745212,1.0,2012-09-19 08:04:45.000000-73.958740.783840.7452-73.9807', u'5.0,Wed,9,-73.987432,40.754218,-73.977649,40.75145,1.0,2013-10-30 09:59:04.000000-73.987440.754240.7514-73.9776', u'10.0,Wed,9,-73.993217,40.736633,-73.974003,40.751488,1.0,2014-04-09 09:23:12.000000-73.993240.736640.7515-73.974', u'4.5,Wed,9,-73.959619,40.767682,-73.968303,40.762262,1.0,2009-06-03 09:11:30.000000-73.959640.767740.7623-73.9683', u'12.1,Wed,10,-73.979412,40.734765,-74.011023,40.704155,1.0,2012-08-29 10:22:00.000000-73.979440.734840.7042-74.011', u'7.3,Wed,10,-73.972987,40.755527,-73.96618,40.772117,4.0,2012-08-29 10:22:00.000000-73.97340.755540.7721-73.9662', u'5.3,Wed,10,-73.987752,40.754905,-73.978682,40.750692,1.0,2012-08-29 10:22:00.000000-73.987840.754940.7507-73.9787', u'6.0,Wed,11,-73.979649,40.761735,-73.988172,40.753988,1.0,2013-08-28 11:08:58.000000-73.979640.761740.754-73.9882', u'10.0,Wed,12,-73.978064,40.789003,-73.961103,40.77592,1.0,2012-10-31 12:17:24.000000-73.978140.78940.7759-73.9611', u'4.0,Wed,13,-73.966211,40.754107,-73.960301,40.761921,1.0,2014-01-01 13:06:34.000000-73.966240.754140.7619-73.9603', u'57.54,Wed,14,-73.7767105103,40.6453704834,-74.0101928711,40.7312583923,1.0,2015-06-24 14:19:52.000000-73.776740.645440.7313-74.0102', u'15.0,Wed,15,-73.9942932129,40.761516571,-73.9750747681,40.762424469,1.0,2015-04-22 15:04:06.000000-73.994340.761540.7624-73.9751', u'13.0,Wed,16,-73.923835,40.752572,-73.970958,40.760535,1.0,2014-06-18 16:08:03.000000-73.923840.752640.7605-73.971', u'7.0,Wed,16,-73.991579,40.760557,-73.980293,40.758658,1.0,2013-02-20 16:10:28.000000-73.991640.760640.7587-73.9803', u'6.9,Wed,16,-73.971287,40.75591,-73.986677,40.747408,1.0,2010-09-29 16:43:00.000000-73.971340.755940.7474-73.9867', u'20.9,Wed,16,-73.944232,40.788205,-74.000927,40.728217,3.0,2009-06-10 16:55:00.000000-73.944240.788240.7282-74.0009', u'4.5,Wed,16,-73.958128,40.76057,-73.965757,40.753242,1.0,2010-09-29 16:43:00.000000-73.958140.760640.7532-73.9658', u'3.7,Wed,16,-73.978695,40.777373,-73.975202,40.780242,5.0,2009-06-10 16:55:00.000000-73.978740.777440.7802-73.9752', u'7.3,Wed,16,-73.96508,40.761784,-73.947036,40.772616,1.0,2011-09-21 16:15:08.000000-73.965140.761840.7726-73.947', u'6.9,Wed,16,-73.996397,40.731998,-73.992725,40.749188,5.0,2009-06-10 16:55:00.000000-73.996440.73240.7492-73.9927', u'20.0,Wed,17,-73.9658813477,40.7584533691,-74.0114593506,40.702205658,5.0,2015-02-11 17:15:59.000000-73.965940.758540.7022-74.0115', u'4.1,Wed,18,-73.983965,40.735965,-73.992588,40.737465,3.0,2011-01-05 18:19:09.000000-73.98440.73640.7375-73.9926', u'5.7,Wed,19,-73.997785,40.717052,-73.993853,40.721169,2.0,2011-05-11 19:56:09.000000-73.997840.717140.7212-73.9939', u'6.1,Wed,19,-73.948433,40.774323,-73.960557,40.764761,1.0,2010-12-01 19:04:54.000000-73.948440.774340.7648-73.9606', u'20.5,Wed,19,-73.86442,40.770643,-73.937983,40.804584,1.0,2014-03-12 19:19:31.000000-73.864440.770640.8046-73.938', u'28.9,Wed,20,-73.978955,40.77732,-73.858137,40.746107,2.0,2012-08-22 20:54:46.000000-73.97940.777340.7461-73.8581', u'12.0,Wed,20,-73.994048,40.751175,-73.971857,40.78545,1.0,2012-12-26 20:55:27.000000-73.99440.751240.7854-73.9719', u'9.3,Wed,20,-73.973282,40.743918,-73.953816,40.781264,1.0,2011-10-19 20:35:02.000000-73.973340.743940.7813-73.9538', u'4.5,Wed,20,-73.990344,40.730494,-74.002308,40.733595,1.0,2009-12-23 20:14:19.000000-73.990340.730540.7336-74.0023', u'14.9,Wed,21,-73.972367,40.794063,-73.937806,40.855472,1.0,2009-10-07 21:24:47.000000-73.972440.794140.8555-73.9378', u'5.0,Wed,21,-73.989285,40.736367,-73.995,40.725937,1.0,2013-10-30 21:47:15.000000-73.989340.736440.7259-73.995', u'7.5,Wed,21,-73.973178,40.761114,-73.984736,40.746801,1.0,2014-03-05 21:07:12.000000-73.973240.761140.7468-73.9847', u'14.0,Wed,21,-74.002339,40.75039,-73.994448,40.718331,1.0,2014-10-08 21:24:47.000000-74.002340.750440.7183-73.9944', u'10.0,Wed,22,-73.976602,40.754152,-73.993297,40.730887,6.0,2013-09-25 22:00:00.000000-73.976640.754240.7309-73.9933', u'16.5,Wed,22,-74.00102,40.741622,-73.962142,40.776385,1.0,2013-09-25 22:00:00.000000-74.00140.741640.7764-73.9621', u'6.5,Wed,22,-73.983352,40.730117,-74.007257,40.73294,1.0,2010-12-01 22:04:52.000000-73.983440.730140.7329-74.0073', u'4.5,Wed,22,-73.98746,40.728482,-73.979813,40.725317,5.0,2013-09-25 22:00:00.000000-73.987540.728540.7253-73.9798', u'11.5,Wed,22,-73.994157,40.758997,-74.003295,40.725387,5.0,2013-09-25 22:00:00.000000-73.994240.75940.7254-74.0033', u'4.5,Wed,22,-73.979625,40.743545,-73.972195,40.747332,1.0,2013-09-25 22:00:00.000000-73.979640.743540.7473-73.9722', u'7.7,Wed,23,-73.972339,40.760474,-73.948429,40.774713,1.0,2010-03-10 23:07:33.000000-73.972340.760540.7747-73.9484', u'4.5,Thu,0,-73.990832,40.746954,-73.999986,40.742868,3.0,2013-06-27 00:20:40.000000-73.990840.74740.7429-74', u'15.3,Thu,0,-73.9705,40.758774,-73.903106,40.770738,1.0,2009-08-20 00:33:31.000000-73.970540.758840.7707-73.9031', u'14.9,Thu,0,-73.991652,40.764819,-73.914854,40.760272,1.0,2012-02-02 00:49:56.000000-73.991740.764840.7603-73.9149', u'8.5,Thu,1,-73.984668,40.748194,-74.005409,40.738184,1.0,2014-11-06 01:40:49.000000-73.984740.748240.7382-74.0054', u'8.1,Thu,1,-73.953277,40.8228,-73.948945,40.797287,1.0,2012-04-19 01:17:00.000000-73.953340.822840.7973-73.9489', u'15.7,Thu,1,-74.002282,40.734655,-73.939675,40.69425,2.0,2012-04-19 01:17:00.000000-74.002340.734740.6942-73.9397', u'6.1,Thu,1,-73.9901,40.716842,-73.983685,40.729895,1.0,2012-04-19 01:17:00.000000-73.990140.716840.7299-73.9837', u'40.0,Thu,4,-73.984177,40.764867,-73.994113,40.601722,2.0,2014-03-13 04:24:00.000000-73.984240.764940.6017-73.9941', u'13.0,Thu,4,-74.010135,40.711925,-73.97664,40.74505,1.0,2014-03-13 04:24:00.000000-74.010140.711940.745-73.9766', u'11.5,Thu,4,-73.953472,40.744721,-73.972925,40.764339,1.0,2014-03-13 04:24:00.000000-73.953540.744740.7643-73.9729', u'8.5,Thu,6,-73.999724,40.738488,-74.012841,40.703024,1.0,2009-04-02 06:19:02.000000-73.999740.738540.703-74.0128', u'5.3,Thu,7,-74.001433,40.736167,-73.999048,40.721348,1.0,2010-12-09 07:29:00.000000-74.001440.736240.7213-73.999', u'27.5,Thu,7,-73.9609603882,40.7969779968,-73.974937439,40.7538948059,1.0,2015-06-04 07:39:30.000000-73.96140.79740.7539-73.9749', u'5.0,Thu,7,-73.9655532837,40.7902450562,-73.9569549561,40.7862434387,1.0,2015-06-04 07:39:30.000000-73.965640.790240.7862-73.957', u'6.5,Thu,7,-73.990213,40.756925,-73.972862,40.758268,1.0,2010-12-09 07:29:00.000000-73.990240.756940.7583-73.9729', u'9.3,Thu,7,-73.991382,40.727148,-73.993613,40.750173,1.0,2012-01-26 07:33:00.000000-73.991440.727140.7502-73.9936', u'14.5,Thu,7,-73.979633,40.735482,-73.98917,40.691872,5.0,2012-01-26 07:33:00.000000-73.979640.735540.6919-73.9892', u'21.7,Thu,7,-73.94774,40.78278,-74.00712,40.709445,2.0,2010-12-09 07:29:00.000000-73.947740.782840.7094-74.0071', u'4.9,Thu,7,-73.96267,40.763247,-73.97498,40.761952,1.0,2012-01-26 07:33:00.000000-73.962740.763240.762-73.975', u'7.7,Thu,7,-73.999628,40.733477,-73.978762,40.750078,2.0,2012-01-26 07:33:00.000000-73.999640.733540.7501-73.9788', u'7.7,Thu,7,-73.954738,40.781792,-73.939367,40.805153,1.0,2010-12-09 07:29:00.000000-73.954740.781840.8052-73.9394', u'15.7,Thu,7,-73.9933,40.727662,-73.955732,40.782258,1.0,2010-12-09 07:29:00.000000-73.993340.727740.7823-73.9557', u'5.7,Thu,7,-73.99695,40.722787,-73.986347,40.740458,1.0,2012-01-26 07:33:00.000000-73.996940.722840.7405-73.9863', u'8.1,Thu,7,-73.975215,40.77718,-73.975215,40.777312,1.0,2010-12-09 07:29:00.000000-73.975240.777240.7773-73.9752', u'4.5,Thu,8,-74.000051,40.748354,-73.998109,40.738097,1.0,2012-03-15 08:17:36.000000-74.000140.748440.7381-73.9981', u'7.3,Thu,8,-73.968442,40.75515,-73.989427,40.762772,1.0,2012-03-15 08:17:36.000000-73.968440.755240.7628-73.9894', u'18.0,Thu,8,-73.983633,40.744257,-74.016347,40.708353,1.0,2013-04-04 08:04:08.000000-73.983640.744340.7084-74.0163', u'20.0,Thu,10,-74.015145,40.714506,-73.983481,40.762306,1.0,2013-06-20 10:05:46.000000-74.015140.714540.7623-73.9835', u'5.3,Thu,11,-74.000175,40.738023,-73.99979,40.723506,1.0,2011-12-15 11:43:14.000000-74.000240.73840.7235-73.9998', u'5.3,Thu,11,-73.978682,40.777528,-73.971683,40.792225,1.0,2010-05-06 11:35:26.000000-73.978740.777540.7922-73.9717', u'5.7,Thu,12,-73.982419,40.777403,-73.979946,40.765419,1.0,2012-07-26 12:40:38.000000-73.982440.777440.7654-73.9799', u'30.5,Thu,14,-74.007632,40.734223,-73.99591,40.764703,1.0,2010-09-16 14:27:16.000000-74.007640.734240.7647-73.9959', u'6.5,Thu,14,-73.993850708,40.7284584045,-74.0051727295,40.734588623,6.0,2015-05-21 14:58:28.000000-73.993940.728540.7346-74.0052', u'6.5,Thu,15,-73.992202,40.715064,-73.991568,40.726411,1.0,2013-09-26 15:50:06.000000-73.992240.715140.7264-73.9916', u'3.3,Thu,15,-73.960858,40.802697,-73.962264,40.798931,1.0,2010-07-22 15:06:03.000000-73.960940.802740.7989-73.9623', u'7.5,Thu,16,-73.981888,40.740533,-73.993022,40.747747,1.0,2013-03-07 16:22:46.000000-73.981940.740540.7477-73.993', u'5.1,Thu,16,-73.979287,40.777671,-73.974496,40.784039,1.0,2009-03-12 16:04:51.000000-73.979340.777740.784-73.9745', u'7.5,Thu,17,-73.9835586548,40.7440681458,-73.9696884155,40.7557373047,1.0,2015-05-07 17:58:16.000000-73.983640.744140.7557-73.9697', u'10.5,Thu,17,-73.9783935547,40.7483596802,-73.9877624512,40.719581604,1.0,2015-05-07 17:58:16.000000-73.978440.748440.7196-73.9878', u'4.9,Thu,18,-73.97797,40.786543,-73.970408,40.796555,2.0,2009-11-05 18:52:00.000000-73.97840.786540.7966-73.9704', u'9.5,Thu,18,-73.981454,40.767677,-73.954568,40.786566,1.0,2009-03-26 18:32:39.000000-73.981540.767740.7866-73.9546', u'7.5,Thu,18,-73.953769,40.766733,-73.950626,40.785832,1.0,2013-02-21 18:08:21.000000-73.953840.766740.7858-73.9506', u'11.3,Thu,18,-73.988622,40.720203,-74.004697,40.741952,2.0,2009-11-05 18:52:00.000000-73.988640.720240.742-74.0047', u'5.7,Thu,18,-73.961547,40.771698,-73.972293,40.781307,1.0,2009-11-05 18:52:00.000000-73.961540.771740.7813-73.9723', u'5.3,Thu,18,-73.969174,40.756111,-73.971873,40.744108,1.0,2011-10-27 18:54:55.000000-73.969240.756140.7441-73.9719', u'10.9,Thu,18,-73.96208,40.762958,-73.969146,40.790817,1.0,2009-06-18 18:47:22.000000-73.962140.76340.7908-73.9691', u'6.9,Thu,18,-73.962902,40.758487,-73.981872,40.768581,1.0,2012-03-15 18:23:55.000000-73.962940.758540.7686-73.9819', u'12.9,Thu,18,-73.990437,40.762128,-73.958743,40.772755,5.0,2009-11-05 18:52:00.000000-73.990440.762140.7728-73.9587', u'3.3,Thu,19,-73.984344,40.78231,-73.982548,40.778909,1.0,2011-04-28 19:39:43.000000-73.984340.782340.7789-73.9825', u'7.1,Thu,19,-73.988921,40.738334,-73.978462,40.751349,1.0,2009-03-19 19:21:09.000000-73.988940.738340.7513-73.9785', u'31.0,Thu,20,-73.9856643677,40.7574768066,-73.9313049316,40.6869621277,2.0,2015-03-19 20:28:18.000000-73.985740.757540.687-73.9313', u'8.5,Thu,20,-73.991766,40.754384,-73.989118,40.774312,1.0,2013-08-22 20:04:59.000000-73.991840.754440.7743-73.9891', u'5.5,Thu,21,-73.972408,40.752947,-73.970289,40.749418,2.0,2013-03-14 21:43:46.000000-73.972440.752940.7494-73.9703', u'5.0,Thu,21,-73.961818,40.76513,-73.96976,40.766183,1.0,2012-10-25 21:09:00.000000-73.961840.765140.7662-73.9698', u'12.5,Thu,21,-73.980835,40.769607,-73.955956,40.806147,1.0,2013-01-17 21:10:33.000000-73.980840.769640.8061-73.956', u'8.5,Thu,21,-73.997473,40.736552,-73.989212,40.756038,3.0,2012-10-25 21:09:00.000000-73.997540.736640.756-73.9892', u'11.5,Thu,21,-73.997235,40.760315,-73.967272,40.794933,2.0,2012-10-25 21:09:00.000000-73.997240.760340.7949-73.9673', u'5.3,Thu,21,-73.980576,40.751736,-73.977083,40.764655,1.0,2011-03-03 21:31:42.000000-73.980640.751740.7647-73.9771', u'29.3,Thu,21,-73.885228,40.772897,-73.956433,40.766867,1.0,2012-10-25 21:09:00.000000-73.885240.772940.7669-73.9564', u'13.0,Thu,23,-74.0078125,40.7079734802,-74.0018463135,40.7511024475,1.0,2015-06-11 23:00:12.000000-74.007840.70840.7511-74.0018', u'9.5,Fri,0,-74.007786,40.740839,-73.978287,40.745709,3.0,2012-11-23 00:43:02.000000-74.007840.740840.7457-73.9783', u'17.0,Fri,0,-73.977127,40.726347,-73.947854,40.747444,1.0,2014-08-08 00:02:41.000000-73.977140.726340.7474-73.9479', u'12.5,Fri,1,-73.984835,40.75301,-73.923587,40.743517,1.0,2011-03-11 01:44:00.000000-73.984840.75340.7435-73.9236', u'4.9,Fri,1,-73.98248,40.75277,-73.980228,40.74407,5.0,2010-06-11 01:01:00.000000-73.982540.752840.7441-73.9802', u'5.3,Fri,1,-73.976988,40.755218,-73.964017,40.75677,1.0,2010-06-11 01:01:00.000000-73.97740.755240.7568-73.964', u'6.1,Fri,1,-73.97901,40.760025,-73.990667,40.749612,5.0,2010-06-11 01:01:00.000000-73.97940.7640.7496-73.9907', u'10.9,Fri,1,-73.978362,40.724767,-73.944688,40.718112,1.0,2011-03-11 01:44:00.000000-73.978440.724840.7181-73.9447', u'3.3,Fri,2,-73.973754,40.754488,-73.977422,40.749402,1.0,2011-06-03 02:05:52.000000-73.973840.754540.7494-73.9774', u'6.9,Fri,3,-73.98741,40.729383,-74.00575,40.745237,2.0,2010-07-02 03:14:00.000000-73.987440.729440.7452-74.0058', u'4.5,Fri,3,-74.000364,40.730541,-74.005458,40.727423,1.0,2011-12-23 03:03:41.000000-74.000440.730540.7274-74.0055', u'11.5,Fri,7,-73.952201,40.798747,-73.984572,40.790518,1.0,2014-01-10 07:42:31.000000-73.952240.798740.7905-73.9846', u'9.5,Fri,7,-73.970963,40.795799,-73.957732,40.77978,2.0,2013-05-24 07:22:51.000000-73.97140.795840.7798-73.9577', u'7.3,Fri,7,-73.981127,40.741128,-73.971835,40.762909,1.0,2009-03-20 07:29:39.000000-73.981140.741140.7629-73.9718', u'10.1,Fri,8,-74.001908,40.740496,-73.974303,40.759254,1.0,2010-01-29 08:32:53.000000-74.001940.740540.7593-73.9743', u'10.1,Fri,9,-73.96236,40.773233,-73.98921,40.741415,1.0,2011-04-22 09:53:00.000000-73.962440.773240.7414-73.9892', u'10.1,Fri,9,-73.963303,40.793693,-73.972013,40.760595,1.0,2011-04-22 09:53:00.000000-73.963340.793740.7606-73.972', u'9.3,Fri,9,-73.971723,40.749493,-73.992428,40.767362,1.0,2011-04-22 09:53:00.000000-73.971740.749540.7674-73.9924', u'24.5,Fri,9,-73.99514,40.724955,-73.871775,40.774417,4.0,2011-04-22 09:53:00.000000-73.995140.72540.7744-73.8718', u'8.9,Fri,10,-73.991944,40.759018,-73.964479,40.769886,2.0,2011-05-27 10:46:38.000000-73.991940.75940.7699-73.9645', u'22.0,Fri,10,-73.958169,40.760525,-74.007924,40.714149,1.0,2014-10-17 10:38:48.000000-73.958240.760540.7141-74.0079', u'5.3,Fri,11,-73.992612,40.748358,-73.99276,40.737123,1.0,2012-03-16 11:45:18.000000-73.992640.748440.7371-73.9928', u'6.5,Fri,12,-73.978783,40.745481,-73.967221,40.760865,1.0,2010-01-29 12:46:06.000000-73.978840.745540.7609-73.9672', u'9.3,Fri,12,-73.990713,40.730547,-73.973455,40.761947,5.0,2011-06-24 12:03:00.000000-73.990740.730540.7619-73.9735', u'9.0,Fri,12,-73.992583,40.753871,-73.977511,40.750757,1.0,2012-09-28 12:56:16.000000-73.992640.753940.7508-73.9775', u'6.9,Fri,12,-73.966843,40.753151,-73.965736,40.76828,1.0,2010-06-18 12:09:18.000000-73.966840.753240.7683-73.9657', u'5.7,Fri,12,-73.979045,40.748922,-73.996059,40.75337,1.0,2010-07-30 12:04:17.000000-73.97940.748940.7534-73.9961', u'10.1,Fri,12,-73.991418,40.750712,-73.975787,40.761133,6.0,2011-06-24 12:03:00.000000-73.991440.750740.7611-73.9758', u'6.5,Fri,12,-73.994902,40.760008,-73.981998,40.778217,1.0,2011-06-24 12:03:00.000000-73.994940.7640.7782-73.982', u'5.7,Fri,12,-73.986211,40.755788,-73.973549,40.750458,1.0,2010-04-30 12:52:22.000000-73.986240.755840.7505-73.9735', u'7.7,Fri,12,-73.961247,40.806047,-73.93943,40.805212,3.0,2011-06-24 12:03:00.000000-73.961240.80640.8052-73.9394', u'8.1,Fri,12,-73.982638,40.729765,-74.003913,40.740202,1.0,2011-06-24 12:03:00.000000-73.982640.729840.7402-74.0039', u'5.3,Fri,12,-73.982537,40.77533,-73.981875,40.76639,1.0,2011-06-24 12:03:00.000000-73.982540.775340.7664-73.9819', u'3.7,Fri,13,-73.95425,40.781527,-73.959822,40.779359,2.0,2009-10-16 13:49:11.000000-73.954340.781540.7794-73.9598', u'20.5,Fri,14,-73.977797,40.752272,-74.014953,40.70951,1.0,2013-07-26 14:43:00.000000-73.977840.752340.7095-74.015', u'5.0,Fri,14,-73.977142,40.742977,-73.988545,40.732982,1.0,2013-07-26 14:43:00.000000-73.977140.74340.733-73.9885', u'10.0,Fri,14,-73.98708,40.755165,-74.004467,40.74204,6.0,2013-07-26 14:43:00.000000-73.987140.755240.742-74.0045', u'8.0,Fri,14,-73.981622,40.78061,-73.98437,40.767172,1.0,2013-07-26 14:43:00.000000-73.981640.780640.7672-73.9844', u'6.0,Fri,14,-73.958665,40.764132,-73.958665,40.764132,1.0,2013-07-26 14:43:00.000000-73.958740.764140.7641-73.9587', u'12.5,Fri,14,-73.985792,40.763402,-73.966592,40.789028,1.0,2014-12-05 14:14:14.000000-73.985840.763440.789-73.9666', u'8.1,Fri,16,-73.970877,40.764282,-73.973102,40.790212,1.0,2009-05-08 16:45:00.000000-73.970940.764340.7902-73.9731', u'6.1,Fri,16,-73.985715,40.75025,-73.977782,40.757183,2.0,2009-05-08 16:45:00.000000-73.985740.750340.7572-73.9778', u'12.0,Fri,16,-73.9695587158,40.7579612732,-73.981086731,40.7826194763,1.0,2015-05-01 16:52:31.000000-73.969640.75840.7826-73.9811', u'3.7,Fri,16,-73.962802,40.771813,-73.962425,40.77598,5.0,2009-05-08 16:45:00.000000-73.962840.771840.776-73.9624', u'15.0,Fri,16,-73.975711,40.781799,-73.988992,40.75363,1.0,2014-08-01 16:50:03.000000-73.975740.781840.7536-73.989', u'9.3,Fri,16,-73.99268,40.758332,-74.005695,40.726233,3.0,2009-05-08 16:45:00.000000-73.992740.758340.7262-74.0057', u'27.9,Fri,16,-73.995006,40.760115,-73.873493,40.774198,1.0,2009-03-27 16:05:22.000000-73.99540.760140.7742-73.8735', u'7.7,Fri,16,-73.989945,40.776407,-73.975408,40.76145,1.0,2009-05-08 16:45:00.000000-73.989940.776440.7615-73.9754', u'25.0,Fri,18,-73.946308,40.777454,-74.006007,40.727091,2.0,2014-08-01 18:38:09.000000-73.946340.777540.7271-74.006', u'11.3,Fri,18,-74.006115,40.735709,-74.011526,40.704066,1.0,2010-11-05 18:01:34.000000-74.006140.735740.7041-74.0115', u'6.1,Fri,18,-73.983565,40.762252,-73.989968,40.755555,1.0,2010-08-27 18:45:00.000000-73.983640.762340.7556-73.99', u'11.3,Fri,18,-73.971488,40.764072,-73.99994,40.748333,1.0,2010-08-27 18:45:00.000000-73.971540.764140.7483-73.9999', u'12.0,Fri,18,-73.982904,40.777407,-73.9472,40.779686,1.0,2014-04-11 18:50:59.000000-73.982940.777440.7797-73.9472', u'3.3,Fri,18,-73.954212,40.778535,-73.951585,40.78489,1.0,2010-08-27 18:45:00.000000-73.954240.778540.7849-73.9516', u'3.3,Fri,18,-73.971985,40.745787,-73.971985,40.745787,5.0,2010-08-27 18:45:00.000000-73.97240.745840.7458-73.972', u'8.5,Fri,18,-73.967545,40.771452,-73.985057,40.75999,1.0,2010-08-27 18:45:00.000000-73.967540.771540.76-73.9851', u'4.5,Fri,18,-73.953045,40.771183,-73.949823,40.781915,1.0,2010-08-27 18:45:00.000000-73.95340.771240.7819-73.9498', u'7.3,Fri,19,-73.986163,40.777932,-73.970664,40.793813,1.0,2012-03-09 19:55:08.000000-73.986240.777940.7938-73.9707', u'8.5,Fri,19,-73.9664077759,40.8042984009,-73.9474411011,40.8100852966,3.0,2015-02-27 19:36:02.000000-73.966440.804340.8101-73.9474', u'14.5,Fri,19,-74.006386,40.740233,-73.968029,40.754712,2.0,2013-05-03 19:41:39.000000-74.006440.740240.7547-73.968', u'9.0,Fri,20,-73.9813232422,40.780128479,-73.9571304321,40.7703742981,6.0,2015-02-06 20:41:55.000000-73.981340.780140.7704-73.9571', u'31.3,Fri,20,-73.862689,40.768858,-73.980372,40.7649,1.0,2012-07-20 20:21:52.000000-73.862740.768940.7649-73.9804', u'8.1,Fri,21,-73.980915,40.765639,-73.983704,40.742243,1.0,2011-12-09 21:19:25.000000-73.980940.765640.7422-73.9837', u'13.5,Fri,21,-73.986777,40.730078,-73.984097,40.758949,2.0,2013-01-18 21:36:48.000000-73.986840.730140.7589-73.9841', u'13.3,Fri,22,-73.96878,40.764503,-74.007654,40.740176,1.0,2010-07-02 22:03:04.000000-73.968840.764540.7402-74.0077', u'7.7,Fri,23,-73.980533,40.730547,-73.99161,40.740718,6.0,2012-03-16 23:42:00.000000-73.980540.730540.7407-73.9916', u'18.5,Fri,23,-73.985847,40.72219,-73.987021,40.764336,2.0,2013-07-12 23:33:24.000000-73.985840.722240.7643-73.987', u'15.3,Fri,23,-74.004232,40.725612,-73.952842,40.78161,1.0,2012-03-16 23:42:00.000000-74.004240.725640.7816-73.9528', u'10.0,Fri,23,-73.996387,40.737181,-73.992353,40.724073,1.0,2013-11-22 23:44:34.000000-73.996440.737240.7241-73.9924', u'20.5,Fri,23,-73.980205,40.757742,-73.883982,40.748092,2.0,2012-03-16 23:42:00.000000-73.980240.757740.7481-73.884', u'10.9,Fri,23,-73.997952,40.718242,-73.984598,40.757145,3.0,2012-03-16 23:42:00.000000-73.99840.718240.7571-73.9846', u'6.1,Fri,23,-73.991158,40.760493,-74.00506,40.741253,5.0,2012-03-16 23:42:00.000000-73.991240.760540.7413-74.0051', u'6.0,Fri,23,-73.97275,40.764047,-73.957747,40.770347,1.0,2013-02-15 23:25:14.000000-73.972840.76440.7703-73.9577', u'25.5,Sat,0,-74.016328,40.704801,-73.979874,40.771136,2.0,2014-08-16 00:19:25.000000-74.016340.704840.7711-73.9799', u'26.1,Sat,1,-73.968863,40.753913,-73.885779,40.857517,1.0,2010-11-13 01:35:15.000000-73.968940.753940.8575-73.8858', u'14.5,Sat,2,-74.001083,40.741263,-73.942783,40.785962,2.0,2010-08-14 02:13:00.000000-74.001140.741340.786-73.9428', u'4.5,Sat,2,-74.004328,40.724822,-74.003543,40.725465,5.0,2010-08-14 02:13:00.000000-74.004340.724840.7255-74.0035', u'8.5,Sat,2,-73.98735,40.765782,-73.981128,40.739613,1.0,2010-02-06 02:22:13.000000-73.987440.765840.7396-73.9811', u'6.5,Sat,2,-73.89635,40.746935,-73.903035,40.770668,6.0,2010-08-14 02:13:00.000000-73.896340.746940.7707-73.903', u'6.1,Sat,2,-73.979297,40.737272,-73.98101,40.721159,1.0,2012-03-31 02:14:36.000000-73.979340.737340.7212-73.981', u'11.8,Sat,3,-73.989413,40.726145,-73.944128,40.714528,2.0,2009-03-07 03:13:38.000000-73.989440.726140.7145-73.9441', u'35.7,Sat,4,-73.982279,40.767379,-73.857726,40.884505,1.0,2010-01-16 04:52:31.000000-73.982340.767440.8845-73.8577', u'3.7,Sat,4,-73.983821,40.72559,-73.983778,40.729674,1.0,2011-01-15 04:13:38.000000-73.983840.725640.7297-73.9838', u'10.1,Sat,6,-73.946279,40.806612,-73.904002,40.831313,1.0,2011-07-30 06:50:52.000000-73.946340.806640.8313-73.904', u'12.9,Sat,8,-73.991779,40.73184,-73.987098,40.678999,1.0,2010-06-05 08:18:11.000000-73.991840.731840.679-73.9871', u'4.1,Sat,9,-73.935141,40.795925,-73.946149,40.800516,1.0,2012-06-23 09:43:42.000000-73.935140.795940.8005-73.9461', u'9.0,Sat,9,-73.9768295288,40.7627372742,-74.00050354,40.7580337524,3.0,2015-02-14 09:08:11.000000-73.976840.762740.758-74.0005', u'13.3,Sat,11,-73.992262,40.74979,-74.016865,40.70474,1.0,2012-08-04 11:03:00.000000-73.992340.749840.7047-74.0169', u'6.9,Sat,11,-74.000882,40.742115,-73.979852,40.757567,1.0,2012-08-04 11:03:00.000000-74.000940.742140.7576-73.9799', u'6.1,Sat,11,-73.98502,40.760202,-73.973915,40.764702,1.0,2012-08-04 11:03:00.000000-73.98540.760240.7647-73.9739', u'4.5,Sat,11,-73.99089,40.755925,-73.999022,40.751122,6.0,2012-08-04 11:03:00.000000-73.990940.755940.7511-73.999', u'18.9,Sat,11,-73.98792,40.69601,-73.982497,40.739792,1.0,2012-08-04 11:03:00.000000-73.987940.69640.7398-73.9825', u'4.5,Sat,11,-73.943023,40.789922,-73.950365,40.779737,1.0,2012-08-04 11:03:00.000000-73.94340.789940.7797-73.9504', u'8.5,Sat,12,-73.9903488159,40.7565383911,-73.9822692871,40.7725791931,1.0,2015-06-13 12:57:10.000000-73.990340.756540.7726-73.9823', u'10.1,Sat,12,-73.967863,40.761366,-73.918342,40.744828,1.0,2011-01-15 12:49:59.000000-73.967940.761440.7448-73.9183', u'13.0,Sat,13,-73.97615,40.739872,-74.003053,40.756222,1.0,2014-06-14 13:39:00.000000-73.976240.739940.7562-74.0031', u'11.7,Sat,13,-73.987175,40.763696,-73.998885,40.736395,2.0,2011-05-21 13:16:20.000000-73.987240.763740.7364-73.9989', u'19.5,Sat,13,-73.989383,40.776452,-73.998482,40.724833,6.0,2014-06-14 13:39:00.000000-73.989440.776540.7248-73.9985', u'7.7,Sat,13,-73.993026,40.752169,-73.993026,40.752169,1.0,2011-10-01 13:11:28.000000-73.99340.752240.7522-73.993', u'9.5,Sat,13,-73.968288,40.754701,-73.990805,40.75097,1.0,2013-05-25 13:05:33.000000-73.968340.754740.751-73.9908', u'6.9,Sat,13,-73.991916,40.73377,-74.004062,40.725743,1.0,2010-01-09 13:24:22.000000-73.991940.733840.7257-74.0041', u'5.5,Sat,13,-73.981607,40.762457,-73.985203,40.755464,1.0,2013-05-25 13:05:33.000000-73.981640.762540.7555-73.9852', u'12.0,Sat,13,-73.984217,40.75494,-73.983335,40.73035,5.0,2014-06-14 13:39:00.000000-73.984240.754940.7304-73.9833', u'10.5,Sat,13,-73.981982,40.728186,-73.968485,40.759529,1.0,2013-01-05 13:16:07.000000-73.98240.728240.7595-73.9685', u'14.83,Sat,17,-73.947416,40.745212,-73.977823,40.744823,2.0,2014-06-28 17:55:53.000000-73.947440.745240.7448-73.9778', u'11.7,Sat,17,-73.94777,40.776198,-73.978478,40.763085,1.0,2012-05-05 17:09:00.000000-73.947840.776240.7631-73.9785', u'10.0,Sat,17,-74.010493,40.713878,-74.002498,40.743815,1.0,2012-11-03 17:11:00.000000-74.010540.713940.7438-74.0025', u'4.9,Sat,17,-73.966537,40.761613,-73.965077,40.77158,1.0,2012-05-05 17:09:00.000000-73.966540.761640.7716-73.9651', u'4.0,Sat,17,-73.958962,40.763652,-73.954553,40.769898,5.0,2012-11-03 17:11:00.000000-73.95940.763740.7699-73.9546', u'10.9,Sat,17,-73.982513,40.741923,-73.982513,40.741923,1.0,2012-05-05 17:09:00.000000-73.982540.741940.7419-73.9825', u'6.5,Sat,17,-73.99068,40.741077,-73.981517,40.72917,1.0,2012-05-05 17:09:00.000000-73.990740.741140.7292-73.9815', u'6.0,Sat,17,-73.979667,40.735683,-73.973237,40.752943,4.0,2012-11-03 17:11:00.000000-73.979740.735740.7529-73.9732', u'12.0,Sat,17,-73.970565,40.75152,-73.98236,40.714697,1.0,2014-02-08 17:24:57.000000-73.970640.751540.7147-73.9824', u'9.0,Sat,17,-73.974345,40.783318,-73.95322,40.771785,2.0,2012-11-03 17:11:00.000000-73.974340.783340.7718-73.9532', u'12.1,Sat,17,-73.977267,40.747115,-73.980982,40.787693,2.0,2012-05-05 17:09:00.000000-73.977340.747140.7877-73.981', u'4.1,Sat,17,-73.981605,40.728733,-73.987482,40.719973,1.0,2012-05-05 17:09:00.000000-73.981640.728740.72-73.9875', u'4.9,Sat,17,-74.00226,40.733667,-73.994882,40.739992,4.0,2012-05-05 17:09:00.000000-74.002340.733740.74-73.9949', u'8.5,Sat,18,-73.99116,40.752437,-73.973056,40.745296,1.0,2013-03-23 18:15:29.000000-73.991240.752440.7453-73.9731', u'3.7,Sat,18,-73.954842,40.777585,-73.952809,40.785813,1.0,2010-01-02 18:24:27.000000-73.954840.777640.7858-73.9528', u'5.3,Sat,18,-74.006575,40.73248,-73.999935,40.728663,2.0,2010-01-23 18:47:47.000000-74.006640.732540.7287-73.9999', u'6.5,Sat,18,-73.987472,40.739034,-74.002013,40.735085,1.0,2010-01-30 18:58:33.000000-73.987540.73940.7351-74.002', u'5.5,Sat,19,-73.981843,40.774725,-73.976302,40.787392,1.0,2014-04-26 19:48:35.000000-73.981840.774740.7874-73.9763', u'6.5,Sat,19,-73.985248,40.72436,-74.001105,40.72773,2.0,2012-10-06 19:33:11.000000-73.985240.724440.7277-74.0011', u'12.5,Sat,19,-73.984177,40.737702,-73.982933,40.77183,1.0,2013-10-05 19:51:04.000000-73.984240.737740.7718-73.9829', u'5.7,Sat,20,-74.002127,40.737558,-74.003685,40.725383,5.0,2010-01-30 20:54:00.000000-74.002140.737640.7254-74.0037', u'13.3,Sat,20,-74.005732,40.740302,-73.973558,40.795455,1.0,2010-01-30 20:54:00.000000-74.005740.740340.7955-73.9736', u'6.1,Sat,20,-74.007867,40.714788,-73.987398,40.720033,1.0,2010-01-30 20:54:00.000000-74.007940.714840.72-73.9874', u'4.5,Sat,20,-73.989452,40.758681,-73.986072,40.753921,2.0,2012-03-17 20:18:36.000000-73.989540.758740.7539-73.9861', u'6.5,Sat,20,-73.98469,40.760711,-73.970737,40.75506,1.0,2009-01-10 20:15:51.000000-73.984740.760740.7551-73.9707', u'6.9,Sat,20,-73.999392,40.733525,-73.992028,40.718178,1.0,2010-01-30 20:54:00.000000-73.999440.733540.7182-73.992', u'8.5,Sat,20,-73.948538,40.782444,-73.979964,40.777006,1.0,2009-05-02 20:11:32.000000-73.948540.782440.777-73.98', u'3.7,Sat,20,-73.990595,40.752157,-73.991952,40.755217,2.0,2010-01-30 20:54:00.000000-73.990640.752240.7552-73.992', u'4.5,Sat,20,-73.974039,40.759771,-73.968729,40.7644,1.0,2012-12-08 20:08:38.000000-73.97440.759840.7644-73.9687', u'3.7,Sat,20,-73.987835,40.756688,-73.983288,40.755903,5.0,2010-01-30 20:54:00.000000-73.987840.756740.7559-73.9833', u'34.5,Sat,20,-74.0029907227,40.7491607666,-74.0202102661,40.642539978,1.0,2015-04-11 20:31:32.000000-74.00340.749240.6425-74.0202', u'10.5,Sat,23,-73.987893,40.738286,-73.981487,40.714691,3.0,2010-12-11 23:25:35.000000-73.987940.738340.7147-73.9815', u'6.0,Sat,23,-73.965704,40.762724,-73.963716,40.774188,1.0,2012-11-03 23:49:17.000000-73.965740.762740.7742-73.9637', u'5.3,Sun,0,-73.959593,40.801067,-73.946767,40.811043,5.0,2009-05-31 00:48:00.000000-73.959640.801140.811-73.9468', u'12.2,Sun,0,-74.00503,40.719918,-73.973754,40.754889,1.0,2009-03-01 00:54:31.000000-74.00540.719940.7549-73.9738', u'6.0,Sun,0,-73.998958,40.719934,-73.987498,40.719928,2.0,2013-08-18 00:32:15.000000-73.99940.719940.7199-73.9875', u'7.0,Sun,1,-73.981693,40.741037,-73.96964,40.761013,4.0,2014-03-09 01:41:21.000000-73.981740.74140.761-73.9696', u'10.5,Sun,2,-73.989447,40.720552,-73.970207,40.753252,1.0,2014-04-27 02:57:00.000000-73.989440.720640.7533-73.9702', u'13.5,Sun,2,-74.001363,40.722443,-73.960076,40.715734,3.0,2012-09-30 02:33:25.000000-74.001440.722440.7157-73.9601', u'14.1,Sun,2,-73.987222,40.729255,-73.953765,40.731725,1.0,2009-12-06 02:12:00.000000-73.987240.729340.7317-73.9538', u'7.0,Sun,2,-73.93374,40.669042,-73.949233,40.677637,1.0,2014-04-27 02:57:00.000000-73.933740.66940.6776-73.9492', u'12.0,Sun,2,-73.97567,40.744625,-74.00144,40.709927,1.0,2014-04-27 02:57:00.000000-73.975740.744640.7099-74.0014', u'5.3,Sun,2,-73.98277,40.744663,-73.998928,40.749752,1.0,2009-12-06 02:12:00.000000-73.982840.744740.7498-73.9989', u'26.9,Sun,2,-73.997117,40.74465,-73.906887,40.682258,1.0,2009-12-06 02:12:00.000000-73.997140.744740.6823-73.9069', u'4.9,Sun,2,-73.996618,40.740563,-73.984942,40.751947,1.0,2009-12-06 02:12:00.000000-73.996640.740640.7519-73.9849', u'6.0,Sun,2,-74.00592,40.735217,-74.010062,40.733072,1.0,2014-04-27 02:57:00.000000-74.005940.735240.7331-74.0101', u'11.5,Sun,3,-73.997142,40.76293,-73.984088,40.743283,1.0,2013-10-06 03:58:28.000000-73.997140.762940.7433-73.9841', u'10.9,Sun,4,-73.989992,40.729338,-73.952912,40.774243,1.0,2012-01-22 04:13:34.000000-73.9940.729340.7742-73.9529', u'26.9,Sun,6,-73.917787,40.743309,-73.920327,40.865696,1.0,2011-02-20 06:18:34.000000-73.917840.743340.8657-73.9203', u'19.0,Sun,7,-73.981227,40.763112,-74.01441,40.704587,5.0,2014-06-15 07:06:00.000000-73.981240.763140.7046-74.0144', u'57.33,Sun,7,-74.014498,40.703253,-73.782393,40.644154,4.0,2014-06-15 07:06:00.000000-74.014540.703340.6442-73.7824', u'17.0,Sun,9,-73.982208252,40.7770996094,-73.9872207642,40.7290916443,1.0,2015-02-22 09:48:32.000000-73.982240.777140.7291-73.9872', u'29.3,Sun,12,-73.872957,40.774185,-73.97375,40.761712,1.0,2011-11-13 12:22:00.000000-73.87340.774240.7617-73.9737', u'7.0,Sun,12,-73.98268,40.76271,-73.96824,40.75943,1.0,2012-09-16 12:48:06.000000-73.982740.762740.7594-73.9682', u'7.5,Sun,12,-73.982643,40.739439,-73.968205,40.756258,1.0,2013-12-29 12:31:55.000000-73.982640.739440.7563-73.9682', u'4.1,Sun,12,-73.951738,40.773718,-73.947363,40.77521,1.0,2011-11-13 12:22:00.000000-73.951740.773740.7752-73.9474', u'7.3,Sun,12,-73.993082,40.743903,-73.992098,40.725605,2.0,2011-11-13 12:22:00.000000-73.993140.743940.7256-73.9921', u'8.1,Sun,12,-74.005367,40.72052,-73.985078,40.751973,1.0,2011-11-13 12:22:00.000000-74.005440.720540.752-73.9851', u'7.0,Sun,13,-73.96982,40.758318,-73.9537,40.769725,1.0,2013-04-21 13:04:33.000000-73.969840.758340.7697-73.9537', u'4.1,Sun,13,-73.9591,40.7833,-73.9641,40.7734,2.0,2011-09-25 13:01:20.000000-73.959140.783340.7734-73.9641', u'7.7,Sun,14,-73.987242,40.75559,-73.99306,40.74252,2.0,2011-06-26 14:57:00.000000-73.987240.755640.7425-73.9931', u'4.5,Sun,14,-73.971183,40.751134,-73.977082,40.754419,1.0,2013-06-23 14:52:34.000000-73.971240.751140.7544-73.9771', u'10.1,Sun,14,-73.949087,40.773324,-73.970863,40.748391,3.0,2011-12-11 14:50:36.000000-73.949140.773340.7484-73.9709', u'7.3,Sun,14,-73.98712,40.776343,-74.006348,40.749653,1.0,2011-06-26 14:57:00.000000-73.987140.776340.7497-74.0063', u'3.3,Sun,16,-74.006746,40.731721,-74.010204,40.732318,1.0,2012-07-15 16:45:04.000000-74.006740.731740.7323-74.0102', u'4.5,Sun,16,-73.984466,40.780043,-73.9781,40.791561,1.0,2011-10-30 16:52:26.000000-73.984540.7840.7916-73.9781', u'12.1,Sun,18,-73.971689,40.765986,-74.001788,40.725037,2.0,2009-10-18 18:39:59.000000-73.971740.76640.725-74.0018', u'6.5,Sun,18,-73.992774,40.75405,-73.994875,40.764322,1.0,2013-07-07 18:12:19.000000-73.992840.75440.7643-73.9949', u'5.3,Sun,19,-73.990149,40.741891,-73.986437,40.750886,3.0,2012-08-05 19:52:45.000000-73.990140.741940.7509-73.9864', u'18.5,Sun,19,-73.982388,40.777095,-73.991307,40.72338,1.0,2012-01-15 19:40:07.000000-73.982440.777140.7234-73.9913', u'9.3,Sun,19,-74.005762,40.726315,-73.992275,40.700168,2.0,2009-05-17 19:30:00.000000-74.005840.726340.7002-73.9923', u'5.3,Sun,19,-73.979798,40.743338,-73.990977,40.751208,1.0,2009-05-17 19:30:00.000000-73.979840.743340.7512-73.991', u'11.8,Sun,20,-73.991563,40.759682,-73.952642,40.780725,1.0,2009-03-22 20:58:33.000000-73.991640.759740.7807-73.9526', u'7.0,Sun,20,-73.978247,40.762845,-73.959911,40.771154,1.0,2013-04-28 20:00:05.000000-73.978240.762840.7712-73.9599', u'38.7,Sun,20,-73.978313,40.763413,-73.97236,40.606701,1.0,2009-05-31 20:56:38.000000-73.978340.763440.6067-73.9724', u'27.0,Sun,20,-73.957397,40.777079,-73.94121,40.711896,2.0,2014-02-23 20:55:01.000000-73.957440.777140.7119-73.9412', u'7.3,Sun,20,-73.970309,40.765579,-73.979286,40.74206,1.0,2009-05-31 20:56:38.000000-73.970340.765640.7421-73.9793', u'11.8,Sun,21,-73.984592,40.724803,-73.973428,40.763722,3.0,2009-01-25 21:17:18.000000-73.984640.724840.7637-73.9734', u'6.9,Sun,21,-73.98194,40.764835,-73.968038,40.75565,1.0,2011-03-06 21:01:00.000000-73.981940.764840.7557-73.968', u'4.9,Sun,21,-73.973685,40.757227,-73.984588,40.760627,1.0,2011-03-06 21:01:00.000000-73.973740.757240.7606-73.9846', u'5.3,Sun,21,-73.993658,40.741872,-74.002418,40.751833,1.0,2011-03-06 21:01:00.000000-73.993740.741940.7518-74.0024', u'3.7,Sun,21,-73.95174,40.770192,-73.949445,40.773553,1.0,2011-03-06 21:01:00.000000-73.951740.770240.7736-73.9494', u'4.5,Sun,21,-73.991793,40.74497,-73.993512,40.754702,2.0,2011-03-06 21:01:00.000000-73.991840.74540.7547-73.9935', u'4.5,Sun,21,-73.979548,40.77622,-73.987182,40.776027,1.0,2011-03-06 21:01:00.000000-73.979540.776240.776-73.9872', u'16.9,Sun,21,-73.957743,40.71455,-73.908245,40.774447,5.0,2011-03-06 21:01:00.000000-73.957740.714640.7744-73.9082', u'7.7,Sun,22,-73.981542,40.74152,-74.006073,40.743882,1.0,2009-09-13 22:23:00.000000-73.981540.741540.7439-74.0061', u'6.1,Sun,22,-73.994128,40.751488,-73.988087,40.768917,5.0,2009-09-13 22:23:00.000000-73.994140.751540.7689-73.9881', u'7.7,Sun,22,-73.987228,40.736302,-73.987248,40.756,1.0,2009-09-20 22:17:00.000000-73.987240.736340.756-73.9872', u'7.7,Sun,22,-73.977593,40.77929,-73.968885,40.7614,1.0,2009-09-20 22:17:00.000000-73.977640.779340.7614-73.9689', u'8.9,Sun,22,-74.0043,40.742508,-73.974225,40.76129,4.0,2009-09-13 22:23:00.000000-74.004340.742540.7613-73.9742', u'6.9,Sun,22,-73.995505,40.739317,-73.976302,40.762505,3.0,2009-09-20 22:17:00.000000-73.995540.739340.7625-73.9763', u'8.9,Sun,23,-73.99373,40.751847,-73.973348,40.78488,5.0,2011-10-02 23:36:00.000000-73.993740.751840.7849-73.9733', u'7.3,Sun,23,-73.988043,40.759873,-73.973568,40.789705,1.0,2011-10-02 23:36:00.000000-73.98840.759940.7897-73.9736', u'10.5,Sun,23,-73.962226,40.713187,-73.986744,40.71589,2.0,2012-10-07 23:40:14.000000-73.962240.713240.7159-73.9867', u'7.0,Sun,23,-73.953575,40.790857,-73.96873,40.801384,1.0,2013-03-17 23:47:50.000000-73.953640.790940.8014-73.9687', u'7.3,Sun,23,-73.956635,40.78917,-73.967977,40.784962,2.0,2011-10-02 23:36:00.000000-73.956640.789240.785-73.968', u'38.5,Mon,0,-73.958912,40.768142,-73.756268,40.750515,1.0,2014-06-23 00:16:00.000000-73.958940.768140.7505-73.7563', u'4.0,Mon,1,-73.9854202271,40.7324943542,-73.9855728149,40.7276687622,3.0,2015-06-15 01:00:06.000000-73.985440.732540.7277-73.9856', u'3.7,Mon,2,-73.982215,40.775368,-73.986382,40.769792,2.0,2009-09-14 02:19:00.000000-73.982240.775440.7698-73.9864', u'24.9,Mon,5,-73.983251,40.768825,-73.861828,40.768399,1.0,2009-11-23 05:45:11.000000-73.983340.768840.7684-73.8618', u'5.5,Mon,5,-73.984142,40.760322,-73.991692,40.749827,1.0,2013-01-21 05:32:00.000000-73.984140.760340.7498-73.9917', u'4.0,Mon,7,-73.980239,40.748445,-73.97459,40.756627,1.0,2014-07-28 07:24:12.000000-73.980240.748440.7566-73.9746', u'5.5,Mon,8,-74.006303,40.749831,-74.006222,40.74221,2.0,2013-10-07 08:53:39.000000-74.006340.749840.7422-74.0062', u'6.5,Mon,8,-73.982377,40.768339,-73.966252,40.770562,1.0,2010-05-03 08:36:41.000000-73.982440.768340.7706-73.9663', u'8.9,Mon,8,-74.006098,40.735703,-73.979595,40.761084,1.0,2011-02-07 08:18:35.000000-74.006140.735740.7611-73.9796', u'4.1,Mon,8,-73.996535,40.716279,-73.993749,40.71475,1.0,2012-08-06 08:58:08.000000-73.996540.716340.7148-73.9937', u'11.3,Mon,9,-73.947028,40.772148,-73.982765,40.762242,1.0,2011-12-12 09:18:00.000000-73.94740.772140.7622-73.9828', u'9.3,Mon,9,-73.965113,40.772513,-73.969598,40.746625,1.0,2011-12-12 09:18:00.000000-73.965140.772540.7466-73.9696', u'13.3,Mon,9,-73.96411,40.763902,-73.951857,40.748178,1.0,2011-12-12 09:18:00.000000-73.964140.763940.7482-73.9519', u'22.1,Mon,9,-73.961655,40.75642,-73.942382,40.842267,1.0,2011-12-12 09:18:00.000000-73.961740.756440.8423-73.9424', u'38.5,Mon,9,-73.976105,40.750922,-73.996845,40.716597,1.0,2011-12-12 09:18:00.000000-73.976140.750940.7166-73.9968', u'20.9,Mon,9,-73.98254,40.692103,-73.958553,40.75956,5.0,2011-12-12 09:18:00.000000-73.982540.692140.7596-73.9586', u'4.9,Mon,10,-73.97477,40.761904,-73.981119,40.750711,1.0,2009-06-01 10:56:33.000000-73.974840.761940.7507-73.9811', u'6.5,Mon,11,-73.975682,40.744754,-73.974983,40.751939,1.0,2014-06-09 11:18:25.000000-73.975740.744840.7519-73.975', u'8.5,Mon,11,-73.9873886108,40.7291297913,-73.990196228,40.7145462036,1.0,2015-04-06 11:37:40.000000-73.987440.729140.7145-73.9902', u'11.0,Mon,11,-73.991178,40.74973,-73.971167,40.755538,1.0,2013-10-07 11:27:56.000000-73.991240.749740.7555-73.9712', u'5.3,Mon,12,-73.966329,40.789892,-73.966541,40.794367,2.0,2010-01-11 12:38:33.000000-73.966340.789940.7944-73.9665', u'5.0,Mon,13,-73.981300354,40.7589645386,-73.9886856079,40.7526016235,1.0,2015-02-23 13:33:01.000000-73.981340.75940.7526-73.9887', u'8.1,Mon,14,-73.985368,40.763675,-74.002087,40.740521,1.0,2011-11-28 14:13:37.000000-73.985440.763740.7405-74.0021', u'7.5,Mon,14,-73.974422,40.753992,-73.984338,40.757762,1.0,2014-10-27 14:58:00.000000-73.974440.75440.7578-73.9843', u'12.0,Mon,14,-73.967297,40.793355,-73.976132,40.763292,1.0,2014-10-27 14:58:00.000000-73.967340.793440.7633-73.9761', u'15.5,Mon,14,-73.955635,40.779847,-73.981487,40.76597,1.0,2014-10-27 14:58:00.000000-73.955640.779840.766-73.9815', u'34.83,Mon,14,-73.972485,40.755747,-73.872172,40.774277,6.0,2014-10-27 14:58:00.000000-73.972540.755740.7743-73.8722', u'10.5,Mon,15,-73.9521636963,40.7871818542,-73.9686508179,40.7648086548,2.0,2015-01-12 15:36:37.000000-73.952240.787240.7648-73.9687', u'12.5,Mon,15,-74.009114,40.70404,-73.995985,40.690796,1.0,2013-11-18 15:07:28.000000-74.009140.70440.6908-73.996', u'4.0,Mon,15,-73.955973,40.776577,-73.961538,40.776297,1.0,2013-03-25 15:17:33.000000-73.95640.776640.7763-73.9615', u'45.0,Mon,16,-73.781762,40.644798,-73.988767,40.722108,3.0,2010-09-20 16:48:00.000000-73.781840.644840.7221-73.9888', u'37.47,Mon,16,-73.973722,40.743592,-73.960035,40.628395,1.0,2010-09-20 16:48:00.000000-73.973740.743640.6284-73.96', u'3.7,Mon,16,-73.991588,40.750277,-73.985743,40.753118,1.0,2010-09-20 16:48:00.000000-73.991640.750340.7531-73.9857', u'5.7,Mon,16,-73.98428,40.757195,-74.006013,40.739487,2.0,2010-09-20 16:48:00.000000-73.984340.757240.7395-74.006', u'5.7,Mon,17,-73.994383,40.755963,-73.980153,40.753875,1.0,2009-11-02 17:00:22.000000-73.994440.75640.7539-73.9802', u'6.5,Mon,17,-73.999864,40.725346,-74.008019,40.73405,1.0,2013-01-07 17:08:32.000000-73.999940.725340.7341-74.008', u'8.0,Mon,18,-73.9706878662,40.758102417,-73.9853973389,40.7385940552,1.0,2015-05-04 18:50:57.000000-73.970740.758140.7386-73.9854', u'5.7,Mon,18,-73.976061,40.759908,-73.985951,40.758153,1.0,2010-11-15 18:15:14.000000-73.976140.759940.7582-73.986', u'36.0,Mon,18,-73.79024,40.64379,-73.86766,40.767892,1.0,2014-07-21 18:19:00.000000-73.790240.643840.7679-73.8677', u'17.5,Mon,18,-73.962478,40.799801,-73.987563,40.757268,1.0,2014-06-09 18:26:10.000000-73.962540.799840.7573-73.9876', u'6.5,Mon,18,-73.98917,40.758495,-73.991323,40.750047,1.0,2014-07-21 18:19:00.000000-73.989240.758540.75-73.9913', u'5.0,Mon,18,-74.008877,40.713767,-74.012345,40.707737,5.0,2014-07-21 18:19:00.000000-74.008940.713840.7077-74.0123', u'7.0,Mon,19,-73.963913,40.710527,-73.944095,40.713218,3.0,2012-11-26 19:35:58.000000-73.963940.710540.7132-73.9441', u'10.1,Mon,19,-73.956194,40.770402,-73.992929,40.752332,1.0,2010-07-05 19:21:35.000000-73.956240.770440.7523-73.9929', u'8.1,Mon,20,-73.967018,40.763734,-73.993206,40.75744,1.0,2009-06-15 20:42:07.000000-73.96740.763740.7574-73.9932', u'9.3,Mon,20,-73.98559,40.762899,-73.971756,40.794811,1.0,2009-06-15 20:42:07.000000-73.985640.762940.7948-73.9718', u'12.9,Mon,20,-73.995982,40.744086,-73.96801,40.790608,2.0,2011-07-11 20:43:33.000000-73.99640.744140.7906-73.968', u'10.0,Mon,21,-73.974373,40.76237,-74.004284,40.742347,1.0,2014-07-28 21:44:21.000000-73.974440.762440.7423-74.0043', u'6.5,Mon,21,-73.97694,40.754702,-73.99893,40.761066,1.0,2009-11-16 21:03:31.000000-73.976940.754740.7611-73.9989', u'34.33,Mon,21,-73.870893,40.77367,-73.933922,40.856335,1.0,2013-09-16 21:08:45.000000-73.870940.773740.8563-73.9339', u'7.5,Mon,22,-73.98664,40.751435,-73.982872,40.767,1.0,2014-01-13 22:00:00.000000-73.986640.751440.767-73.9829', u'5.0,Mon,22,-73.979117,40.771842,-73.964442,40.768062,2.0,2014-01-13 22:00:00.000000-73.979140.771840.7681-73.9644', u'57.33,Mon,22,-73.784685,40.648617,-73.975245,40.765222,1.0,2014-01-13 22:00:00.000000-73.784740.648640.7652-73.9752', u'4.5,Mon,22,-74.012933,40.701967,-74.010787,40.711367,3.0,2014-01-13 22:00:00.000000-74.012940.70240.7114-74.0108', u'9.5,Mon,22,-73.973718,40.764965,-73.98861,40.742892,3.0,2014-01-13 22:00:00.000000-73.973740.76540.7429-73.9886', u'8.5,Mon,22,-73.991892,40.726132,-73.992268,40.755837,5.0,2014-01-13 22:00:00.000000-73.991940.726140.7558-73.9923', u'4.0,Mon,22,-73.981382,40.749662,-73.98928,40.7464,1.0,2014-01-13 22:00:00.000000-73.981440.749740.7464-73.9893', u'37.5,Mon,22,-73.798187,40.645045,-73.960478,40.659115,1.0,2014-01-13 22:00:00.000000-73.798240.64540.6591-73.9605', u'11.5,Mon,22,-73.997232,40.721465,-73.943228,40.717872,1.0,2014-01-13 22:00:00.000000-73.997240.721540.7179-73.9432', u'57.33,Mon,22,-73.776765,40.645555,-73.990455,40.74385,1.0,2014-01-13 22:00:00.000000-73.776840.645640.7439-73.9905', u'11.0,Mon,22,-73.980565,40.76493,-73.979108,40.740382,1.0,2014-01-13 22:00:00.000000-73.980640.764940.7404-73.9791', u'6.1,Mon,22,-73.983945,40.729266,-73.967501,40.752352,1.0,2012-04-02 22:28:36.000000-73.983940.729340.7524-73.9675', u'8.0,Mon,22,-73.991935,40.742419,-73.986608,40.755448,1.0,2013-02-18 22:25:17.000000-73.991940.742440.7554-73.9866', u'6.5,Mon,22,-73.97337,40.755847,-73.985152,40.739045,6.0,2014-01-13 22:00:00.000000-73.973440.755840.739-73.9852', u'22.54,Tue,0,-74.0127563477,40.704158783,-73.9817428589,40.6708183289,1.0,2015-04-28 00:15:27.000000-74.012840.704240.6708-73.9817', u'39.5,Tue,1,-73.988966,40.758374,-73.960686,40.605007,1.0,2014-06-10 01:06:25.000000-73.98940.758440.605-73.9607', u'10.1,Tue,2,-73.986002,40.722779,-73.940196,40.708064,1.0,2011-02-15 02:43:33.000000-73.98640.722840.7081-73.9402', u'49.8,Tue,5,-73.954344,40.778168,-73.786721,40.639993,1.0,2011-02-15 05:44:42.000000-73.954340.778240.64-73.7867', u'9.5,Tue,6,-73.966148,40.764702,-73.96695,40.790199,1.0,2012-12-04 06:52:02.000000-73.966140.764740.7902-73.9669', u'34.3,Tue,6,-73.919063,40.743445,-73.872591,40.774337,2.0,2012-11-20 06:53:30.000000-73.919140.743440.7743-73.8726', u'5.0,Tue,7,-74.009211,40.706984,-74.017686,40.706079,1.0,2013-06-18 07:41:49.000000-74.009240.70740.7061-74.0177', u'9.3,Tue,7,-73.955773,40.782233,-73.980445,40.745447,1.0,2009-01-06 07:36:34.000000-73.955840.782240.7454-73.9804', u'5.3,Tue,7,-73.988717,40.693563,-73.977911,40.690341,1.0,2010-04-20 07:32:21.000000-73.988740.693640.6903-73.9779', u'7.5,Tue,7,-73.959452,40.767883,-73.973972,40.755859,1.0,2013-01-08 07:03:07.000000-73.959540.767940.7559-73.974', u'4.0,Tue,8,-73.982722,40.745537,-73.975418,40.741337,1.0,2014-05-20 08:54:00.000000-73.982740.745540.7413-73.9754', u'14.0,Tue,8,-73.96466,40.773112,-73.975072,40.747687,5.0,2014-05-20 08:54:00.000000-73.964740.773140.7477-73.9751', u'6.9,Tue,8,-73.991084,40.71746,-73.975323,40.741223,1.0,2009-11-24 08:58:48.000000-73.991140.717540.7412-73.9753', u'9.0,Tue,8,-73.962313,40.776232,-73.97205,40.762277,1.0,2014-05-20 08:54:00.000000-73.962340.776240.7623-73.972', u'11.5,Tue,8,-73.971677,40.750592,-73.990658,40.748745,1.0,2014-05-20 08:54:00.000000-73.971740.750640.7487-73.9907', u'6.0,Tue,8,-73.982242,40.752062,-73.974573,40.753535,1.0,2014-05-20 08:54:00.000000-73.982240.752140.7535-73.9746', u'16.0,Tue,8,-73.971645,40.78717,-73.970105,40.75949,2.0,2014-05-20 08:54:00.000000-73.971640.787240.7595-73.9701', u'4.5,Tue,8,-73.983965,40.758577,-73.989654,40.751461,1.0,2013-10-15 08:16:21.000000-73.98440.758640.7515-73.9897', u'14.5,Tue,10,-73.987873,40.748372,-73.97055,40.761878,5.0,2010-09-07 10:05:00.000000-73.987940.748440.7619-73.9706', u'20.1,Tue,10,-73.992078,40.7343,-73.994092,40.73013,1.0,2010-09-07 10:05:00.000000-73.992140.734340.7301-73.9941', u'9.3,Tue,10,-73.99995,40.73297,-74.006805,40.733005,1.0,2010-09-07 10:05:00.000000-73.999940.73340.733-74.0068', u'9.3,Tue,10,-73.786038,40.641968,-73.959477,40.763662,2.0,2010-09-07 10:05:00.000000-73.78640.64240.7637-73.9595', u'7.7,Tue,10,-73.987082,40.775923,-73.982072,40.76765,1.0,2010-09-07 10:05:00.000000-73.987140.775940.7677-73.9821', u'4.1,Tue,10,-73.975527,40.760658,-73.978935,40.762805,1.0,2010-09-07 10:05:00.000000-73.975540.760740.7628-73.9789', u'10.0,Tue,11,-73.969382,40.762599,-73.958715,40.774962,1.0,2014-06-10 11:21:37.000000-73.969440.762640.775-73.9587', u'11.7,Tue,11,-73.948799,40.782078,-73.976555,40.750147,1.0,2011-10-04 11:48:35.000000-73.948840.782140.7501-73.9766', u'8.5,Tue,12,-73.974731,40.761716,-73.991984,40.742455,1.0,2013-08-20 12:05:47.000000-73.974740.761740.7425-73.992', u'13.3,Tue,12,-73.973795,40.763098,-73.989727,40.741391,1.0,2010-03-16 12:20:57.000000-73.973840.763140.7414-73.9897', u'28.1,Tue,12,-73.991164,40.755304,-73.861378,40.768177,1.0,2012-04-03 12:26:14.000000-73.991240.755340.7682-73.8614', u'16.5,Tue,12,-74.0010299683,40.7578659058,-73.9902648926,40.723400116,1.0,2015-05-05 12:32:14.000000-74.00140.757940.7234-73.9903', u'17.0,Tue,13,-73.955642,40.78487,-73.989937,40.769867,1.0,2014-12-09 13:43:00.000000-73.955640.784940.7699-73.9899', u'7.0,Tue,13,-73.990012,40.744172,-73.984882,40.743412,1.0,2014-12-09 13:43:00.000000-73.9940.744240.7434-73.9849', u'17.5,Tue,13,-73.99127,40.749605,-73.97477,40.753862,1.0,2014-12-09 13:43:00.000000-73.991340.749640.7539-73.9748', u'7.0,Tue,13,-73.97316,40.763865,-73.980373,40.753213,1.0,2014-08-12 13:42:03.000000-73.973240.763940.7532-73.9804', u'8.0,Tue,13,-73.962807,40.770786,-73.973362,40.758359,1.0,2013-11-05 13:38:40.000000-73.962840.770840.7584-73.9734', u'7.5,Tue,14,-73.9810943604,40.7599983215,-73.9858627319,40.7722015381,5.0,2015-04-07 14:31:12.000000-73.981140.7640.7722-73.9859', u'5.3,Tue,15,-73.967176,40.756861,-73.965682,40.768239,1.0,2009-11-10 15:56:38.000000-73.967240.756940.7682-73.9657', u'17.0,Tue,15,-73.948755,40.808449,-73.98132,40.772625,1.0,2014-07-01 15:15:23.000000-73.948840.808440.7726-73.9813', u'32.0,Tue,15,-73.940042,40.841253,-73.98044,40.744197,1.0,2012-09-04 15:33:13.000000-73.9440.841340.7442-73.9804', u'3.7,Tue,16,-73.979243,40.766455,-73.981328,40.768973,1.0,2010-05-11 16:31:00.000000-73.979240.766540.769-73.9813', u'24.5,Tue,16,-74.001402,40.72933,-74.000998,40.730965,2.0,2010-05-11 16:31:00.000000-74.001440.729340.731-74.001', u'8.5,Tue,16,-73.974045,40.754965,-73.991421,40.749172,1.0,2014-04-08 16:58:41.000000-73.97440.75540.7492-73.9914', u'6.5,Tue,16,-73.99863,40.734552,-73.985805,40.756125,1.0,2010-05-11 16:31:00.000000-73.998640.734640.7561-73.9858', u'4.0,Tue,16,-73.9814910889,40.7737312317,-73.9865264893,40.7667007446,1.0,2015-04-14 16:41:33.000000-73.981540.773740.7667-73.9865', u'10.9,Tue,16,-74.002953,40.720813,-74.011647,40.703852,1.0,2010-05-11 16:31:00.000000-74.00340.720840.7039-74.0116', u'4.9,Tue,16,-73.971883,40.758903,-73.980252,40.745317,1.0,2010-05-11 16:31:00.000000-73.971940.758940.7453-73.9803', u'22.0,Tue,17,-73.968736,40.76167,-74.006793,40.706503,2.0,2013-04-09 17:42:23.000000-73.968740.761740.7065-74.0068', u'6.5,Tue,18,-73.953694,40.767213,-73.954364,40.779024,1.0,2014-07-01 18:40:16.000000-73.953740.767240.779-73.9544', u'4.5,Tue,19,-73.990645,40.730657,-73.979486,40.728362,1.0,2010-09-21 19:01:21.000000-73.990640.730740.7284-73.9795', u'7.1,Tue,19,-73.981029,40.754121,-73.973865,40.763873,1.0,2009-03-10 19:51:34.000000-73.98140.754140.7639-73.9739', u'21.0,Tue,19,-74.009991,40.711649,-73.987276,40.757431,1.0,2014-06-17 19:06:11.000000-74.0140.711640.7574-73.9873', u'11.5,Tue,20,-73.981834,40.763081,-74.001562,40.726255,1.0,2013-03-12 20:09:43.000000-73.981840.763140.7263-74.0016', u'9.3,Tue,20,-73.978208,40.741646,-73.986874,40.715952,2.0,2010-12-28 20:17:27.000000-73.978240.741640.716-73.9869', u'6.9,Tue,20,-74.002844,40.718698,-73.983584,40.726718,1.0,2012-02-21 20:45:03.000000-74.002840.718740.7267-73.9836', u'6.0,Tue,20,-73.9507293701,40.779296875,-73.9630355835,40.7720985413,1.0,2015-02-10 20:40:30.000000-73.950740.779340.7721-73.963', u'11.5,Tue,21,-73.979855,40.753782,-73.998293,40.761002,1.0,2012-11-20 21:54:00.000000-73.979940.753840.761-73.9983', u'9.5,Tue,21,-73.983957,40.765407,-73.974102,40.78889,1.0,2012-11-20 21:54:00.000000-73.98440.765440.7889-73.9741', u'18.5,Tue,21,-73.997828,40.735959,-73.977289,40.78792,1.0,2013-11-19 21:48:47.000000-73.997840.73640.7879-73.9773', u'29.5,Tue,21,-73.974628,40.680527,-73.982352,40.76525,1.0,2012-11-20 21:54:00.000000-73.974640.680540.7653-73.9824', u'14.0,Tue,21,-73.990542,40.730542,-73.954387,40.709377,1.0,2012-11-20 21:54:00.000000-73.990540.730540.7094-73.9544', u'9.0,Tue,21,-73.984497,40.768995,-73.967098,40.75722,1.0,2013-09-24 21:16:40.000000-73.984540.76940.7572-73.9671', u'49.0,Tue,21,-73.985058,40.749912,-74.039765,40.630427,1.0,2012-11-20 21:54:00.000000-73.985140.749940.6304-74.0398', u'8.0,Tue,21,-73.96285,40.768768,-73.95605,40.766858,1.0,2012-11-20 21:54:00.000000-73.962940.768840.7669-73.9561', u'5.3,Tue,22,-73.9929,40.748283,-74.007323,40.741163,6.0,2011-12-13 22:00:00.000000-73.992940.748340.7412-74.0073', u'28.1,Tue,22,-73.862705,40.768875,-73.992017,40.754247,1.0,2011-12-13 22:00:00.000000-73.862740.768940.7542-73.992', u'8.5,Tue,22,-73.980748,40.765138,-73.970327,40.749692,1.0,2011-12-13 22:00:00.000000-73.980740.765140.7497-73.9703', u'10.5,Tue,22,-73.973827,40.588395,-73.973012,40.592532,1.0,2011-12-13 22:00:00.000000-73.973840.588440.5925-73.973', u'3.3,Tue,22,-73.962917,40.775317,-73.959623,40.779757,1.0,2011-12-13 22:00:00.000000-73.962940.775340.7798-73.9596', u'6.5,Tue,22,-73.982868,40.733087,-73.975833,40.724042,1.0,2009-10-27 22:38:23.000000-73.982940.733140.724-73.9758', u'8.5,Tue,22,-73.970577,40.68599,-73.987943,40.6947,1.0,2011-12-13 22:00:00.000000-73.970640.68640.6947-73.9879', u'16.5,Tue,23,-74.002865,40.728167,-73.951807,40.731685,5.0,2014-03-25 23:47:00.000000-74.002940.728240.7317-73.9518', u'8.0,Tue,23,-73.986417,40.756015,-73.979167,40.73716,1.0,2014-03-25 23:47:00.000000-73.986440.75640.7372-73.9792', u'5.7,Wed,0,-74.009402,40.725943,-74.005371,40.715429,1.0,2010-12-15 00:03:25.000000-74.009440.725940.7154-74.0054', u'12.9,Wed,2,-73.953508,40.775422,-73.908705,40.767697,1.0,2012-04-11 02:49:00.000000-73.953540.775440.7677-73.9087', u'4.9,Wed,2,-73.990378,40.746552,-74.00186,40.751285,1.0,2012-04-11 02:49:00.000000-73.990440.746640.7513-74.0019', u'14.5,Wed,3,-73.947737,40.69257,-73.897222,40.693147,1.0,2014-12-24 03:00:00.000000-73.947740.692640.6931-73.8972', u'19.47,Wed,6,-73.917844,40.771447,-73.945336,40.828262,1.0,2009-10-07 06:39:37.000000-73.917840.771440.8283-73.9453', u'11.0,Wed,6,-73.958118,40.768641,-73.949887,40.749415,1.0,2013-07-10 06:29:51.000000-73.958140.768640.7494-73.9499', u'6.1,Wed,7,-73.973938,40.778915,-73.95756,40.779592,3.0,2011-06-01 07:37:00.000000-73.973940.778940.7796-73.9576', u'4.9,Wed,7,-73.990518,40.756197,-73.978678,40.760622,1.0,2011-06-01 07:37:00.000000-73.990540.756240.7606-73.9787', u'11.7,Wed,7,-73.995617,40.761073,-73.95405,40.787442,5.0,2011-06-01 07:37:00.000000-73.995640.761140.7874-73.954', u'7.7,Wed,8,-73.962222,40.773149,-73.977572,40.761038,1.0,2012-08-08 08:58:50.000000-73.962240.773140.761-73.9776', u'8.0,Wed,8,-73.939044,40.75764,-73.939044,40.75764,1.0,2013-12-04 08:37:11.000000-73.93940.757640.7576-73.939', u'12.9,Wed,10,-73.971185,40.763971,-73.938883,40.804803,1.0,2010-03-10 10:37:39.000000-73.971240.76440.8048-73.9389', u'9.3,Wed,10,-73.911498,40.825242,-73.90893,40.821763,1.0,2012-08-29 10:22:00.000000-73.911540.825240.8218-73.9089', u'9.3,Wed,10,-73.98505,40.75487,-73.989443,40.744115,1.0,2012-08-29 10:22:00.000000-73.985140.754940.7441-73.9894', u'7.7,Wed,10,-73.978632,40.745242,-73.96184,40.759907,2.0,2012-08-29 10:22:00.000000-73.978640.745240.7599-73.9618', u'5.3,Wed,10,-73.97562,40.74932,-73.973662,40.7569,1.0,2012-08-29 10:22:00.000000-73.975640.749340.7569-73.9737', u'6.1,Wed,10,-73.97917,40.752492,-73.99018,40.751492,1.0,2012-08-29 10:22:00.000000-73.979240.752540.7515-73.9902', u'5.7,Wed,10,-74.005333,40.722483,-74.005333,40.722483,1.0,2012-08-29 10:22:00.000000-74.005340.722540.7225-74.0053', u'10.9,Wed,11,-73.999897,40.737769,-73.974859,40.741819,1.0,2012-02-08 11:14:49.000000-73.999940.737840.7418-73.9749', u'8.5,Wed,13,-73.9997406006,40.7308502197,-73.9928665161,40.7226791382,1.0,2015-03-04 13:33:51.000000-73.999740.730940.7227-73.9929', u'6.0,Wed,13,-73.983967,40.733719,-73.996897,40.728756,1.0,2013-02-27 13:28:43.000000-73.98440.733740.7288-73.9969', u'7.5,Wed,14,-73.962643,40.775723,-73.976838,40.788153,1.0,2013-10-16 14:16:29.000000-73.962640.775740.7882-73.9768', u'7.7,Wed,15,-73.964374,40.764583,-73.954748,40.768299,2.0,2009-12-02 15:59:56.000000-73.964440.764640.7683-73.9547', u'11.0,Wed,15,-73.972038269,40.7618751526,-73.9639663696,40.7744598389,1.0,2015-04-22 15:04:06.000000-73.97240.761940.7745-73.964', u'5.3,Wed,16,-73.982222,40.755527,-73.988847,40.742085,2.0,2009-06-10 16:55:00.000000-73.982240.755540.7421-73.9888', u'4.1,Wed,16,-73.956047,40.772025,-73.962417,40.764277,5.0,2010-09-29 16:43:00.000000-73.95640.77240.7643-73.9624', u'12.9,Wed,16,-74.009312,40.715442,-73.983617,40.754997,5.0,2010-09-29 16:43:00.000000-74.009340.715440.755-73.9836', u'4.5,Wed,16,-73.953697,40.785368,-73.956259,40.77988,1.0,2013-04-03 16:09:02.000000-73.953740.785440.7799-73.9563', u'15.5,Wed,16,-73.9698562622,40.7938117981,-73.9749832153,40.7604293823,1.0,2015-02-11 16:54:00.000000-73.969940.793840.7604-73.975', u'6.5,Wed,16,-73.952351,40.777969,-73.949113,40.785269,1.0,2014-05-07 16:30:51.000000-73.952440.77840.7853-73.9491', u'13.7,Wed,17,-73.980795,40.76435,-74.001558,40.762138,1.0,2012-06-06 17:33:05.000000-73.980840.764440.7621-74.0016', u'9.5,Wed,18,-74.008966,40.74733,-73.995547,40.733404,1.0,2014-08-06 18:03:31.000000-74.00940.747340.7334-73.9955', u'57.33,Wed,18,-73.784168,40.648545,-73.980155,40.764249,1.0,2014-01-22 18:03:10.000000-73.784240.648540.7642-73.9802', u'12.1,Wed,18,-74.004618,40.742356,-73.972105,40.755657,1.0,2010-11-17 18:43:10.000000-74.004640.742440.7557-73.9721', u'14.9,Wed,19,-73.989858,40.758386,-73.953647,40.784266,1.0,2010-09-29 19:08:47.000000-73.989940.758440.7843-73.9536', u'33.7,Wed,19,-73.77679,40.645501,-73.921207,40.744791,1.0,2012-02-08 19:21:47.000000-73.776840.645540.7448-73.9212', u'12.1,Wed,19,-74.014984,40.708718,-73.990861,40.757643,4.0,2011-07-06 19:56:23.000000-74.01540.708740.7576-73.9909', u'6.5,Wed,20,-73.957649,40.769724,-73.942419,40.78633,1.0,2012-09-26 20:00:18.000000-73.957640.769740.7863-73.9424', u'4.5,Wed,20,-73.980993,40.759984,-73.977026,40.753797,1.0,2013-01-30 20:36:44.000000-73.98140.7640.7538-73.977', u'5.5,Wed,20,-73.976278,40.758464,-73.970667,40.767672,1.0,2012-09-26 20:00:18.000000-73.976340.758540.7677-73.9707', u'7.4,Wed,21,-73.993424,40.747442,-73.972924,40.764441,1.0,2009-03-11 21:46:54.000000-73.993440.747440.7644-73.9729', u'17.3,Wed,21,-73.776737,40.645335,-73.834435,40.713617,1.0,2009-11-11 21:20:18.000000-73.776740.645340.7136-73.8344', u'17.5,Wed,21,-74.0149230957,40.7157058716,-73.9840545654,40.7788352966,1.0,2015-03-04 21:42:57.000000-74.014940.715740.7788-73.9841', u'10.2,Wed,21,-73.992019,40.729443,-73.983079,40.759868,3.0,2009-03-11 21:46:54.000000-73.99240.729440.7599-73.9831', u'9.5,Wed,22,-73.960982,40.719002,-73.970042,40.694107,1.0,2013-09-25 22:00:00.000000-73.96140.71940.6941-73.97', u'6.0,Wed,22,-73.974255,40.731102,-73.984115,40.739235,1.0,2013-09-25 22:00:00.000000-73.974340.731140.7392-73.9841', u'23.07,Wed,22,-73.862767,40.768879,-73.941283,40.810137,1.0,2010-07-21 22:06:12.000000-73.862840.768940.8101-73.9413', u'5.5,Wed,22,-73.982143,40.773217,-73.97536,40.787907,1.0,2013-09-25 22:00:00.000000-73.982140.773240.7879-73.9754', u'5.5,Wed,22,-73.991827,40.742632,-73.980212,40.742677,2.0,2013-09-25 22:00:00.000000-73.991840.742640.7427-73.9802', u'5.7,Thu,1,-73.981958,40.757913,-73.96421,40.75457,5.0,2012-04-19 01:17:00.000000-73.98240.757940.7546-73.9642', u'5.3,Thu,1,-73.99871,40.73491,-73.986235,40.752693,1.0,2012-04-19 01:17:00.000000-73.998740.734940.7527-73.9862', u'12.1,Thu,1,-73.987357,40.719837,-73.95004,40.67493,1.0,2012-04-19 01:17:00.000000-73.987440.719840.6749-73.95', u'8.0,Thu,3,-73.99575,40.732921,-73.983059,40.744309,1.0,2013-02-14 03:56:45.000000-73.995840.732940.7443-73.9831', u'14.5,Thu,4,-74.002082,40.728022,-73.963847,40.686952,1.0,2014-03-13 04:24:00.000000-74.002140.72840.687-73.9638', u'3.7,Thu,7,-73.953748,40.785005,-73.956628,40.778058,1.0,2010-12-09 07:29:00.000000-73.953740.78540.7781-73.9566', u'10.5,Thu,7,-74.007573,40.740952,-73.979862,40.764632,5.0,2012-01-26 07:33:00.000000-74.007640.74140.7646-73.9799', u'4.1,Thu,7,-73.964132,40.756605,-73.956725,40.766875,1.0,2010-12-09 07:29:00.000000-73.964140.756640.7669-73.9567', u'2.9,Thu,7,-73.990238,40.756993,-73.9879,40.759913,1.0,2012-01-26 07:33:00.000000-73.990240.75740.7599-73.9879', u'11.7,Thu,7,-73.968165,40.800725,-73.962863,40.76759,1.0,2012-01-26 07:33:00.000000-73.968240.800740.7676-73.9629', u'6.5,Thu,7,-73.986448,40.726012,-73.997667,40.736188,5.0,2010-12-09 07:29:00.000000-73.986440.72640.7362-73.9977', u'14.1,Thu,7,-73.999195,40.76136,-74.013483,40.715202,1.0,2012-01-26 07:33:00.000000-73.999240.761440.7152-74.0135', u'7.7,Thu,7,-73.991382,40.738513,-73.974873,40.757995,5.0,2012-01-26 07:33:00.000000-73.991440.738540.758-73.9749', u'5.7,Thu,10,-73.99085,40.769912,-73.979835,40.764499,2.0,2009-06-11 10:17:20.000000-73.990840.769940.7645-73.9798', u'7.7,Thu,11,-73.958589,40.760196,-73.977966,40.752432,1.0,2009-07-16 11:01:54.000000-73.958640.760240.7524-73.978', u'6.1,Thu,12,-74.005225,40.740596,-74.001542,40.729323,1.0,2012-03-08 12:33:25.000000-74.005240.740640.7293-74.0015', u'7.0,Thu,12,-73.961577,40.777312,-73.945294,40.778813,1.0,2013-03-21 12:47:28.000000-73.961640.777340.7788-73.9453', u'7.0,Thu,12,-73.9528274536,40.7831382751,-73.9627838135,40.7715911865,1.0,2015-02-05 12:53:12.000000-73.952840.783140.7716-73.9628', u'4.1,Thu,13,-74.009639,40.73253,-74.009639,40.73253,1.0,2012-07-19 13:57:19.000000-74.009640.732540.7325-74.0096', u'5.0,Thu,13,-73.9849243164,40.7690887451,-73.9872207642,40.7761230469,2.0,2015-03-12 13:01:54.000000-73.984940.769140.7761-73.9872', u'9.0,Thu,14,-74.001925,40.760808,-73.980002,40.772247,4.0,2013-08-08 14:38:43.000000-74.001940.760840.7722-73.98', u'8.9,Thu,15,-73.982249,40.774122,-73.978669,40.756594,1.0,2010-07-22 15:06:03.000000-73.982240.774140.7566-73.9787', u'3.5,Thu,17,-73.962062,40.800498,-73.969837,40.801268,1.0,2013-11-07 17:01:14.000000-73.962140.800540.8013-73.9698', u'6.1,Thu,18,-73.980678,40.783108,-73.985035,40.778988,1.0,2009-11-05 18:52:00.000000-73.980740.783140.779-73.985', u'4.1,Thu,18,-73.956113,40.771357,-73.954833,40.765442,1.0,2009-11-05 18:52:00.000000-73.956140.771440.7654-73.9548', u'15.7,Thu,18,-73.949877,40.77237,-73.945683,40.719615,1.0,2009-11-05 18:52:00.000000-73.949940.772440.7196-73.9457', u'16.5,Thu,18,-73.9879226685,40.7496910095,-73.9861221313,40.7188224792,1.0,2015-03-26 18:45:10.000000-73.987940.749740.7188-73.9861', u'15.5,Thu,19,-73.9621200562,40.7763328552,-73.9223098755,40.8266334534,6.0,2015-03-12 19:43:24.000000-73.962140.776340.8266-73.9223', u'6.0,Thu,19,-73.990095,40.75006,-73.992892,40.755365,2.0,2013-02-21 19:34:05.000000-73.990140.750140.7554-73.9929', u'9.5,Thu,20,-74.007121,40.741555,-74.008718,40.719374,1.0,2013-08-22 20:04:59.000000-74.007140.741640.7194-74.0087', u'12.1,Thu,20,-73.963286,40.799385,-73.997707,40.761774,1.0,2011-06-09 20:06:42.000000-73.963340.799440.7618-73.9977', u'10.9,Thu,20,-73.946422,40.785082,-73.970915,40.751631,3.0,2011-09-22 20:05:22.000000-73.946440.785140.7516-73.9709', u'30.5,Thu,20,-73.9857788086,40.7439346313,-73.9356994629,40.8414535522,1.0,2015-06-18 20:56:55.000000-73.985840.743940.8415-73.9357', u'3.5,Thu,20,-73.9952316284,40.7252502441,-73.991607666,40.7296714783,1.0,2015-06-18 20:56:55.000000-73.995240.725340.7297-73.9916', u'4.9,Thu,20,-73.978184,40.789087,-73.966398,40.794514,1.0,2012-01-19 20:26:35.000000-73.978240.789140.7945-73.9664', u'12.0,Thu,21,-73.987132,40.729192,-73.96441,40.764667,1.0,2012-10-25 21:09:00.000000-73.987140.729240.7647-73.9644', u'31.5,Thu,21,-73.977065,40.751977,-73.971263,40.686082,6.0,2012-10-25 21:09:00.000000-73.977140.75240.6861-73.9713', u'7.0,Thu,21,-74.002053,40.737722,-73.994072,40.725795,1.0,2012-10-25 21:09:00.000000-74.002140.737740.7258-73.9941', u'12.0,Thu,21,-73.997257,40.742037,-73.988225,40.722945,1.0,2012-10-25 21:09:00.000000-73.997340.74240.7229-73.9882', u'9.5,Thu,21,-73.944097,40.773167,-73.972603,40.768412,1.0,2012-10-25 21:09:00.000000-73.944140.773240.7684-73.9726', u'5.5,Thu,21,-74.007435,40.743137,-73.996627,40.747805,2.0,2012-10-25 21:09:00.000000-74.007440.743140.7478-73.9966', u'21.0,Thu,21,-73.957875,40.718945,-73.992988,40.673102,2.0,2012-10-25 21:09:00.000000-73.957940.718940.6731-73.993', u'3.3,Thu,21,-73.993463,40.757347,-73.998355,40.750785,1.0,2011-06-30 21:50:17.000000-73.993540.757340.7508-73.9984', u'8.5,Thu,22,-73.9970169067,40.7601051331,-73.9880371094,40.7551422119,1.0,2015-04-16 22:32:48.000000-73.99740.760140.7551-73.988', u'18.5,Thu,23,-73.983648,40.741096,-73.969159,40.80195,1.0,2012-12-20 23:43:09.000000-73.983640.741140.8019-73.9692'])\r\n"
     ]
    }
   ],
   "source": [
    "!head $OUTDIR/batch_predict/errors-00000-of-00022.txt"
   ]
  },
  {
   "cell_type": "markdown",
   "metadata": {},
   "source": [
    "<h2> Cloud preprocessing and training </h2>\n",
    "\n",
    "In the above cells, change INDIR and OUTDIR to be GCS.\n",
    "\n",
    "Change the calls from local_predict to cloud_predict. That's it.\n",
    "\n"
   ]
  },
  {
   "cell_type": "markdown",
   "metadata": {},
   "source": [
    "Copyright 2016 Google Inc. Licensed under the Apache License, Version 2.0 (the \"License\"); you may not use this file except in compliance with the License. You may obtain a copy of the License at http://www.apache.org/licenses/LICENSE-2.0 Unless required by applicable law or agreed to in writing, software distributed under the License is distributed on an \"AS IS\" BASIS, WITHOUT WARRANTIES OR CONDITIONS OF ANY KIND, either express or implied. See the License for the specific language governing permissions and limitations under the License"
   ]
  }
 ],
 "metadata": {
  "kernelspec": {
   "display_name": "Python 2",
   "language": "python",
   "name": "python2"
  },
  "language_info": {
   "codemirror_mode": {
    "name": "ipython",
    "version": 2
   },
   "file_extension": ".py",
   "mimetype": "text/x-python",
   "name": "python",
   "nbconvert_exporter": "python",
   "pygments_lexer": "ipython2",
   "version": "2.7.9"
  }
 },
 "nbformat": 4,
 "nbformat_minor": 2
}
